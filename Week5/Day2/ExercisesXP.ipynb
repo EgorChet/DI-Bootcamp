{
 "cells": [
  {
   "cell_type": "markdown",
   "id": "79b22cee-df1c-4e77-a02c-226db4a46e8b",
   "metadata": {},
   "source": [
    "# Exercise 1: Getting & Knowing Your Data (Chipo)"
   ]
  },
  {
   "cell_type": "markdown",
   "id": "559ac881-b70f-49d9-b66a-401d378a4ac0",
   "metadata": {},
   "source": [
    "### Start by importing the necessary libraries."
   ]
  },
  {
   "cell_type": "code",
   "execution_count": 1,
   "id": "6903d87f-732e-4428-8b4b-63ac9511a963",
   "metadata": {},
   "outputs": [],
   "source": [
    "import pandas as pd\n",
    "import numpy as np\n",
    "import random"
   ]
  },
  {
   "cell_type": "markdown",
   "id": "7108ee33-cbc2-480c-85d8-3add068c9405",
   "metadata": {},
   "source": [
    "### Retrieve the dataset from this link and assign it to a variable ‘chipo’. Display the first 10 rows of ‘chipo’ using the head() function."
   ]
  },
  {
   "cell_type": "code",
   "execution_count": 2,
   "id": "8e16e77b-2c60-4525-af41-a76ca1ab6f8a",
   "metadata": {
    "scrolled": true
   },
   "outputs": [
    {
     "data": {
      "text/html": [
       "<div>\n",
       "<style scoped>\n",
       "    .dataframe tbody tr th:only-of-type {\n",
       "        vertical-align: middle;\n",
       "    }\n",
       "\n",
       "    .dataframe tbody tr th {\n",
       "        vertical-align: top;\n",
       "    }\n",
       "\n",
       "    .dataframe thead th {\n",
       "        text-align: right;\n",
       "    }\n",
       "</style>\n",
       "<table border=\"1\" class=\"dataframe\">\n",
       "  <thead>\n",
       "    <tr style=\"text-align: right;\">\n",
       "      <th></th>\n",
       "      <th>order_id</th>\n",
       "      <th>quantity</th>\n",
       "      <th>item_name</th>\n",
       "      <th>choice_description</th>\n",
       "      <th>item_price</th>\n",
       "    </tr>\n",
       "  </thead>\n",
       "  <tbody>\n",
       "    <tr>\n",
       "      <th>0</th>\n",
       "      <td>1</td>\n",
       "      <td>1</td>\n",
       "      <td>Chips and Fresh Tomato Salsa</td>\n",
       "      <td>NaN</td>\n",
       "      <td>$2.39</td>\n",
       "    </tr>\n",
       "    <tr>\n",
       "      <th>1</th>\n",
       "      <td>1</td>\n",
       "      <td>1</td>\n",
       "      <td>Izze</td>\n",
       "      <td>[Clementine]</td>\n",
       "      <td>$3.39</td>\n",
       "    </tr>\n",
       "    <tr>\n",
       "      <th>2</th>\n",
       "      <td>1</td>\n",
       "      <td>1</td>\n",
       "      <td>Nantucket Nectar</td>\n",
       "      <td>[Apple]</td>\n",
       "      <td>$3.39</td>\n",
       "    </tr>\n",
       "    <tr>\n",
       "      <th>3</th>\n",
       "      <td>1</td>\n",
       "      <td>1</td>\n",
       "      <td>Chips and Tomatillo-Green Chili Salsa</td>\n",
       "      <td>NaN</td>\n",
       "      <td>$2.39</td>\n",
       "    </tr>\n",
       "    <tr>\n",
       "      <th>4</th>\n",
       "      <td>2</td>\n",
       "      <td>2</td>\n",
       "      <td>Chicken Bowl</td>\n",
       "      <td>[Tomatillo-Red Chili Salsa (Hot), [Black Beans...</td>\n",
       "      <td>$16.98</td>\n",
       "    </tr>\n",
       "    <tr>\n",
       "      <th>5</th>\n",
       "      <td>3</td>\n",
       "      <td>1</td>\n",
       "      <td>Chicken Bowl</td>\n",
       "      <td>[Fresh Tomato Salsa (Mild), [Rice, Cheese, Sou...</td>\n",
       "      <td>$10.98</td>\n",
       "    </tr>\n",
       "    <tr>\n",
       "      <th>6</th>\n",
       "      <td>3</td>\n",
       "      <td>1</td>\n",
       "      <td>Side of Chips</td>\n",
       "      <td>NaN</td>\n",
       "      <td>$1.69</td>\n",
       "    </tr>\n",
       "    <tr>\n",
       "      <th>7</th>\n",
       "      <td>4</td>\n",
       "      <td>1</td>\n",
       "      <td>Steak Burrito</td>\n",
       "      <td>[Tomatillo Red Chili Salsa, [Fajita Vegetables...</td>\n",
       "      <td>$11.75</td>\n",
       "    </tr>\n",
       "    <tr>\n",
       "      <th>8</th>\n",
       "      <td>4</td>\n",
       "      <td>1</td>\n",
       "      <td>Steak Soft Tacos</td>\n",
       "      <td>[Tomatillo Green Chili Salsa, [Pinto Beans, Ch...</td>\n",
       "      <td>$9.25</td>\n",
       "    </tr>\n",
       "    <tr>\n",
       "      <th>9</th>\n",
       "      <td>5</td>\n",
       "      <td>1</td>\n",
       "      <td>Steak Burrito</td>\n",
       "      <td>[Fresh Tomato Salsa, [Rice, Black Beans, Pinto...</td>\n",
       "      <td>$9.25</td>\n",
       "    </tr>\n",
       "  </tbody>\n",
       "</table>\n",
       "</div>"
      ],
      "text/plain": [
       "   order_id  quantity                              item_name  \\\n",
       "0         1         1           Chips and Fresh Tomato Salsa   \n",
       "1         1         1                                   Izze   \n",
       "2         1         1                       Nantucket Nectar   \n",
       "3         1         1  Chips and Tomatillo-Green Chili Salsa   \n",
       "4         2         2                           Chicken Bowl   \n",
       "5         3         1                           Chicken Bowl   \n",
       "6         3         1                          Side of Chips   \n",
       "7         4         1                          Steak Burrito   \n",
       "8         4         1                       Steak Soft Tacos   \n",
       "9         5         1                          Steak Burrito   \n",
       "\n",
       "                                  choice_description item_price  \n",
       "0                                                NaN     $2.39   \n",
       "1                                       [Clementine]     $3.39   \n",
       "2                                            [Apple]     $3.39   \n",
       "3                                                NaN     $2.39   \n",
       "4  [Tomatillo-Red Chili Salsa (Hot), [Black Beans...    $16.98   \n",
       "5  [Fresh Tomato Salsa (Mild), [Rice, Cheese, Sou...    $10.98   \n",
       "6                                                NaN     $1.69   \n",
       "7  [Tomatillo Red Chili Salsa, [Fajita Vegetables...    $11.75   \n",
       "8  [Tomatillo Green Chili Salsa, [Pinto Beans, Ch...     $9.25   \n",
       "9  [Fresh Tomato Salsa, [Rice, Black Beans, Pinto...     $9.25   "
      ]
     },
     "execution_count": 2,
     "metadata": {},
     "output_type": "execute_result"
    }
   ],
   "source": [
    "data = pd.read_csv('chipo.tsv', sep='\\t')\n",
    "data.head(10)"
   ]
  },
  {
   "cell_type": "markdown",
   "id": "4d798502-56cd-4cdf-905e-b90ad38eef6c",
   "metadata": {},
   "source": [
    "### Determine the total number of entries (rows) in ‘chipo’ using shape or info().\n"
   ]
  },
  {
   "cell_type": "code",
   "execution_count": 3,
   "id": "55902c4c-addb-4e33-b47a-2880e6bd601d",
   "metadata": {},
   "outputs": [
    {
     "name": "stdout",
     "output_type": "stream",
     "text": [
      "<class 'pandas.core.frame.DataFrame'>\n",
      "RangeIndex: 4622 entries, 0 to 4621\n",
      "Data columns (total 5 columns):\n",
      " #   Column              Non-Null Count  Dtype \n",
      "---  ------              --------------  ----- \n",
      " 0   order_id            4622 non-null   int64 \n",
      " 1   quantity            4622 non-null   int64 \n",
      " 2   item_name           4622 non-null   object\n",
      " 3   choice_description  3376 non-null   object\n",
      " 4   item_price          4622 non-null   object\n",
      "dtypes: int64(2), object(3)\n",
      "memory usage: 180.7+ KB\n"
     ]
    }
   ],
   "source": [
    "data.info()"
   ]
  },
  {
   "cell_type": "markdown",
   "id": "7a107eb4-b7c9-4ae7-9592-62ca60bd1f82",
   "metadata": {},
   "source": [
    "### Use shape or columns to find the total number of columns in ‘chipo’."
   ]
  },
  {
   "cell_type": "code",
   "execution_count": 4,
   "id": "90283dcb-a78a-4138-ab6b-17ea69706e58",
   "metadata": {},
   "outputs": [
    {
     "data": {
      "text/plain": [
       "(4622, 5)"
      ]
     },
     "execution_count": 4,
     "metadata": {},
     "output_type": "execute_result"
    }
   ],
   "source": [
    "data.shape"
   ]
  },
  {
   "cell_type": "markdown",
   "id": "609613cb-7bd8-4fd8-be0e-4d05ae8d9b9c",
   "metadata": {},
   "source": [
    "### Use columns to print all the column names."
   ]
  },
  {
   "cell_type": "code",
   "execution_count": 5,
   "id": "579133a8-0222-41e3-9136-fecd2bee3ca2",
   "metadata": {},
   "outputs": [
    {
     "data": {
      "text/plain": [
       "Index(['order_id', 'quantity', 'item_name', 'choice_description',\n",
       "       'item_price'],\n",
       "      dtype='object')"
      ]
     },
     "execution_count": 5,
     "metadata": {},
     "output_type": "execute_result"
    }
   ],
   "source": [
    "data.columns"
   ]
  },
  {
   "cell_type": "markdown",
   "id": "ab215d61-3d89-4e84-87d6-ca621ef9f568",
   "metadata": {},
   "source": [
    "### Utilize index to understand how the DataFrame is indexed.\n"
   ]
  },
  {
   "cell_type": "code",
   "execution_count": 6,
   "id": "26e406e7-cae0-4ee8-8146-feca5724e1f5",
   "metadata": {},
   "outputs": [
    {
     "data": {
      "text/plain": [
       "RangeIndex(start=0, stop=4622, step=1)"
      ]
     },
     "execution_count": 6,
     "metadata": {},
     "output_type": "execute_result"
    }
   ],
   "source": [
    "data.index"
   ]
  },
  {
   "cell_type": "markdown",
   "id": "a31be459-bc22-4c20-90da-b6a8bb1b6002",
   "metadata": {},
   "source": [
    "### Use the value_counts() method on the ‘item_name’ column to find the most ordered item."
   ]
  },
  {
   "cell_type": "code",
   "execution_count": 7,
   "id": "6cbb00aa-0eff-4434-9026-4f159aec9a40",
   "metadata": {},
   "outputs": [
    {
     "data": {
      "text/plain": [
       "item_name\n",
       "Chicken Bowl                             726\n",
       "Chicken Burrito                          553\n",
       "Chips and Guacamole                      479\n",
       "Steak Burrito                            368\n",
       "Canned Soft Drink                        301\n",
       "Steak Bowl                               211\n",
       "Chips                                    211\n",
       "Bottled Water                            162\n",
       "Chicken Soft Tacos                       115\n",
       "Chips and Fresh Tomato Salsa             110\n",
       "Chicken Salad Bowl                       110\n",
       "Canned Soda                              104\n",
       "Side of Chips                            101\n",
       "Veggie Burrito                            95\n",
       "Barbacoa Burrito                          91\n",
       "Veggie Bowl                               85\n",
       "Carnitas Bowl                             68\n",
       "Barbacoa Bowl                             66\n",
       "Carnitas Burrito                          59\n",
       "Steak Soft Tacos                          55\n",
       "6 Pack Soft Drink                         54\n",
       "Chips and Tomatillo Red Chili Salsa       48\n",
       "Chicken Crispy Tacos                      47\n",
       "Chips and Tomatillo Green Chili Salsa     43\n",
       "Carnitas Soft Tacos                       40\n",
       "Steak Crispy Tacos                        35\n",
       "Chips and Tomatillo-Green Chili Salsa     31\n",
       "Steak Salad Bowl                          29\n",
       "Nantucket Nectar                          27\n",
       "Barbacoa Soft Tacos                       25\n",
       "Chips and Roasted Chili Corn Salsa        22\n",
       "Izze                                      20\n",
       "Chips and Tomatillo-Red Chili Salsa       20\n",
       "Veggie Salad Bowl                         18\n",
       "Chips and Roasted Chili-Corn Salsa        18\n",
       "Barbacoa Crispy Tacos                     11\n",
       "Barbacoa Salad Bowl                       10\n",
       "Chicken Salad                              9\n",
       "Veggie Soft Tacos                          7\n",
       "Carnitas Crispy Tacos                      7\n",
       "Veggie Salad                               6\n",
       "Carnitas Salad Bowl                        6\n",
       "Burrito                                    6\n",
       "Steak Salad                                4\n",
       "Crispy Tacos                               2\n",
       "Salad                                      2\n",
       "Bowl                                       2\n",
       "Chips and Mild Fresh Tomato Salsa          1\n",
       "Veggie Crispy Tacos                        1\n",
       "Carnitas Salad                             1\n",
       "Name: count, dtype: int64"
      ]
     },
     "execution_count": 7,
     "metadata": {},
     "output_type": "execute_result"
    }
   ],
   "source": [
    "most_ordered_item = data['item_name'].value_counts()\n",
    "most_ordered_item"
   ]
  },
  {
   "cell_type": "markdown",
   "id": "c45766f0-1656-4154-a392-26afe79976c6",
   "metadata": {},
   "source": [
    "\n",
    "\n",
    "### Find the total number of items ordered by summing the ‘quantity’ column."
   ]
  },
  {
   "cell_type": "code",
   "execution_count": 8,
   "id": "add4bf9f-c7a3-43a5-bacc-125ce6e596ba",
   "metadata": {},
   "outputs": [
    {
     "data": {
      "text/plain": [
       "4972"
      ]
     },
     "execution_count": 8,
     "metadata": {},
     "output_type": "execute_result"
    }
   ],
   "source": [
    "total_items_ordered = data['quantity'].sum()\n",
    "total_items_ordered"
   ]
  },
  {
   "cell_type": "markdown",
   "id": "a532ad1a-b3d5-473d-92f9-d8c751a5c6d9",
   "metadata": {},
   "source": [
    "### Use value_counts() on ‘choice_description’ to find the most ordered item from this column."
   ]
  },
  {
   "cell_type": "code",
   "execution_count": 9,
   "id": "51bc9d89-37a2-47eb-8587-756ef0a2c95f",
   "metadata": {
    "scrolled": true
   },
   "outputs": [
    {
     "data": {
      "text/plain": [
       "choice_description\n",
       "[Diet Coke]    134\n",
       "Name: count, dtype: int64"
      ]
     },
     "execution_count": 9,
     "metadata": {},
     "output_type": "execute_result"
    }
   ],
   "source": [
    "choice_description_counts = data['choice_description'].value_counts()\n",
    "choice_description_counts.head(1)\n"
   ]
  },
  {
   "cell_type": "markdown",
   "id": "7b0fe98c-a6aa-4980-a97b-b3c5a5533a53",
   "metadata": {},
   "source": [
    "### Convert ‘item_price’ to a float datatype using apply() and lambda. (Hint: You’ll need to remove the ‘$’ from the prices first)"
   ]
  },
  {
   "cell_type": "code",
   "execution_count": 10,
   "id": "cfe595e0-b021-4a73-b380-ce1110932697",
   "metadata": {},
   "outputs": [
    {
     "data": {
      "text/plain": [
       "0     2.39 \n",
       "1     3.39 \n",
       "2     3.39 \n",
       "3     2.39 \n",
       "4    16.98 \n",
       "Name: item_price, dtype: object"
      ]
     },
     "execution_count": 10,
     "metadata": {},
     "output_type": "execute_result"
    }
   ],
   "source": [
    "data['item_price'] = data['item_price'].astype(str)\n",
    "data['item_price'] = data['item_price'].str.replace('$', '')\n",
    "data['item_price'].head()"
   ]
  },
  {
   "cell_type": "markdown",
   "id": "b9b97481-adea-42b4-a613-00ed0c16854e",
   "metadata": {},
   "source": [
    "### Calculate the total revenue for the dataset by summing the ‘item_price’ column."
   ]
  },
  {
   "cell_type": "code",
   "execution_count": 11,
   "id": "1e373bb7-eef0-4ed8-a0ce-54e322978bbb",
   "metadata": {},
   "outputs": [
    {
     "name": "stdout",
     "output_type": "stream",
     "text": [
      "The total revenue is: 34500$\n"
     ]
    }
   ],
   "source": [
    "data['item_price'] = data['item_price'].astype(float)\n",
    "total_revenue = data['item_price'].sum()\n",
    "print(f\"The total revenue is: {total_revenue:.0f}$\")"
   ]
  },
  {
   "cell_type": "markdown",
   "id": "ca79cf7d-7ccc-476b-8b8b-a1ee7eb554e6",
   "metadata": {},
   "source": [
    "### Find the total number of orders by using the nunique() function on the ‘order_id’ column.\n"
   ]
  },
  {
   "cell_type": "code",
   "execution_count": 12,
   "id": "b0fe7c5a-8b95-4cf8-8e76-508a75a224ae",
   "metadata": {},
   "outputs": [
    {
     "data": {
      "text/plain": [
       "1834"
      ]
     },
     "execution_count": 12,
     "metadata": {},
     "output_type": "execute_result"
    }
   ],
   "source": [
    "Total_Number_Of_Orders = data['order_id'].nunique()\n",
    "Total_Number_Of_Orders"
   ]
  },
  {
   "cell_type": "markdown",
   "id": "fcfffcbf-b94e-4416-bc97-ebe383f87960",
   "metadata": {},
   "source": [
    "### Compute the average order value by dividing the total revenue by the number of orders."
   ]
  },
  {
   "cell_type": "code",
   "execution_count": 13,
   "id": "6f3744d5-0a9d-4cc4-b71c-a82e3777e248",
   "metadata": {},
   "outputs": [
    {
     "data": {
      "text/plain": [
       "18.811428571428575"
      ]
     },
     "execution_count": 13,
     "metadata": {},
     "output_type": "execute_result"
    }
   ],
   "source": [
    "Average_Order_Value = total_revenue / Total_Number_Of_Orders\n",
    "Average_Order_Value"
   ]
  },
  {
   "cell_type": "markdown",
   "id": "0672f0a0-6c2a-4e75-b125-961313a8de8d",
   "metadata": {},
   "source": [
    "### Determine the total number of unique items sold using the nunique() function on the ‘item_name’ column."
   ]
  },
  {
   "cell_type": "code",
   "execution_count": 14,
   "id": "30352fed-1645-47c3-9f33-2d35c2c18148",
   "metadata": {},
   "outputs": [
    {
     "data": {
      "text/plain": [
       "50"
      ]
     },
     "execution_count": 14,
     "metadata": {},
     "output_type": "execute_result"
    }
   ],
   "source": [
    "total_number_of_unique_items_sold = data['item_name'].nunique()\n",
    "total_number_of_unique_items_sold"
   ]
  },
  {
   "cell_type": "markdown",
   "id": "8757d7fa-c37e-4e6d-a569-e83c55c75a2e",
   "metadata": {},
   "source": [
    "# Exercise 2: Filtering & Sorting (Chipo)"
   ]
  },
  {
   "cell_type": "markdown",
   "id": "a7bbd35c-ed9f-4bca-ae2f-86255884d2f7",
   "metadata": {},
   "source": [
    "### Use the already created dataframe ‘chipo’ from the previous section. Using conditional selection, find the count of products that cost more than $10. Note: the price is listed in the ‘item_price’ column."
   ]
  },
  {
   "cell_type": "code",
   "execution_count": 15,
   "id": "3da2eace-753b-4f36-a931-6c0b0732c08a",
   "metadata": {},
   "outputs": [
    {
     "name": "stdout",
     "output_type": "stream",
     "text": [
      "<class 'pandas.core.frame.DataFrame'>\n",
      "Index: 1130 entries, 4 to 4619\n",
      "Data columns (total 5 columns):\n",
      " #   Column              Non-Null Count  Dtype  \n",
      "---  ------              --------------  -----  \n",
      " 0   order_id            1130 non-null   int64  \n",
      " 1   quantity            1130 non-null   int64  \n",
      " 2   item_name           1130 non-null   object \n",
      " 3   choice_description  1123 non-null   object \n",
      " 4   item_price          1130 non-null   float64\n",
      "dtypes: float64(1), int64(2), object(2)\n",
      "memory usage: 53.0+ KB\n"
     ]
    }
   ],
   "source": [
    "products_over_10 = data[data['item_price'] > 10]\n",
    "products_over_10.shape[0]\n",
    "# or just\n",
    "products_over_10.info()"
   ]
  },
  {
   "cell_type": "markdown",
   "id": "9aa2d9e9-cb54-4302-894f-42e55971bdc5",
   "metadata": {},
   "source": [
    "# Exercise 3: Grouping (Users)"
   ]
  },
  {
   "cell_type": "markdown",
   "id": "ee85cef0-c644-45d2-a5c6-32ad68108cef",
   "metadata": {},
   "source": [
    "### Get the dataset from this link and assign it to ‘users’."
   ]
  },
  {
   "cell_type": "code",
   "execution_count": 16,
   "id": "6d65fc65-8293-4cfb-9b89-53875677a829",
   "metadata": {},
   "outputs": [
    {
     "data": {
      "text/html": [
       "<div>\n",
       "<style scoped>\n",
       "    .dataframe tbody tr th:only-of-type {\n",
       "        vertical-align: middle;\n",
       "    }\n",
       "\n",
       "    .dataframe tbody tr th {\n",
       "        vertical-align: top;\n",
       "    }\n",
       "\n",
       "    .dataframe thead th {\n",
       "        text-align: right;\n",
       "    }\n",
       "</style>\n",
       "<table border=\"1\" class=\"dataframe\">\n",
       "  <thead>\n",
       "    <tr style=\"text-align: right;\">\n",
       "      <th></th>\n",
       "      <th>user_id</th>\n",
       "      <th>age</th>\n",
       "      <th>gender</th>\n",
       "      <th>occupation</th>\n",
       "      <th>zip_code</th>\n",
       "    </tr>\n",
       "  </thead>\n",
       "  <tbody>\n",
       "    <tr>\n",
       "      <th>0</th>\n",
       "      <td>1</td>\n",
       "      <td>24</td>\n",
       "      <td>M</td>\n",
       "      <td>technician</td>\n",
       "      <td>85711</td>\n",
       "    </tr>\n",
       "    <tr>\n",
       "      <th>1</th>\n",
       "      <td>2</td>\n",
       "      <td>53</td>\n",
       "      <td>F</td>\n",
       "      <td>other</td>\n",
       "      <td>94043</td>\n",
       "    </tr>\n",
       "    <tr>\n",
       "      <th>2</th>\n",
       "      <td>3</td>\n",
       "      <td>23</td>\n",
       "      <td>M</td>\n",
       "      <td>writer</td>\n",
       "      <td>32067</td>\n",
       "    </tr>\n",
       "    <tr>\n",
       "      <th>3</th>\n",
       "      <td>4</td>\n",
       "      <td>24</td>\n",
       "      <td>M</td>\n",
       "      <td>technician</td>\n",
       "      <td>43537</td>\n",
       "    </tr>\n",
       "    <tr>\n",
       "      <th>4</th>\n",
       "      <td>5</td>\n",
       "      <td>33</td>\n",
       "      <td>F</td>\n",
       "      <td>other</td>\n",
       "      <td>15213</td>\n",
       "    </tr>\n",
       "  </tbody>\n",
       "</table>\n",
       "</div>"
      ],
      "text/plain": [
       "   user_id  age gender  occupation zip_code\n",
       "0        1   24      M  technician    85711\n",
       "1        2   53      F       other    94043\n",
       "2        3   23      M      writer    32067\n",
       "3        4   24      M  technician    43537\n",
       "4        5   33      F       other    15213"
      ]
     },
     "execution_count": 16,
     "metadata": {},
     "output_type": "execute_result"
    }
   ],
   "source": [
    "users = pd.read_csv('u.user.txt', sep='|')\n",
    "users.head()"
   ]
  },
  {
   "cell_type": "markdown",
   "id": "7f8f0ada-5865-4ac8-ac1b-3e97f017816c",
   "metadata": {},
   "source": [
    "### Use the groupby() function to find the mean age per occupation."
   ]
  },
  {
   "cell_type": "code",
   "execution_count": 17,
   "id": "18dd97ac-f090-4726-aef4-fc873831d2b2",
   "metadata": {},
   "outputs": [
    {
     "data": {
      "text/plain": [
       "occupation\n",
       "administrator    38.746835\n",
       "artist           31.392857\n",
       "doctor           43.571429\n",
       "educator         42.010526\n",
       "engineer         36.388060\n",
       "entertainment    29.222222\n",
       "executive        38.718750\n",
       "healthcare       41.562500\n",
       "homemaker        32.571429\n",
       "lawyer           36.750000\n",
       "librarian        40.000000\n",
       "marketing        37.615385\n",
       "none             26.555556\n",
       "other            34.523810\n",
       "programmer       33.121212\n",
       "retired          63.071429\n",
       "salesman         35.666667\n",
       "scientist        35.548387\n",
       "student          22.081633\n",
       "technician       33.148148\n",
       "writer           36.311111\n",
       "Name: age, dtype: float64"
      ]
     },
     "execution_count": 17,
     "metadata": {},
     "output_type": "execute_result"
    }
   ],
   "source": [
    "mean_age_per_occupation = users.groupby('occupation')['age'].mean()\n",
    "mean_age_per_occupation"
   ]
  },
  {
   "cell_type": "markdown",
   "id": "4ee67d34-f7f3-4b56-9889-e3a948614e07",
   "metadata": {},
   "source": [
    " #  Exercise 4: Merge (All_data, All_data_col, Data3)\n"
   ]
  },
  {
   "cell_type": "markdown",
   "id": "dc7e0c71-ad3a-4779-97e6-679dab6cf2dd",
   "metadata": {},
   "source": [
    "### Create three DataFrames with the following suggested structure. Feel free to populate them with your own data:\n",
    "\n",
    "##### ‘data1’: Columns could be ‘ID’ (integer values) and ‘Name’ (string values)\n",
    "##### ‘data2’: Columns could be ‘ID’ (integer values) and ‘Name’ (string values)\n",
    "##### ‘data3’: Columns could be ‘ID’ (integer values) and ‘Score’ (integer values between 0-100)"
   ]
  },
  {
   "cell_type": "code",
   "execution_count": 18,
   "id": "a8ef50b4-e53a-4b32-a15c-49417cd247e5",
   "metadata": {},
   "outputs": [
    {
     "data": {
      "text/html": [
       "<div>\n",
       "<style scoped>\n",
       "    .dataframe tbody tr th:only-of-type {\n",
       "        vertical-align: middle;\n",
       "    }\n",
       "\n",
       "    .dataframe tbody tr th {\n",
       "        vertical-align: top;\n",
       "    }\n",
       "\n",
       "    .dataframe thead th {\n",
       "        text-align: right;\n",
       "    }\n",
       "</style>\n",
       "<table border=\"1\" class=\"dataframe\">\n",
       "  <thead>\n",
       "    <tr style=\"text-align: right;\">\n",
       "      <th></th>\n",
       "      <th>ID</th>\n",
       "      <th>Name</th>\n",
       "    </tr>\n",
       "  </thead>\n",
       "  <tbody>\n",
       "    <tr>\n",
       "      <th>0</th>\n",
       "      <td>101</td>\n",
       "      <td>Alice</td>\n",
       "    </tr>\n",
       "    <tr>\n",
       "      <th>1</th>\n",
       "      <td>102</td>\n",
       "      <td>Bob</td>\n",
       "    </tr>\n",
       "    <tr>\n",
       "      <th>2</th>\n",
       "      <td>103</td>\n",
       "      <td>Charlie</td>\n",
       "    </tr>\n",
       "    <tr>\n",
       "      <th>3</th>\n",
       "      <td>104</td>\n",
       "      <td>David</td>\n",
       "    </tr>\n",
       "    <tr>\n",
       "      <th>4</th>\n",
       "      <td>105</td>\n",
       "      <td>Eve</td>\n",
       "    </tr>\n",
       "  </tbody>\n",
       "</table>\n",
       "</div>"
      ],
      "text/plain": [
       "    ID     Name\n",
       "0  101    Alice\n",
       "1  102      Bob\n",
       "2  103  Charlie\n",
       "3  104    David\n",
       "4  105      Eve"
      ]
     },
     "execution_count": 18,
     "metadata": {},
     "output_type": "execute_result"
    }
   ],
   "source": [
    "data1 = pd.DataFrame({\n",
    "    'ID': [101, 102, 103, 104, 105],\n",
    "    'Name': ['Alice', 'Bob', 'Charlie', 'David', 'Eve']\n",
    "})\n",
    "\n",
    "data1"
   ]
  },
  {
   "cell_type": "code",
   "execution_count": 19,
   "id": "69702d56-daf7-4b61-b9b4-43d09f02ef39",
   "metadata": {},
   "outputs": [
    {
     "data": {
      "text/html": [
       "<div>\n",
       "<style scoped>\n",
       "    .dataframe tbody tr th:only-of-type {\n",
       "        vertical-align: middle;\n",
       "    }\n",
       "\n",
       "    .dataframe tbody tr th {\n",
       "        vertical-align: top;\n",
       "    }\n",
       "\n",
       "    .dataframe thead th {\n",
       "        text-align: right;\n",
       "    }\n",
       "</style>\n",
       "<table border=\"1\" class=\"dataframe\">\n",
       "  <thead>\n",
       "    <tr style=\"text-align: right;\">\n",
       "      <th></th>\n",
       "      <th>ID</th>\n",
       "      <th>Name</th>\n",
       "    </tr>\n",
       "  </thead>\n",
       "  <tbody>\n",
       "    <tr>\n",
       "      <th>0</th>\n",
       "      <td>201</td>\n",
       "      <td>Frank</td>\n",
       "    </tr>\n",
       "    <tr>\n",
       "      <th>1</th>\n",
       "      <td>202</td>\n",
       "      <td>Grace</td>\n",
       "    </tr>\n",
       "    <tr>\n",
       "      <th>2</th>\n",
       "      <td>203</td>\n",
       "      <td>Hannah</td>\n",
       "    </tr>\n",
       "    <tr>\n",
       "      <th>3</th>\n",
       "      <td>204</td>\n",
       "      <td>Ivy</td>\n",
       "    </tr>\n",
       "    <tr>\n",
       "      <th>4</th>\n",
       "      <td>205</td>\n",
       "      <td>Jack</td>\n",
       "    </tr>\n",
       "  </tbody>\n",
       "</table>\n",
       "</div>"
      ],
      "text/plain": [
       "    ID    Name\n",
       "0  201   Frank\n",
       "1  202   Grace\n",
       "2  203  Hannah\n",
       "3  204     Ivy\n",
       "4  205    Jack"
      ]
     },
     "execution_count": 19,
     "metadata": {},
     "output_type": "execute_result"
    }
   ],
   "source": [
    "data2 = pd.DataFrame({\n",
    "    'ID': [201, 202, 203, 204, 205],\n",
    "    'Name': ['Frank', 'Grace', 'Hannah', 'Ivy', 'Jack']\n",
    "})\n",
    "\n",
    "data2"
   ]
  },
  {
   "cell_type": "code",
   "execution_count": 20,
   "id": "7677aaa0-47cb-4bf6-91f8-373b848d5427",
   "metadata": {},
   "outputs": [
    {
     "data": {
      "text/html": [
       "<div>\n",
       "<style scoped>\n",
       "    .dataframe tbody tr th:only-of-type {\n",
       "        vertical-align: middle;\n",
       "    }\n",
       "\n",
       "    .dataframe tbody tr th {\n",
       "        vertical-align: top;\n",
       "    }\n",
       "\n",
       "    .dataframe thead th {\n",
       "        text-align: right;\n",
       "    }\n",
       "</style>\n",
       "<table border=\"1\" class=\"dataframe\">\n",
       "  <thead>\n",
       "    <tr style=\"text-align: right;\">\n",
       "      <th></th>\n",
       "      <th>ID</th>\n",
       "      <th>Score</th>\n",
       "    </tr>\n",
       "  </thead>\n",
       "  <tbody>\n",
       "    <tr>\n",
       "      <th>0</th>\n",
       "      <td>301</td>\n",
       "      <td>24</td>\n",
       "    </tr>\n",
       "    <tr>\n",
       "      <th>1</th>\n",
       "      <td>302</td>\n",
       "      <td>46</td>\n",
       "    </tr>\n",
       "    <tr>\n",
       "      <th>2</th>\n",
       "      <td>303</td>\n",
       "      <td>82</td>\n",
       "    </tr>\n",
       "    <tr>\n",
       "      <th>3</th>\n",
       "      <td>304</td>\n",
       "      <td>46</td>\n",
       "    </tr>\n",
       "    <tr>\n",
       "      <th>4</th>\n",
       "      <td>305</td>\n",
       "      <td>61</td>\n",
       "    </tr>\n",
       "  </tbody>\n",
       "</table>\n",
       "</div>"
      ],
      "text/plain": [
       "    ID  Score\n",
       "0  301     24\n",
       "1  302     46\n",
       "2  303     82\n",
       "3  304     46\n",
       "4  305     61"
      ]
     },
     "execution_count": 20,
     "metadata": {},
     "output_type": "execute_result"
    }
   ],
   "source": [
    "data3 = pd.DataFrame({\n",
    "    'ID': [301, 302, 303, 304, 305],\n",
    "    'Score': [random.randint(0, 100) for _ in range(5)]\n",
    "})\n",
    "\n",
    "data3"
   ]
  },
  {
   "cell_type": "markdown",
   "id": "4b40c152-1080-4395-a050-ec1fbd1988cb",
   "metadata": {},
   "source": [
    "### Merge the two dataframes ‘data1’ and ‘data2’ along rows using the concat() function and assign it to ‘all_data’."
   ]
  },
  {
   "cell_type": "code",
   "execution_count": 21,
   "id": "f96ce6d9-4aad-4fc0-acd3-3ba17649c914",
   "metadata": {},
   "outputs": [
    {
     "name": "stdout",
     "output_type": "stream",
     "text": [
      "    ID     Name\n",
      "0  101    Alice\n",
      "1  102      Bob\n",
      "2  103  Charlie\n",
      "3  104    David\n",
      "4  105      Eve\n",
      "5  201    Frank\n",
      "6  202    Grace\n",
      "7  203   Hannah\n",
      "8  204      Ivy\n",
      "9  205     Jack\n"
     ]
    }
   ],
   "source": [
    "all_data = pd.concat([data1, data2], ignore_index=True)\n",
    "print(all_data)"
   ]
  },
  {
   "cell_type": "markdown",
   "id": "0122953d-2de8-4eb9-98a6-476019f8a5f3",
   "metadata": {},
   "source": [
    "### Merge ‘data1’ and ‘data2’ along columns using concat() and assign it to ‘all_data_col’."
   ]
  },
  {
   "cell_type": "code",
   "execution_count": 22,
   "id": "3335baaf-b572-4038-89e0-fd07b7d9d083",
   "metadata": {},
   "outputs": [
    {
     "name": "stdout",
     "output_type": "stream",
     "text": [
      "    ID     Name   ID    Name\n",
      "0  101    Alice  201   Frank\n",
      "1  102      Bob  202   Grace\n",
      "2  103  Charlie  203  Hannah\n",
      "3  104    David  204     Ivy\n",
      "4  105      Eve  205    Jack\n"
     ]
    }
   ],
   "source": [
    "all_data_col = pd.concat([data1, data2], axis=1)\n",
    "print(all_data_col)"
   ]
  },
  {
   "cell_type": "markdown",
   "id": "aa98c406-7572-41d5-877a-99093c7bf755",
   "metadata": {},
   "source": [
    "# Exercise 5: Deleting (Iris)"
   ]
  },
  {
   "cell_type": "markdown",
   "id": "b935cef2-6dff-4e70-b104-051a92a81c86",
   "metadata": {},
   "source": [
    "### Retrieve the dataset from this link and assign it to ‘iris’."
   ]
  },
  {
   "cell_type": "code",
   "execution_count": 23,
   "id": "efd3883e-ab58-41d7-9dc1-c99039b1a059",
   "metadata": {},
   "outputs": [
    {
     "data": {
      "text/html": [
       "<div>\n",
       "<style scoped>\n",
       "    .dataframe tbody tr th:only-of-type {\n",
       "        vertical-align: middle;\n",
       "    }\n",
       "\n",
       "    .dataframe tbody tr th {\n",
       "        vertical-align: top;\n",
       "    }\n",
       "\n",
       "    .dataframe thead th {\n",
       "        text-align: right;\n",
       "    }\n",
       "</style>\n",
       "<table border=\"1\" class=\"dataframe\">\n",
       "  <thead>\n",
       "    <tr style=\"text-align: right;\">\n",
       "      <th></th>\n",
       "      <th>5.1</th>\n",
       "      <th>3.5</th>\n",
       "      <th>1.4</th>\n",
       "      <th>0.2</th>\n",
       "      <th>Iris-setosa</th>\n",
       "    </tr>\n",
       "  </thead>\n",
       "  <tbody>\n",
       "    <tr>\n",
       "      <th>0</th>\n",
       "      <td>4.9</td>\n",
       "      <td>3.0</td>\n",
       "      <td>1.4</td>\n",
       "      <td>0.2</td>\n",
       "      <td>Iris-setosa</td>\n",
       "    </tr>\n",
       "    <tr>\n",
       "      <th>1</th>\n",
       "      <td>4.7</td>\n",
       "      <td>3.2</td>\n",
       "      <td>1.3</td>\n",
       "      <td>0.2</td>\n",
       "      <td>Iris-setosa</td>\n",
       "    </tr>\n",
       "    <tr>\n",
       "      <th>2</th>\n",
       "      <td>4.6</td>\n",
       "      <td>3.1</td>\n",
       "      <td>1.5</td>\n",
       "      <td>0.2</td>\n",
       "      <td>Iris-setosa</td>\n",
       "    </tr>\n",
       "    <tr>\n",
       "      <th>3</th>\n",
       "      <td>5.0</td>\n",
       "      <td>3.6</td>\n",
       "      <td>1.4</td>\n",
       "      <td>0.2</td>\n",
       "      <td>Iris-setosa</td>\n",
       "    </tr>\n",
       "    <tr>\n",
       "      <th>4</th>\n",
       "      <td>5.4</td>\n",
       "      <td>3.9</td>\n",
       "      <td>1.7</td>\n",
       "      <td>0.4</td>\n",
       "      <td>Iris-setosa</td>\n",
       "    </tr>\n",
       "  </tbody>\n",
       "</table>\n",
       "</div>"
      ],
      "text/plain": [
       "   5.1  3.5  1.4  0.2  Iris-setosa\n",
       "0  4.9  3.0  1.4  0.2  Iris-setosa\n",
       "1  4.7  3.2  1.3  0.2  Iris-setosa\n",
       "2  4.6  3.1  1.5  0.2  Iris-setosa\n",
       "3  5.0  3.6  1.4  0.2  Iris-setosa\n",
       "4  5.4  3.9  1.7  0.4  Iris-setosa"
      ]
     },
     "execution_count": 23,
     "metadata": {},
     "output_type": "execute_result"
    }
   ],
   "source": [
    "iris = pd.read_csv('iris.data.txt')\n",
    "iris.head()"
   ]
  },
  {
   "cell_type": "markdown",
   "id": "762a8fa5-464e-4860-80e9-3a35e4b0c754",
   "metadata": {},
   "source": [
    "### Assign appropriate column names to the DataFrame, such as ‘sepal_length’, ‘sepal_width’, ‘petal_length’, ‘petal_width’, and ‘species’."
   ]
  },
  {
   "cell_type": "code",
   "execution_count": 24,
   "id": "5cee7350-0313-43e3-813c-d0212cbb2161",
   "metadata": {},
   "outputs": [
    {
     "data": {
      "text/html": [
       "<div>\n",
       "<style scoped>\n",
       "    .dataframe tbody tr th:only-of-type {\n",
       "        vertical-align: middle;\n",
       "    }\n",
       "\n",
       "    .dataframe tbody tr th {\n",
       "        vertical-align: top;\n",
       "    }\n",
       "\n",
       "    .dataframe thead th {\n",
       "        text-align: right;\n",
       "    }\n",
       "</style>\n",
       "<table border=\"1\" class=\"dataframe\">\n",
       "  <thead>\n",
       "    <tr style=\"text-align: right;\">\n",
       "      <th></th>\n",
       "      <th>sepal_length</th>\n",
       "      <th>sepal_width</th>\n",
       "      <th>petal_length</th>\n",
       "      <th>petal_width</th>\n",
       "      <th>species</th>\n",
       "    </tr>\n",
       "  </thead>\n",
       "  <tbody>\n",
       "    <tr>\n",
       "      <th>0</th>\n",
       "      <td>4.9</td>\n",
       "      <td>3.0</td>\n",
       "      <td>1.4</td>\n",
       "      <td>0.2</td>\n",
       "      <td>Iris-setosa</td>\n",
       "    </tr>\n",
       "    <tr>\n",
       "      <th>1</th>\n",
       "      <td>4.7</td>\n",
       "      <td>3.2</td>\n",
       "      <td>1.3</td>\n",
       "      <td>0.2</td>\n",
       "      <td>Iris-setosa</td>\n",
       "    </tr>\n",
       "    <tr>\n",
       "      <th>2</th>\n",
       "      <td>4.6</td>\n",
       "      <td>3.1</td>\n",
       "      <td>1.5</td>\n",
       "      <td>0.2</td>\n",
       "      <td>Iris-setosa</td>\n",
       "    </tr>\n",
       "    <tr>\n",
       "      <th>3</th>\n",
       "      <td>5.0</td>\n",
       "      <td>3.6</td>\n",
       "      <td>1.4</td>\n",
       "      <td>0.2</td>\n",
       "      <td>Iris-setosa</td>\n",
       "    </tr>\n",
       "    <tr>\n",
       "      <th>4</th>\n",
       "      <td>5.4</td>\n",
       "      <td>3.9</td>\n",
       "      <td>1.7</td>\n",
       "      <td>0.4</td>\n",
       "      <td>Iris-setosa</td>\n",
       "    </tr>\n",
       "    <tr>\n",
       "      <th>...</th>\n",
       "      <td>...</td>\n",
       "      <td>...</td>\n",
       "      <td>...</td>\n",
       "      <td>...</td>\n",
       "      <td>...</td>\n",
       "    </tr>\n",
       "    <tr>\n",
       "      <th>144</th>\n",
       "      <td>6.7</td>\n",
       "      <td>3.0</td>\n",
       "      <td>5.2</td>\n",
       "      <td>2.3</td>\n",
       "      <td>Iris-virginica</td>\n",
       "    </tr>\n",
       "    <tr>\n",
       "      <th>145</th>\n",
       "      <td>6.3</td>\n",
       "      <td>2.5</td>\n",
       "      <td>5.0</td>\n",
       "      <td>1.9</td>\n",
       "      <td>Iris-virginica</td>\n",
       "    </tr>\n",
       "    <tr>\n",
       "      <th>146</th>\n",
       "      <td>6.5</td>\n",
       "      <td>3.0</td>\n",
       "      <td>5.2</td>\n",
       "      <td>2.0</td>\n",
       "      <td>Iris-virginica</td>\n",
       "    </tr>\n",
       "    <tr>\n",
       "      <th>147</th>\n",
       "      <td>6.2</td>\n",
       "      <td>3.4</td>\n",
       "      <td>5.4</td>\n",
       "      <td>2.3</td>\n",
       "      <td>Iris-virginica</td>\n",
       "    </tr>\n",
       "    <tr>\n",
       "      <th>148</th>\n",
       "      <td>5.9</td>\n",
       "      <td>3.0</td>\n",
       "      <td>5.1</td>\n",
       "      <td>1.8</td>\n",
       "      <td>Iris-virginica</td>\n",
       "    </tr>\n",
       "  </tbody>\n",
       "</table>\n",
       "<p>149 rows × 5 columns</p>\n",
       "</div>"
      ],
      "text/plain": [
       "     sepal_length  sepal_width  petal_length  petal_width         species\n",
       "0             4.9          3.0           1.4          0.2     Iris-setosa\n",
       "1             4.7          3.2           1.3          0.2     Iris-setosa\n",
       "2             4.6          3.1           1.5          0.2     Iris-setosa\n",
       "3             5.0          3.6           1.4          0.2     Iris-setosa\n",
       "4             5.4          3.9           1.7          0.4     Iris-setosa\n",
       "..            ...          ...           ...          ...             ...\n",
       "144           6.7          3.0           5.2          2.3  Iris-virginica\n",
       "145           6.3          2.5           5.0          1.9  Iris-virginica\n",
       "146           6.5          3.0           5.2          2.0  Iris-virginica\n",
       "147           6.2          3.4           5.4          2.3  Iris-virginica\n",
       "148           5.9          3.0           5.1          1.8  Iris-virginica\n",
       "\n",
       "[149 rows x 5 columns]"
      ]
     },
     "execution_count": 24,
     "metadata": {},
     "output_type": "execute_result"
    }
   ],
   "source": [
    "iris.columns = ['sepal_length', 'sepal_width', 'petal_length', 'petal_width', 'species']\n",
    "iris"
   ]
  },
  {
   "cell_type": "markdown",
   "id": "93820a09-f87a-46ef-8fba-35e0c80d246f",
   "metadata": {},
   "source": [
    "### Check if there are any missing values in ‘iris’ using the isnull() function"
   ]
  },
  {
   "cell_type": "code",
   "execution_count": 25,
   "id": "594b6457-aab6-40f7-8234-7572ecb6b056",
   "metadata": {},
   "outputs": [
    {
     "data": {
      "text/plain": [
       "sepal_length    0\n",
       "sepal_width     0\n",
       "petal_length    0\n",
       "petal_width     0\n",
       "species         0\n",
       "dtype: int64"
      ]
     },
     "execution_count": 25,
     "metadata": {},
     "output_type": "execute_result"
    }
   ],
   "source": [
    "iris.isnull().sum()"
   ]
  },
  {
   "cell_type": "markdown",
   "id": "57a4eb7a-7a8e-45e2-8be3-feb3e9c02481",
   "metadata": {},
   "source": [
    "# Exercise 6: Creating Series And DataFrames (Pokemon)"
   ]
  },
  {
   "cell_type": "markdown",
   "id": "aa3e31ab-ffd2-4b64-90e7-c9edb36c2016",
   "metadata": {},
   "source": [
    "### Create a data dictionary with the following structure, then convert it into a DataFrame and name it ‘pokemon’:"
   ]
  },
  {
   "cell_type": "code",
   "execution_count": 26,
   "id": "b7b0db1c-e2b0-4508-81d7-a9a168d8cb98",
   "metadata": {},
   "outputs": [
    {
     "data": {
      "text/html": [
       "<div>\n",
       "<style scoped>\n",
       "    .dataframe tbody tr th:only-of-type {\n",
       "        vertical-align: middle;\n",
       "    }\n",
       "\n",
       "    .dataframe tbody tr th {\n",
       "        vertical-align: top;\n",
       "    }\n",
       "\n",
       "    .dataframe thead th {\n",
       "        text-align: right;\n",
       "    }\n",
       "</style>\n",
       "<table border=\"1\" class=\"dataframe\">\n",
       "  <thead>\n",
       "    <tr style=\"text-align: right;\">\n",
       "      <th></th>\n",
       "      <th>evolution</th>\n",
       "      <th>hp</th>\n",
       "      <th>name</th>\n",
       "      <th>pokedex</th>\n",
       "      <th>type</th>\n",
       "    </tr>\n",
       "  </thead>\n",
       "  <tbody>\n",
       "    <tr>\n",
       "      <th>0</th>\n",
       "      <td>Ivysaur</td>\n",
       "      <td>45</td>\n",
       "      <td>Bulbasaur</td>\n",
       "      <td>yes</td>\n",
       "      <td>grass</td>\n",
       "    </tr>\n",
       "    <tr>\n",
       "      <th>1</th>\n",
       "      <td>Charmeleon</td>\n",
       "      <td>39</td>\n",
       "      <td>Charmander</td>\n",
       "      <td>no</td>\n",
       "      <td>fire</td>\n",
       "    </tr>\n",
       "    <tr>\n",
       "      <th>2</th>\n",
       "      <td>Wartortle</td>\n",
       "      <td>44</td>\n",
       "      <td>Squirtle</td>\n",
       "      <td>yes</td>\n",
       "      <td>water</td>\n",
       "    </tr>\n",
       "    <tr>\n",
       "      <th>3</th>\n",
       "      <td>Metapod</td>\n",
       "      <td>45</td>\n",
       "      <td>Caterpie</td>\n",
       "      <td>no</td>\n",
       "      <td>bug</td>\n",
       "    </tr>\n",
       "  </tbody>\n",
       "</table>\n",
       "</div>"
      ],
      "text/plain": [
       "    evolution  hp        name pokedex   type\n",
       "0     Ivysaur  45   Bulbasaur     yes  grass\n",
       "1  Charmeleon  39  Charmander      no   fire\n",
       "2   Wartortle  44    Squirtle     yes  water\n",
       "3     Metapod  45    Caterpie      no    bug"
      ]
     },
     "execution_count": 26,
     "metadata": {},
     "output_type": "execute_result"
    }
   ],
   "source": [
    "pokemon = {'evolution': ['Ivysaur', 'Charmeleon', 'Wartortle', 'Metapod'],\n",
    "'hp': [45, 39, 44, 45],\n",
    "'name': ['Bulbasaur', 'Charmander', 'Squirtle', 'Caterpie'],\n",
    "'pokedex': ['yes', 'no', 'yes', 'no'],\n",
    "'type': ['grass', 'fire', 'water', 'bug']}\n",
    "\n",
    "pokemon = pd.DataFrame(pokemon)\n",
    "pokemon"
   ]
  },
  {
   "cell_type": "markdown",
   "id": "bef5efd6-8dec-4c73-a438-1f82b12cc9c6",
   "metadata": {},
   "source": [
    "### Rearrange the columns in the order: ‘name’, ‘type’, ‘hp’, ‘evolution’, ‘pokedex’ using simple DataFrame indexing."
   ]
  },
  {
   "cell_type": "code",
   "execution_count": 27,
   "id": "3dd097dc-a278-44dd-b4ee-dab3e72fc4cc",
   "metadata": {},
   "outputs": [
    {
     "data": {
      "text/html": [
       "<div>\n",
       "<style scoped>\n",
       "    .dataframe tbody tr th:only-of-type {\n",
       "        vertical-align: middle;\n",
       "    }\n",
       "\n",
       "    .dataframe tbody tr th {\n",
       "        vertical-align: top;\n",
       "    }\n",
       "\n",
       "    .dataframe thead th {\n",
       "        text-align: right;\n",
       "    }\n",
       "</style>\n",
       "<table border=\"1\" class=\"dataframe\">\n",
       "  <thead>\n",
       "    <tr style=\"text-align: right;\">\n",
       "      <th></th>\n",
       "      <th>name</th>\n",
       "      <th>type</th>\n",
       "      <th>hp</th>\n",
       "      <th>evolution</th>\n",
       "      <th>pokedex</th>\n",
       "    </tr>\n",
       "  </thead>\n",
       "  <tbody>\n",
       "    <tr>\n",
       "      <th>0</th>\n",
       "      <td>Bulbasaur</td>\n",
       "      <td>grass</td>\n",
       "      <td>45</td>\n",
       "      <td>Ivysaur</td>\n",
       "      <td>yes</td>\n",
       "    </tr>\n",
       "    <tr>\n",
       "      <th>1</th>\n",
       "      <td>Charmander</td>\n",
       "      <td>fire</td>\n",
       "      <td>39</td>\n",
       "      <td>Charmeleon</td>\n",
       "      <td>no</td>\n",
       "    </tr>\n",
       "    <tr>\n",
       "      <th>2</th>\n",
       "      <td>Squirtle</td>\n",
       "      <td>water</td>\n",
       "      <td>44</td>\n",
       "      <td>Wartortle</td>\n",
       "      <td>yes</td>\n",
       "    </tr>\n",
       "    <tr>\n",
       "      <th>3</th>\n",
       "      <td>Caterpie</td>\n",
       "      <td>bug</td>\n",
       "      <td>45</td>\n",
       "      <td>Metapod</td>\n",
       "      <td>no</td>\n",
       "    </tr>\n",
       "  </tbody>\n",
       "</table>\n",
       "</div>"
      ],
      "text/plain": [
       "         name   type  hp   evolution pokedex\n",
       "0   Bulbasaur  grass  45     Ivysaur     yes\n",
       "1  Charmander   fire  39  Charmeleon      no\n",
       "2    Squirtle  water  44   Wartortle     yes\n",
       "3    Caterpie    bug  45     Metapod      no"
      ]
     },
     "execution_count": 27,
     "metadata": {},
     "output_type": "execute_result"
    }
   ],
   "source": [
    "pokemon = pokemon[['name', 'type', 'hp', 'evolution', 'pokedex']]\n",
    "pokemon"
   ]
  },
  {
   "cell_type": "markdown",
   "id": "c52bdb10-50c4-42e4-b6a2-14c18111d278",
   "metadata": {},
   "source": [
    "# Exercise 7: Descriptive Statistics (Baby_names)"
   ]
  },
  {
   "cell_type": "markdown",
   "id": "6120dbf3-b2d2-465e-8acf-53c4a8101463",
   "metadata": {},
   "source": [
    "### Download and load the US Baby Names data into a DataFrame named baby_names."
   ]
  },
  {
   "cell_type": "code",
   "execution_count": 28,
   "id": "c858d0b9-6a63-4cf8-9a2b-b05405045c1b",
   "metadata": {},
   "outputs": [
    {
     "name": "stdout",
     "output_type": "stream",
     "text": [
      "<class 'pandas.core.frame.DataFrame'>\n",
      "RangeIndex: 1016395 entries, 0 to 1016394\n",
      "Data columns (total 7 columns):\n",
      " #   Column      Non-Null Count    Dtype \n",
      "---  ------      --------------    ----- \n",
      " 0   Unnamed: 0  1016395 non-null  int64 \n",
      " 1   Id          1016395 non-null  int64 \n",
      " 2   Name        1016395 non-null  object\n",
      " 3   Year        1016395 non-null  int64 \n",
      " 4   Gender      1016395 non-null  object\n",
      " 5   State       1016395 non-null  object\n",
      " 6   Count       1016395 non-null  int64 \n",
      "dtypes: int64(4), object(3)\n",
      "memory usage: 54.3+ MB\n"
     ]
    }
   ],
   "source": [
    "baby_names = pd.read_csv('US_Baby_Names_right.csv')\n",
    "baby_names.info()"
   ]
  },
  {
   "cell_type": "markdown",
   "id": "cb68902a-8fb4-4023-888f-d0d88b324750",
   "metadata": {},
   "source": [
    "### Display the first 10 entries using the head method."
   ]
  },
  {
   "cell_type": "code",
   "execution_count": 29,
   "id": "23767a3a-0757-48a6-9f62-a1321749f6cb",
   "metadata": {},
   "outputs": [
    {
     "data": {
      "text/html": [
       "<div>\n",
       "<style scoped>\n",
       "    .dataframe tbody tr th:only-of-type {\n",
       "        vertical-align: middle;\n",
       "    }\n",
       "\n",
       "    .dataframe tbody tr th {\n",
       "        vertical-align: top;\n",
       "    }\n",
       "\n",
       "    .dataframe thead th {\n",
       "        text-align: right;\n",
       "    }\n",
       "</style>\n",
       "<table border=\"1\" class=\"dataframe\">\n",
       "  <thead>\n",
       "    <tr style=\"text-align: right;\">\n",
       "      <th></th>\n",
       "      <th>Unnamed: 0</th>\n",
       "      <th>Id</th>\n",
       "      <th>Name</th>\n",
       "      <th>Year</th>\n",
       "      <th>Gender</th>\n",
       "      <th>State</th>\n",
       "      <th>Count</th>\n",
       "    </tr>\n",
       "  </thead>\n",
       "  <tbody>\n",
       "    <tr>\n",
       "      <th>0</th>\n",
       "      <td>11349</td>\n",
       "      <td>11350</td>\n",
       "      <td>Emma</td>\n",
       "      <td>2004</td>\n",
       "      <td>F</td>\n",
       "      <td>AK</td>\n",
       "      <td>62</td>\n",
       "    </tr>\n",
       "    <tr>\n",
       "      <th>1</th>\n",
       "      <td>11350</td>\n",
       "      <td>11351</td>\n",
       "      <td>Madison</td>\n",
       "      <td>2004</td>\n",
       "      <td>F</td>\n",
       "      <td>AK</td>\n",
       "      <td>48</td>\n",
       "    </tr>\n",
       "    <tr>\n",
       "      <th>2</th>\n",
       "      <td>11351</td>\n",
       "      <td>11352</td>\n",
       "      <td>Hannah</td>\n",
       "      <td>2004</td>\n",
       "      <td>F</td>\n",
       "      <td>AK</td>\n",
       "      <td>46</td>\n",
       "    </tr>\n",
       "    <tr>\n",
       "      <th>3</th>\n",
       "      <td>11352</td>\n",
       "      <td>11353</td>\n",
       "      <td>Grace</td>\n",
       "      <td>2004</td>\n",
       "      <td>F</td>\n",
       "      <td>AK</td>\n",
       "      <td>44</td>\n",
       "    </tr>\n",
       "    <tr>\n",
       "      <th>4</th>\n",
       "      <td>11353</td>\n",
       "      <td>11354</td>\n",
       "      <td>Emily</td>\n",
       "      <td>2004</td>\n",
       "      <td>F</td>\n",
       "      <td>AK</td>\n",
       "      <td>41</td>\n",
       "    </tr>\n",
       "    <tr>\n",
       "      <th>5</th>\n",
       "      <td>11354</td>\n",
       "      <td>11355</td>\n",
       "      <td>Abigail</td>\n",
       "      <td>2004</td>\n",
       "      <td>F</td>\n",
       "      <td>AK</td>\n",
       "      <td>37</td>\n",
       "    </tr>\n",
       "    <tr>\n",
       "      <th>6</th>\n",
       "      <td>11355</td>\n",
       "      <td>11356</td>\n",
       "      <td>Olivia</td>\n",
       "      <td>2004</td>\n",
       "      <td>F</td>\n",
       "      <td>AK</td>\n",
       "      <td>33</td>\n",
       "    </tr>\n",
       "    <tr>\n",
       "      <th>7</th>\n",
       "      <td>11356</td>\n",
       "      <td>11357</td>\n",
       "      <td>Isabella</td>\n",
       "      <td>2004</td>\n",
       "      <td>F</td>\n",
       "      <td>AK</td>\n",
       "      <td>30</td>\n",
       "    </tr>\n",
       "    <tr>\n",
       "      <th>8</th>\n",
       "      <td>11357</td>\n",
       "      <td>11358</td>\n",
       "      <td>Alyssa</td>\n",
       "      <td>2004</td>\n",
       "      <td>F</td>\n",
       "      <td>AK</td>\n",
       "      <td>29</td>\n",
       "    </tr>\n",
       "    <tr>\n",
       "      <th>9</th>\n",
       "      <td>11358</td>\n",
       "      <td>11359</td>\n",
       "      <td>Sophia</td>\n",
       "      <td>2004</td>\n",
       "      <td>F</td>\n",
       "      <td>AK</td>\n",
       "      <td>28</td>\n",
       "    </tr>\n",
       "  </tbody>\n",
       "</table>\n",
       "</div>"
      ],
      "text/plain": [
       "   Unnamed: 0     Id      Name  Year Gender State  Count\n",
       "0       11349  11350      Emma  2004      F    AK     62\n",
       "1       11350  11351   Madison  2004      F    AK     48\n",
       "2       11351  11352    Hannah  2004      F    AK     46\n",
       "3       11352  11353     Grace  2004      F    AK     44\n",
       "4       11353  11354     Emily  2004      F    AK     41\n",
       "5       11354  11355   Abigail  2004      F    AK     37\n",
       "6       11355  11356    Olivia  2004      F    AK     33\n",
       "7       11356  11357  Isabella  2004      F    AK     30\n",
       "8       11357  11358    Alyssa  2004      F    AK     29\n",
       "9       11358  11359    Sophia  2004      F    AK     28"
      ]
     },
     "execution_count": 29,
     "metadata": {},
     "output_type": "execute_result"
    }
   ],
   "source": [
    "baby_names.head(10)"
   ]
  },
  {
   "cell_type": "markdown",
   "id": "8c2a2966-9129-427c-a7cd-7d483220e37d",
   "metadata": {},
   "source": [
    "### Delete the columns ‘Unnamed: 0’ and ‘Id’ using the drop method."
   ]
  },
  {
   "cell_type": "code",
   "execution_count": 30,
   "id": "6f3b1ed4-476b-45e2-a0b0-63561a264bdf",
   "metadata": {},
   "outputs": [
    {
     "name": "stdout",
     "output_type": "stream",
     "text": [
      "<class 'pandas.core.frame.DataFrame'>\n",
      "RangeIndex: 1016395 entries, 0 to 1016394\n",
      "Data columns (total 5 columns):\n",
      " #   Column  Non-Null Count    Dtype \n",
      "---  ------  --------------    ----- \n",
      " 0   Name    1016395 non-null  object\n",
      " 1   Year    1016395 non-null  int64 \n",
      " 2   Gender  1016395 non-null  object\n",
      " 3   State   1016395 non-null  object\n",
      " 4   Count   1016395 non-null  int64 \n",
      "dtypes: int64(2), object(3)\n",
      "memory usage: 38.8+ MB\n"
     ]
    }
   ],
   "source": [
    "baby_names.drop(['Unnamed: 0', 'Id'], axis=1, inplace=True)\n",
    "baby_names.info()"
   ]
  },
  {
   "cell_type": "markdown",
   "id": "ec2aab76-06d5-498e-850b-73f87c4afb0a",
   "metadata": {},
   "source": [
    "# Exercise 8: Handling Time Series Data (Investor_data)\n",
    "### Create your own dataset using the pd.date_range function. Assume the dataset has the following columns: [‘Date’, ‘Temperature’, ‘Humidity’, ‘Wind_Speed’]. You can use the following code to create the data points for Temperature, Humidity and Wind_Speed columns:"
   ]
  },
  {
   "cell_type": "code",
   "execution_count": 31,
   "id": "ff560f66-d028-4b74-8500-7089f5117046",
   "metadata": {},
   "outputs": [],
   "source": [
    "temperature = [30, 31, 29, 32, 33, 34, 28, 27, 25, 35]\n",
    "humidity = [80, 75, 70, 85, 90, 80, 75, 60, 65, 70]\n",
    "wind_speed = [5, 6, 7, 8, 9, 4, 10, 5, 6, 7]"
   ]
  },
  {
   "cell_type": "markdown",
   "id": "f20f0918-994d-4790-803c-59808336fe2c",
   "metadata": {},
   "source": [
    "### Create the Date column here (with dates between 2021-01-01 and 2021-01-10, Day frequency)"
   ]
  },
  {
   "cell_type": "code",
   "execution_count": 32,
   "id": "17c3661a-2b58-420b-bdd9-d2d3366768b8",
   "metadata": {},
   "outputs": [],
   "source": [
    "date_rng = pd.date_range(start='2023-01-01', end='2023-01-10', freq='D')"
   ]
  },
  {
   "cell_type": "markdown",
   "id": "7f85d100-723f-47e9-b558-e9f468959273",
   "metadata": {},
   "source": [
    "### Create a dataframe with all of the columns inside"
   ]
  },
  {
   "cell_type": "code",
   "execution_count": 33,
   "id": "16c249aa-77cb-4102-bb6b-36721bbcbc75",
   "metadata": {},
   "outputs": [
    {
     "data": {
      "text/html": [
       "<div>\n",
       "<style scoped>\n",
       "    .dataframe tbody tr th:only-of-type {\n",
       "        vertical-align: middle;\n",
       "    }\n",
       "\n",
       "    .dataframe tbody tr th {\n",
       "        vertical-align: top;\n",
       "    }\n",
       "\n",
       "    .dataframe thead th {\n",
       "        text-align: right;\n",
       "    }\n",
       "</style>\n",
       "<table border=\"1\" class=\"dataframe\">\n",
       "  <thead>\n",
       "    <tr style=\"text-align: right;\">\n",
       "      <th></th>\n",
       "      <th>Date</th>\n",
       "      <th>Temperature</th>\n",
       "      <th>Humidity</th>\n",
       "      <th>Wind_Speed</th>\n",
       "    </tr>\n",
       "  </thead>\n",
       "  <tbody>\n",
       "    <tr>\n",
       "      <th>0</th>\n",
       "      <td>2023-01-01</td>\n",
       "      <td>30</td>\n",
       "      <td>80</td>\n",
       "      <td>5</td>\n",
       "    </tr>\n",
       "    <tr>\n",
       "      <th>1</th>\n",
       "      <td>2023-01-02</td>\n",
       "      <td>31</td>\n",
       "      <td>75</td>\n",
       "      <td>6</td>\n",
       "    </tr>\n",
       "    <tr>\n",
       "      <th>2</th>\n",
       "      <td>2023-01-03</td>\n",
       "      <td>29</td>\n",
       "      <td>70</td>\n",
       "      <td>7</td>\n",
       "    </tr>\n",
       "    <tr>\n",
       "      <th>3</th>\n",
       "      <td>2023-01-04</td>\n",
       "      <td>32</td>\n",
       "      <td>85</td>\n",
       "      <td>8</td>\n",
       "    </tr>\n",
       "    <tr>\n",
       "      <th>4</th>\n",
       "      <td>2023-01-05</td>\n",
       "      <td>33</td>\n",
       "      <td>90</td>\n",
       "      <td>9</td>\n",
       "    </tr>\n",
       "    <tr>\n",
       "      <th>5</th>\n",
       "      <td>2023-01-06</td>\n",
       "      <td>34</td>\n",
       "      <td>80</td>\n",
       "      <td>4</td>\n",
       "    </tr>\n",
       "    <tr>\n",
       "      <th>6</th>\n",
       "      <td>2023-01-07</td>\n",
       "      <td>28</td>\n",
       "      <td>75</td>\n",
       "      <td>10</td>\n",
       "    </tr>\n",
       "    <tr>\n",
       "      <th>7</th>\n",
       "      <td>2023-01-08</td>\n",
       "      <td>27</td>\n",
       "      <td>60</td>\n",
       "      <td>5</td>\n",
       "    </tr>\n",
       "    <tr>\n",
       "      <th>8</th>\n",
       "      <td>2023-01-09</td>\n",
       "      <td>25</td>\n",
       "      <td>65</td>\n",
       "      <td>6</td>\n",
       "    </tr>\n",
       "    <tr>\n",
       "      <th>9</th>\n",
       "      <td>2023-01-10</td>\n",
       "      <td>35</td>\n",
       "      <td>70</td>\n",
       "      <td>7</td>\n",
       "    </tr>\n",
       "  </tbody>\n",
       "</table>\n",
       "</div>"
      ],
      "text/plain": [
       "        Date  Temperature  Humidity  Wind_Speed\n",
       "0 2023-01-01           30        80           5\n",
       "1 2023-01-02           31        75           6\n",
       "2 2023-01-03           29        70           7\n",
       "3 2023-01-04           32        85           8\n",
       "4 2023-01-05           33        90           9\n",
       "5 2023-01-06           34        80           4\n",
       "6 2023-01-07           28        75          10\n",
       "7 2023-01-08           27        60           5\n",
       "8 2023-01-09           25        65           6\n",
       "9 2023-01-10           35        70           7"
      ]
     },
     "execution_count": 33,
     "metadata": {},
     "output_type": "execute_result"
    }
   ],
   "source": [
    "data = {\n",
    "    'Date': date_rng,\n",
    "    'Temperature': temperature,\n",
    "    'Humidity': humidity,\n",
    "    'Wind_Speed': wind_speed\n",
    "}\n",
    "\n",
    "weather_data = pd.DataFrame(data)\n",
    "weather_data"
   ]
  },
  {
   "cell_type": "markdown",
   "id": "9461c7ec-f33e-4163-a02a-f5e60b7de44f",
   "metadata": {},
   "source": [
    "### Determine the frequency of the dataset.\n",
    "##### Frequency refers to the regularity with which the data points are recorded, e.g., daily, weekly, etc. Use pd.infer_freq() to infer the frequency of your DataFrame’s ‘Date’ column.\n",
    "##### The output should look like this: The frequency of the dataset is D."
   ]
  },
  {
   "cell_type": "code",
   "execution_count": 34,
   "id": "423d1cd1-c83a-463e-97c0-8f157b9ab40f",
   "metadata": {},
   "outputs": [
    {
     "data": {
      "text/plain": [
       "'D'"
      ]
     },
     "execution_count": 34,
     "metadata": {},
     "output_type": "execute_result"
    }
   ],
   "source": [
    "frequency = pd.infer_freq(weather_data['Date'])\n",
    "frequency"
   ]
  },
  {
   "cell_type": "markdown",
   "id": "54998a9e-33d2-46e7-b9fd-7d90f2c8b71f",
   "metadata": {},
   "source": [
    "### Set ‘Date’ as the index of the DataFrame.\n",
    "##### Hint: You can use the set_index method to set ‘Date’ as the index of the DataFrame. Use the inplace=True parameter to modify the DataFrame in place."
   ]
  },
  {
   "cell_type": "code",
   "execution_count": 35,
   "id": "aa22141e-4ba1-446c-af96-f659e3815416",
   "metadata": {},
   "outputs": [
    {
     "data": {
      "text/html": [
       "<div>\n",
       "<style scoped>\n",
       "    .dataframe tbody tr th:only-of-type {\n",
       "        vertical-align: middle;\n",
       "    }\n",
       "\n",
       "    .dataframe tbody tr th {\n",
       "        vertical-align: top;\n",
       "    }\n",
       "\n",
       "    .dataframe thead th {\n",
       "        text-align: right;\n",
       "    }\n",
       "</style>\n",
       "<table border=\"1\" class=\"dataframe\">\n",
       "  <thead>\n",
       "    <tr style=\"text-align: right;\">\n",
       "      <th></th>\n",
       "      <th>Temperature</th>\n",
       "      <th>Humidity</th>\n",
       "      <th>Wind_Speed</th>\n",
       "    </tr>\n",
       "    <tr>\n",
       "      <th>Date</th>\n",
       "      <th></th>\n",
       "      <th></th>\n",
       "      <th></th>\n",
       "    </tr>\n",
       "  </thead>\n",
       "  <tbody>\n",
       "    <tr>\n",
       "      <th>2023-01-01</th>\n",
       "      <td>30</td>\n",
       "      <td>80</td>\n",
       "      <td>5</td>\n",
       "    </tr>\n",
       "    <tr>\n",
       "      <th>2023-01-02</th>\n",
       "      <td>31</td>\n",
       "      <td>75</td>\n",
       "      <td>6</td>\n",
       "    </tr>\n",
       "    <tr>\n",
       "      <th>2023-01-03</th>\n",
       "      <td>29</td>\n",
       "      <td>70</td>\n",
       "      <td>7</td>\n",
       "    </tr>\n",
       "    <tr>\n",
       "      <th>2023-01-04</th>\n",
       "      <td>32</td>\n",
       "      <td>85</td>\n",
       "      <td>8</td>\n",
       "    </tr>\n",
       "    <tr>\n",
       "      <th>2023-01-05</th>\n",
       "      <td>33</td>\n",
       "      <td>90</td>\n",
       "      <td>9</td>\n",
       "    </tr>\n",
       "    <tr>\n",
       "      <th>2023-01-06</th>\n",
       "      <td>34</td>\n",
       "      <td>80</td>\n",
       "      <td>4</td>\n",
       "    </tr>\n",
       "    <tr>\n",
       "      <th>2023-01-07</th>\n",
       "      <td>28</td>\n",
       "      <td>75</td>\n",
       "      <td>10</td>\n",
       "    </tr>\n",
       "    <tr>\n",
       "      <th>2023-01-08</th>\n",
       "      <td>27</td>\n",
       "      <td>60</td>\n",
       "      <td>5</td>\n",
       "    </tr>\n",
       "    <tr>\n",
       "      <th>2023-01-09</th>\n",
       "      <td>25</td>\n",
       "      <td>65</td>\n",
       "      <td>6</td>\n",
       "    </tr>\n",
       "    <tr>\n",
       "      <th>2023-01-10</th>\n",
       "      <td>35</td>\n",
       "      <td>70</td>\n",
       "      <td>7</td>\n",
       "    </tr>\n",
       "  </tbody>\n",
       "</table>\n",
       "</div>"
      ],
      "text/plain": [
       "            Temperature  Humidity  Wind_Speed\n",
       "Date                                         \n",
       "2023-01-01           30        80           5\n",
       "2023-01-02           31        75           6\n",
       "2023-01-03           29        70           7\n",
       "2023-01-04           32        85           8\n",
       "2023-01-05           33        90           9\n",
       "2023-01-06           34        80           4\n",
       "2023-01-07           28        75          10\n",
       "2023-01-08           27        60           5\n",
       "2023-01-09           25        65           6\n",
       "2023-01-10           35        70           7"
      ]
     },
     "execution_count": 35,
     "metadata": {},
     "output_type": "execute_result"
    }
   ],
   "source": [
    "weather_data.set_index('Date', inplace=True)\n",
    "weather_data"
   ]
  }
 ],
 "metadata": {
  "kernelspec": {
   "display_name": "Python 3 (ipykernel)",
   "language": "python",
   "name": "python3"
  },
  "language_info": {
   "codemirror_mode": {
    "name": "ipython",
    "version": 3
   },
   "file_extension": ".py",
   "mimetype": "text/x-python",
   "name": "python",
   "nbconvert_exporter": "python",
   "pygments_lexer": "ipython3",
   "version": "3.11.5"
  }
 },
 "nbformat": 4,
 "nbformat_minor": 5
}

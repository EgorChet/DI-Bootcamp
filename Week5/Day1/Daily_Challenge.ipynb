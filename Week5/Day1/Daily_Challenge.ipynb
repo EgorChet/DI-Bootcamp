{
 "cells": [
  {
   "cell_type": "markdown",
   "id": "79fb79e6-c0ca-4272-8017-4d1c3f1d830d",
   "metadata": {},
   "source": [
    "#### 1) Matrix manipulation - Swap the second and fourth rows of the data matrix."
   ]
  },
  {
   "cell_type": "code",
   "execution_count": 1,
   "id": "db4faaff-f715-4d6e-93ce-bab39ab5bc31",
   "metadata": {},
   "outputs": [],
   "source": [
    "import numpy as np"
   ]
  },
  {
   "cell_type": "code",
   "execution_count": 2,
   "id": "3748b891-7181-454d-ab64-23f1ffbdf62d",
   "metadata": {},
   "outputs": [
    {
     "data": {
      "text/plain": [
       "array([[ 9, 72, 99, 85, 75],\n",
       "       [88, 19, 41, 46, 61],\n",
       "       [66, 45, 45, 47, 38],\n",
       "       [41, 18, 99,  9, 96],\n",
       "       [46, 26, 12,  1,  6]])"
      ]
     },
     "execution_count": 2,
     "metadata": {},
     "output_type": "execute_result"
    }
   ],
   "source": [
    "data = np.array(np.random.randint(1, 100, size=25)).reshape(5,5)\n",
    "data"
   ]
  },
  {
   "cell_type": "code",
   "execution_count": 3,
   "id": "6b1fed74-dcf3-4f69-afda-1a2f4b8b2bea",
   "metadata": {},
   "outputs": [
    {
     "data": {
      "text/plain": [
       "array([[ 9, 72, 99, 85, 75],\n",
       "       [41, 18, 99,  9, 96],\n",
       "       [66, 45, 45, 47, 38],\n",
       "       [88, 19, 41, 46, 61],\n",
       "       [46, 26, 12,  1,  6]])"
      ]
     },
     "execution_count": 3,
     "metadata": {},
     "output_type": "execute_result"
    }
   ],
   "source": [
    "data[1], data[3] = data[3].copy(), data[1].copy()\n",
    "data"
   ]
  },
  {
   "cell_type": "markdown",
   "id": "cbdedd30-bb20-4633-9d14-11bd0ac4a612",
   "metadata": {},
   "source": [
    "#### 2) Normalization- Normalize all the elements in the data matrix. In this context, normalizing means to scale the values in such a way that they fall within the range of 0 and 1. To achieve this, subtract the minimum value from each element and divide by the range (max-min)."
   ]
  },
  {
   "cell_type": "code",
   "execution_count": 4,
   "id": "900d4e3c-a334-45c1-97c7-a5cf8af1db64",
   "metadata": {},
   "outputs": [
    {
     "data": {
      "text/plain": [
       "array([[0.08163265, 0.7244898 , 1.        , 0.85714286, 0.75510204],\n",
       "       [0.40816327, 0.17346939, 1.        , 0.08163265, 0.96938776],\n",
       "       [0.66326531, 0.44897959, 0.44897959, 0.46938776, 0.37755102],\n",
       "       [0.8877551 , 0.18367347, 0.40816327, 0.45918367, 0.6122449 ],\n",
       "       [0.45918367, 0.25510204, 0.1122449 , 0.        , 0.05102041]])"
      ]
     },
     "execution_count": 4,
     "metadata": {},
     "output_type": "execute_result"
    }
   ],
   "source": [
    "normalized_data = (data - np.min(data)) / (np.max(data) - np.min(data))\n",
    "normalized_data"
   ]
  },
  {
   "cell_type": "markdown",
   "id": "98494c55-a989-4e28-9d3b-43d6e03f7604",
   "metadata": {},
   "source": [
    "#### 3) Z-score normalization - Standardize the elements in the data matrix using Z-score normalization. In this method, all the elements will be rescaled to have a mean of 0 and a standard deviation of 1. The formula for Z-score normalization is (X - mean) / std , where ( X ) is the element in the data matrix.\n",
    "\n"
   ]
  },
  {
   "cell_type": "code",
   "execution_count": 5,
   "id": "1aaae850-587e-4ac8-a40a-65e1794e1df9",
   "metadata": {},
   "outputs": [
    {
     "data": {
      "text/plain": [
       "array([[-1.27177517,  0.80392005,  1.69350372,  1.23223811,  0.90276268],\n",
       "       [-0.21745378, -0.97524728,  1.69350372, -1.27177517,  1.59466109],\n",
       "       [ 0.60623479, -0.08566361, -0.08566361, -0.01976853, -0.31629641],\n",
       "       [ 1.33108074, -0.94229973, -0.21745378, -0.05271607,  0.44149708],\n",
       "       [-0.05271607, -0.71166693, -1.17293254, -1.53535551, -1.37061779]])"
      ]
     },
     "execution_count": 5,
     "metadata": {},
     "output_type": "execute_result"
    }
   ],
   "source": [
    "z_score_data = (data - np.mean(data)) / np.std(data)\n",
    "z_score_data"
   ]
  },
  {
   "cell_type": "markdown",
   "id": "120d1e3d-0fa2-4b1f-9aa3-36571810439b",
   "metadata": {},
   "source": [
    "#### 4) Array splitting - Reshape the data matrix into a vector (Hint: use np.ravel) and split this array into five equal-sized sub-arrays."
   ]
  },
  {
   "cell_type": "code",
   "execution_count": 6,
   "id": "3da41ed9-1337-4422-b89e-8d16b2904694",
   "metadata": {},
   "outputs": [
    {
     "name": "stdout",
     "output_type": "stream",
     "text": [
      "Sub-array 1:\n",
      "[ 9 72 99 85 75]\n",
      "Sub-array 2:\n",
      "[41 18 99  9 96]\n",
      "Sub-array 3:\n",
      "[66 45 45 47 38]\n",
      "Sub-array 4:\n",
      "[88 19 41 46 61]\n",
      "Sub-array 5:\n",
      "[46 26 12  1  6]\n"
     ]
    }
   ],
   "source": [
    "# Reshape the data matrix into a vector\n",
    "vector_data = np.ravel(data)\n",
    "\n",
    "# Split the vector into five equal-sized sub-arrays\n",
    "split_data = np.array_split(vector_data, 5)\n",
    "\n",
    "# Print the sub-arrays\n",
    "for i, sub_array in enumerate(split_data):\n",
    "    print(f\"Sub-array {i + 1}:\")\n",
    "    print(sub_array)"
   ]
  },
  {
   "cell_type": "markdown",
   "id": "68a13fcc-2de4-4a76-adec-4020f3016f5a",
   "metadata": {},
   "source": [
    "#### 5) Dot product - Create two vectors of size 5 with any values. Compute the dot product of the two vectors*."
   ]
  },
  {
   "cell_type": "code",
   "execution_count": 7,
   "id": "a098656f-5177-4b89-8333-6f7b200ab3b1",
   "metadata": {},
   "outputs": [
    {
     "data": {
      "text/plain": [
       "198"
      ]
     },
     "execution_count": 7,
     "metadata": {},
     "output_type": "execute_result"
    }
   ],
   "source": [
    "vector1 = np.array([3, 5, 6, 7, 8])\n",
    "vector2 = np.array([2, 4, 6, 8, 10])\n",
    "\n",
    "dot_product = np.dot(vector1, vector2)\n",
    "\n",
    "dot_product"
   ]
  },
  {
   "cell_type": "markdown",
   "id": "f6d9d3a2-2150-4498-956c-6be64e790ed3",
   "metadata": {},
   "source": [
    "#### 6) Matrix multiplication - Create another 3x3 matrix with any values (let’s call it data2). Perform matrix multiplication (dot product of data (first 3x3 part) and data2)."
   ]
  },
  {
   "cell_type": "code",
   "execution_count": 8,
   "id": "17c4198f-944c-45d7-b96f-1f6221f27075",
   "metadata": {},
   "outputs": [
    {
     "name": "stdout",
     "output_type": "stream",
     "text": [
      "Matrix Multiplication Result:\n",
      "[[ 9900 11718 13572]\n",
      " [ 8060  9722 11238]\n",
      " [ 5610  7302  8775]]\n"
     ]
    }
   ],
   "source": [
    "data2 = np.array([[10, 22, 30], [40, 50, 61], [70, 80, 90]])  # Example 3x3 matrix\n",
    "data2_matrix = data[:3, :3]\n",
    "\n",
    "# Perform matrix multiplication (dot product) between 'data2_matrix' and 'data2'\n",
    "result = np.dot(data2_matrix, data2)\n",
    "\n",
    "# Print the result\n",
    "print(\"Matrix Multiplication Result:\")\n",
    "print(result)"
   ]
  },
  {
   "cell_type": "markdown",
   "id": "7fdde607-234b-442a-b0be-cfdef9ed237e",
   "metadata": {},
   "source": [
    "#### 7) Inverse of a matrix - Create a 3x3 identity matrix*, multiply it with 2 and compute its inverse."
   ]
  },
  {
   "cell_type": "code",
   "execution_count": 9,
   "id": "9ada91df-dda1-4d9e-aedf-0e9cde6a5ba4",
   "metadata": {},
   "outputs": [
    {
     "name": "stdout",
     "output_type": "stream",
     "text": [
      "Original Identity Matrix:\n",
      "[[1. 0. 0.]\n",
      " [0. 1. 0.]\n",
      " [0. 0. 1.]]\n",
      "\n",
      "Scaled Identity Matrix (multiplied by 2):\n",
      "[[2. 0. 0.]\n",
      " [0. 2. 0.]\n",
      " [0. 0. 2.]]\n",
      "\n",
      "Inverse of Scaled Identity Matrix:\n",
      "[[0.5 0.  0. ]\n",
      " [0.  0.5 0. ]\n",
      " [0.  0.  0.5]]\n"
     ]
    }
   ],
   "source": [
    "# Create a 3x3 identity matrix\n",
    "identity_matrix = np.identity(3)\n",
    "\n",
    "# Multiply the identity matrix by 2\n",
    "scaled_identity = 2 * identity_matrix\n",
    "\n",
    "# Compute the inverse of the scaled identity matrix\n",
    "inverse_matrix = np.linalg.inv(scaled_identity)\n",
    "\n",
    "# Print the results\n",
    "print(\"Original Identity Matrix:\")\n",
    "print(identity_matrix)\n",
    "\n",
    "print(\"\\nScaled Identity Matrix (multiplied by 2):\")\n",
    "print(scaled_identity)\n",
    "\n",
    "print(\"\\nInverse of Scaled Identity Matrix:\")\n",
    "print(inverse_matrix)"
   ]
  },
  {
   "cell_type": "markdown",
   "id": "d034b736-9084-4346-a399-e8b3ccf9043c",
   "metadata": {},
   "source": [
    "#### 8) Eigenvalues and eigenvectors - For the first 3x3 part of the data matrix, compute the eigenvalues and eigenvectors*."
   ]
  },
  {
   "cell_type": "code",
   "execution_count": 10,
   "id": "f9d2f1b5-cc78-41f3-a5ff-981907dab5b8",
   "metadata": {},
   "outputs": [
    {
     "name": "stdout",
     "output_type": "stream",
     "text": [
      "Eigenvalues:\n",
      "[162.9999771  +0.j         -45.49998855+14.09770285j\n",
      " -45.49998855-14.09770285j]\n",
      "\n",
      "Eigenvectors:\n",
      "[[ 0.6176671 +0.j          0.14004734-0.5171203j   0.14004734+0.5171203j ]\n",
      " [ 0.55504647+0.j          0.63524277+0.j          0.63524277-0.j        ]\n",
      " [ 0.55714519+0.j         -0.46545303+0.30462016j -0.46545303-0.30462016j]]\n"
     ]
    }
   ],
   "source": [
    "data_matrix = data[:3, :3]\n",
    "\n",
    "# Compute eigenvalues and eigenvectors\n",
    "eigenvalues, eigenvectors = np.linalg.eig(data_matrix)\n",
    "\n",
    "# Print the results\n",
    "print(\"Eigenvalues:\")\n",
    "print(eigenvalues)\n",
    "\n",
    "print(\"\\nEigenvectors:\")\n",
    "print(eigenvectors)"
   ]
  },
  {
   "cell_type": "markdown",
   "id": "e9e14218-0e95-4dd3-8faa-628965567d1e",
   "metadata": {},
   "source": [
    "#### 9) Find missing values - Replace random 5 elements in the data matrix with np.nan. Find the indices of the missing values."
   ]
  },
  {
   "cell_type": "code",
   "execution_count": 11,
   "id": "2a32edf2-8ad7-4d7a-b226-3a4f3222fe7a",
   "metadata": {},
   "outputs": [
    {
     "name": "stdout",
     "output_type": "stream",
     "text": [
      "Data Matrix with Missing Values:\n",
      "[[67. 14. 20. 52. nan]\n",
      " [55. 51. 50. nan 99.]\n",
      " [31. 91. 86. nan 30.]\n",
      " [85. 80. 19. 34. nan]\n",
      " [22. nan 59. 92. 46.]]\n",
      "\n",
      "Indices of Missing Values:\n",
      "[[0 4]\n",
      " [1 3]\n",
      " [2 3]\n",
      " [3 4]\n",
      " [4 1]]\n"
     ]
    }
   ],
   "source": [
    "# Create the data matrix\n",
    "data = np.array(np.random.randint(1, 100, size=25), dtype=float).reshape(5, 5)\n",
    "\n",
    "# Replace 5 random elements with np.nan\n",
    "num_elements_to_replace = 5\n",
    "indices_to_replace = np.random.choice(data.size, size=num_elements_to_replace, replace=False)\n",
    "data.ravel()[indices_to_replace] = np.nan\n",
    "\n",
    "# Find the indices of missing values (np.nan)\n",
    "missing_value_indices = np.argwhere(np.isnan(data))\n",
    "\n",
    "# Print the data matrix with missing values and their indices\n",
    "print(\"Data Matrix with Missing Values:\")\n",
    "print(data)\n",
    "\n",
    "print(\"\\nIndices of Missing Values:\")\n",
    "print(missing_value_indices)"
   ]
  },
  {
   "cell_type": "code",
   "execution_count": 12,
   "id": "427367f5-4ba8-4db8-bff7-25d22885dfbe",
   "metadata": {},
   "outputs": [
    {
     "name": "stdout",
     "output_type": "stream",
     "text": [
      "Data Matrix with Missing Values Replaced:\n",
      "[[67.   14.   20.   52.   51.75]\n",
      " [55.   51.   50.   51.75 99.  ]\n",
      " [31.   51.75 51.75 51.75 30.  ]\n",
      " [85.   80.   51.75 34.   51.75]\n",
      " [22.   51.75 51.75 92.   46.  ]]\n"
     ]
    }
   ],
   "source": [
    "# Replace 5 random elements with np.nan\n",
    "num_elements_to_replace = 5\n",
    "indices_to_replace = np.random.choice(data.size, size=num_elements_to_replace, replace=False)\n",
    "data.ravel()[indices_to_replace] = np.nan\n",
    "\n",
    "# Find the mean of the matrix while ignoring missing values\n",
    "mean_without_missing = np.nanmean(data)\n",
    "\n",
    "# Replace missing values with the mean\n",
    "data[np.isnan(data)] = mean_without_missing\n",
    "\n",
    "# Print the data matrix with missing values replaced\n",
    "print(\"Data Matrix with Missing Values Replaced:\")\n",
    "print(data)"
   ]
  },
  {
   "cell_type": "markdown",
   "id": "a66e7d01-3c57-4152-b112-422dc6ebb920",
   "metadata": {},
   "source": [
    "### Short Explanations For Some Of The Used Terms"
   ]
  },
  {
   "cell_type": "markdown",
   "id": "7d019f3a-00e0-44be-8e20-6f1b34728d37",
   "metadata": {},
   "source": [
    "##### Z-score normalization: In simple terms, z-score normalization is a method used to scale or standardize values in a dataset so that they can be compared accurately. For example, imagine you have two different tests scored out of 100 and 10. If you scored 80 on the first test and 8 on the second, it’s hard to compare these directly because they’re on different scales. But if we convert these scores to z-scores, we’ll be able to compare them directly because they’ll be on the same scale. Z-scores tell you how many standard deviations a value is from the average (mean). A z-score of 0 indicates the value is exactly average, a positive z-score indicates it’s above average, and a negative z-score indicates it’s below average.\n",
    "\n",
    "\n",
    "##### Dot product of two vectors: The dot product is a way of multiplying two vectors together to get a single number (a scalar). This can tell you a lot about the relationship between the two vectors. For example, if the dot product is zero, the vectors are perpendicular to each other. In a 3D space, think of it as the amount one vector ‘goes in the direction’ of another. It’s used in many areas of data science and computer graphics.\n",
    "\n",
    "\n",
    "##### Identity matrix: An identity matrix is a special kind of square matrix where all the elements of the principal diagonal are ones and all other elements are zeros. It’s called the “identity” matrix because, when it is multiplied by any matrix, the original matrix is returned, similar to how multiplying a number by one leaves the original number unchanged.\n",
    "\n",
    "\n",
    "##### Eigenvalues and Eigenvectors: These are a way of breaking down matrices, which can make them easier to analyze. An eigenvector is a vector that only changes by a scalar factor when a matrix is multiplied by it. The corresponding eigenvalue is the factor by which the eigenvector is scaled. These concepts are foundational to many areas of linear algebra and are used in many algorithms in data science and machine learning.\n",
    "\n",
    "\n",
    "##### Mean: The mean is a measure of central tendency, commonly known as the average. To find the mean of a dataset, you add up all of the numbers and then divide by the number of numbers. For example, the mean of 2, 3, and 4 is (2+3+4) / 3 = 3. The mean gives a ‘middle’ or ‘typical’ value for a set of data, but it can be influenced by extreme values (outliers)."
   ]
  }
 ],
 "metadata": {
  "kernelspec": {
   "display_name": "Python 3 (ipykernel)",
   "language": "python",
   "name": "python3"
  },
  "language_info": {
   "codemirror_mode": {
    "name": "ipython",
    "version": 3
   },
   "file_extension": ".py",
   "mimetype": "text/x-python",
   "name": "python",
   "nbconvert_exporter": "python",
   "pygments_lexer": "ipython3",
   "version": "3.11.5"
  }
 },
 "nbformat": 4,
 "nbformat_minor": 5
}

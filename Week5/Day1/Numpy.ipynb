{
 "cells": [
  {
   "cell_type": "code",
   "execution_count": 1,
   "id": "1b716b90",
   "metadata": {},
   "outputs": [
    {
     "ename": "ModuleNotFoundError",
     "evalue": "No module named 'numpy'",
     "output_type": "error",
     "traceback": [
      "\u001b[0;31m---------------------------------------------------------------------------\u001b[0m",
      "\u001b[0;31mModuleNotFoundError\u001b[0m                       Traceback (most recent call last)",
      "Cell \u001b[0;32mIn[1], line 1\u001b[0m\n\u001b[0;32m----> 1\u001b[0m \u001b[38;5;28;01mimport\u001b[39;00m \u001b[38;5;21;01mnumpy\u001b[39;00m \u001b[38;5;28;01mas\u001b[39;00m \u001b[38;5;21;01mnp\u001b[39;00m\n",
      "\u001b[0;31mModuleNotFoundError\u001b[0m: No module named 'numpy'"
     ]
    }
   ],
   "source": [
    "import numpy as np"
   ]
  },
  {
   "cell_type": "code",
   "execution_count": null,
   "id": "fd728627",
   "metadata": {},
   "outputs": [],
   "source": [
    "sales = [0, 5, 155, 0, 518, 9, 1827,616, 317, 325]\n",
    "sales_array = np.array(sales)"
   ]
  },
  {
   "cell_type": "code",
   "execution_count": null,
   "id": "a7171810",
   "metadata": {},
   "outputs": [
    {
     "data": {
      "text/plain": [
       "array([   0,    5,  155,    0,  518,    9, 1827,  616,  317,  325])"
      ]
     },
     "metadata": {},
     "output_type": "display_data"
    }
   ],
   "source": [
    "sales_array"
   ]
  },
  {
   "cell_type": "markdown",
   "id": "9328f20e",
   "metadata": {},
   "source": [
    "### ndim - dimensions (axes) in the array\n",
    "### shape- the size of the array in each dimention\n",
    "### size - the total numbe\n",
    "### dtype - the data type"
   ]
  },
  {
   "cell_type": "code",
   "execution_count": null,
   "id": "78b91f7a",
   "metadata": {},
   "outputs": [
    {
     "name": "stdout",
     "output_type": "stream",
     "text": [
      "ndim: 1\n"
     ]
    }
   ],
   "source": [
    "print(f\"ndim: {sales_array.ndim}\")"
   ]
  },
  {
   "cell_type": "code",
   "execution_count": null,
   "id": "a685bf01",
   "metadata": {},
   "outputs": [
    {
     "name": "stdout",
     "output_type": "stream",
     "text": [
      "shape: (10,)\n"
     ]
    }
   ],
   "source": [
    "print(f\"shape: {sales_array.shape}\")"
   ]
  },
  {
   "cell_type": "code",
   "execution_count": null,
   "id": "89cfcafc",
   "metadata": {},
   "outputs": [
    {
     "name": "stdout",
     "output_type": "stream",
     "text": [
      "size: 10\n"
     ]
    }
   ],
   "source": [
    "print(f\"size: {sales_array.size}\")"
   ]
  },
  {
   "cell_type": "code",
   "execution_count": null,
   "id": "88c69035",
   "metadata": {},
   "outputs": [
    {
     "name": "stdout",
     "output_type": "stream",
     "text": [
      "dtype: int32\n"
     ]
    }
   ],
   "source": [
    "print(f\"dtype: {sales_array.dtype}\")"
   ]
  },
  {
   "cell_type": "code",
   "execution_count": null,
   "id": "dbd59645",
   "metadata": {},
   "outputs": [],
   "source": [
    "sales = [[0, 5, 155, 0, 518], [9, 1827,616, 317, 325]]\n",
    "sales_array = np.array(sales)"
   ]
  },
  {
   "cell_type": "code",
   "execution_count": null,
   "id": "c3f9875a",
   "metadata": {},
   "outputs": [
    {
     "data": {
      "text/plain": [
       "array([[   0,    5,  155,    0,  518],\n",
       "       [   9, 1827,  616,  317,  325]])"
      ]
     },
     "metadata": {},
     "output_type": "display_data"
    }
   ],
   "source": [
    "sales_array"
   ]
  },
  {
   "cell_type": "code",
   "execution_count": null,
   "id": "3e0af70b",
   "metadata": {},
   "outputs": [
    {
     "name": "stdout",
     "output_type": "stream",
     "text": [
      "ndim: 2\n"
     ]
    }
   ],
   "source": [
    "print(f\"ndim: {sales_array.ndim}\")\n"
   ]
  },
  {
   "cell_type": "code",
   "execution_count": null,
   "id": "ea859413",
   "metadata": {},
   "outputs": [
    {
     "name": "stdout",
     "output_type": "stream",
     "text": [
      "shape: (2, 5)\n"
     ]
    }
   ],
   "source": [
    "print(f\"shape: {sales_array.shape}\")"
   ]
  },
  {
   "cell_type": "code",
   "execution_count": null,
   "id": "ad735911",
   "metadata": {},
   "outputs": [
    {
     "name": "stdout",
     "output_type": "stream",
     "text": [
      "size: 10\n"
     ]
    }
   ],
   "source": [
    "print(f\"size: {sales_array.size}\")"
   ]
  },
  {
   "cell_type": "code",
   "execution_count": null,
   "id": "4e6736d5",
   "metadata": {},
   "outputs": [
    {
     "name": "stdout",
     "output_type": "stream",
     "text": [
      "dtype: int32\n"
     ]
    }
   ],
   "source": [
    "print(f\"dtype: {sales_array.dtype}\")"
   ]
  },
  {
   "cell_type": "code",
   "execution_count": null,
   "id": "f81db9c4",
   "metadata": {},
   "outputs": [
    {
     "data": {
      "text/plain": [
       "[10, 20, 30, 40, 50, 60, 70, 80, 90, 100]"
      ]
     },
     "execution_count": 2,
     "metadata": {},
     "output_type": "execute_result"
    }
   ],
   "source": [
    "my_list = [x * 10 for x in range (1,11)]\n",
    "my_list"
   ]
  },
  {
   "cell_type": "code",
   "execution_count": null,
   "id": "4a7faa04-1caa-4d91-a2e0-5a0757315c23",
   "metadata": {},
   "outputs": [],
   "source": [
    "\n",
    "my_array = np.array(my_list)"
   ]
  },
  {
   "cell_type": "code",
   "execution_count": null,
   "id": "2c961a4c-fcbe-4541-8f7c-17944a914c90",
   "metadata": {},
   "outputs": [
    {
     "name": "stdout",
     "output_type": "stream",
     "text": [
      "shape: (10,)\n"
     ]
    }
   ],
   "source": [
    "print(f'shape: {my_array.shape}')"
   ]
  },
  {
   "cell_type": "code",
   "execution_count": null,
   "id": "f47c87e4-81da-4bac-a743-99832b8a7500",
   "metadata": {},
   "outputs": [
    {
     "data": {
      "text/plain": [
       "1"
      ]
     },
     "execution_count": 5,
     "metadata": {},
     "output_type": "execute_result"
    }
   ],
   "source": [
    "my_array.ndim"
   ]
  },
  {
   "cell_type": "code",
   "execution_count": null,
   "id": "c41fdd3b-5350-4553-8124-7d7936b9f911",
   "metadata": {},
   "outputs": [
    {
     "data": {
      "text/plain": [
       "(10,)"
      ]
     },
     "execution_count": 6,
     "metadata": {},
     "output_type": "execute_result"
    }
   ],
   "source": [
    "my_array.shape"
   ]
  },
  {
   "cell_type": "code",
   "execution_count": null,
   "id": "f3604139-db2a-48f2-afde-e9855f5a4655",
   "metadata": {},
   "outputs": [
    {
     "data": {
      "text/plain": [
       "10"
      ]
     },
     "execution_count": 7,
     "metadata": {},
     "output_type": "execute_result"
    }
   ],
   "source": [
    "my_array.size"
   ]
  },
  {
   "cell_type": "code",
   "execution_count": null,
   "id": "0a8c4d8c-c9a7-4a7f-a446-0cf747745667",
   "metadata": {},
   "outputs": [
    {
     "data": {
      "text/plain": [
       "dtype('int64')"
      ]
     },
     "execution_count": 8,
     "metadata": {},
     "output_type": "execute_result"
    }
   ],
   "source": [
    "my_array.dtype"
   ]
  },
  {
   "cell_type": "code",
   "execution_count": null,
   "id": "3e9fb155-2417-4938-ba4c-94f8933a6ed1",
   "metadata": {},
   "outputs": [
    {
     "data": {
      "text/plain": [
       "array([[ 10,  20],\n",
       "       [ 30,  40],\n",
       "       [ 50,  60],\n",
       "       [ 70,  80],\n",
       "       [ 90, 100]])"
      ]
     },
     "execution_count": 9,
     "metadata": {},
     "output_type": "execute_result"
    }
   ],
   "source": [
    "my_two_dim_array = my_array.reshape(5,2)\n",
    "my_two_dim_array"
   ]
  },
  {
   "cell_type": "code",
   "execution_count": null,
   "id": "6e3121c1-956a-4bb4-9eb0-efdfc8812cc3",
   "metadata": {},
   "outputs": [
    {
     "data": {
      "text/plain": [
       "array([[1., 1., 1., 1., 1., 1., 1., 1., 1., 1.],\n",
       "       [1., 1., 1., 1., 1., 1., 1., 1., 1., 1.],\n",
       "       [1., 1., 1., 1., 1., 1., 1., 1., 1., 1.],\n",
       "       [1., 1., 1., 1., 1., 1., 1., 1., 1., 1.],\n",
       "       [1., 1., 1., 1., 1., 1., 1., 1., 1., 1.],\n",
       "       [1., 1., 1., 1., 1., 1., 1., 1., 1., 1.],\n",
       "       [1., 1., 1., 1., 1., 1., 1., 1., 1., 1.],\n",
       "       [1., 1., 1., 1., 1., 1., 1., 1., 1., 1.],\n",
       "       [1., 1., 1., 1., 1., 1., 1., 1., 1., 1.],\n",
       "       [1., 1., 1., 1., 1., 1., 1., 1., 1., 1.]])"
      ]
     },
     "execution_count": 10,
     "metadata": {},
     "output_type": "execute_result"
    }
   ],
   "source": [
    "ones = np.ones((10,10))\n",
    "ones"
   ]
  },
  {
   "cell_type": "code",
   "execution_count": null,
   "id": "0432b374-15e3-41f3-a2c0-40102104e9bc",
   "metadata": {},
   "outputs": [
    {
     "data": {
      "text/plain": [
       "dtype('float64')"
      ]
     },
     "execution_count": 11,
     "metadata": {},
     "output_type": "execute_result"
    }
   ],
   "source": [
    "ones.dtype"
   ]
  },
  {
   "cell_type": "code",
   "execution_count": null,
   "id": "d3c75524-c19a-4797-bae2-760dd549fe5b",
   "metadata": {},
   "outputs": [
    {
     "data": {
      "text/plain": [
       "array([[0, 0, 0, 0, 0],\n",
       "       [0, 0, 0, 0, 0],\n",
       "       [0, 0, 0, 0, 0],\n",
       "       [0, 0, 0, 0, 0],\n",
       "       [0, 0, 0, 0, 0]])"
      ]
     },
     "execution_count": 12,
     "metadata": {},
     "output_type": "execute_result"
    }
   ],
   "source": [
    "zeros = np.zeros((5,5), dtype=int)\n",
    "zeros"
   ]
  },
  {
   "cell_type": "code",
   "execution_count": null,
   "id": "b6fb3947-fe4e-4c6c-a184-fa1c1a6445e5",
   "metadata": {},
   "outputs": [
    {
     "data": {
      "text/plain": [
       "dtype('int64')"
      ]
     },
     "execution_count": 13,
     "metadata": {},
     "output_type": "execute_result"
    }
   ],
   "source": [
    "zeros.dtype"
   ]
  },
  {
   "cell_type": "code",
   "execution_count": null,
   "id": "cd6f7ee5-0b00-45c1-a3c6-8bc2dd545b29",
   "metadata": {},
   "outputs": [
    {
     "data": {
      "text/plain": [
       "array([0, 1, 2, 3, 4, 5, 6, 7, 8, 9])"
      ]
     },
     "execution_count": 14,
     "metadata": {},
     "output_type": "execute_result"
    }
   ],
   "source": [
    "myrange = np.arange(10)\n",
    "myrange"
   ]
  },
  {
   "cell_type": "code",
   "execution_count": null,
   "id": "32aab951-62ff-49c4-bad9-0ad46a69ac10",
   "metadata": {},
   "outputs": [
    {
     "data": {
      "text/plain": [
       "array([  0.,  25.,  50.,  75., 100.])"
      ]
     },
     "execution_count": 15,
     "metadata": {},
     "output_type": "execute_result"
    }
   ],
   "source": [
    "my_linspace = np.linspace(0,100,5)\n",
    "my_linspace"
   ]
  },
  {
   "cell_type": "code",
   "execution_count": null,
   "id": "b2a52ad9-8674-4a56-93c5-fcfe9290bf66",
   "metadata": {},
   "outputs": [
    {
     "data": {
      "text/plain": [
       "array([  1,   3,   5,   7,   9,  11,  13,  15,  17,  19,  21,  23,  25,\n",
       "        27,  29,  31,  33,  35,  37,  39,  41,  43,  45,  47,  49,  51,\n",
       "        53,  55,  57,  59,  61,  63,  65,  67,  69,  71,  73,  75,  77,\n",
       "        79,  81,  83,  85,  87,  89,  91,  93,  95,  97,  99, 101, 103,\n",
       "       105, 107, 109, 111, 113, 115, 117, 119, 121, 123, 125, 127, 129,\n",
       "       131, 133, 135, 137, 139, 141, 143, 145, 147, 149, 151, 153, 155,\n",
       "       157, 159, 161, 163, 165, 167, 169, 171, 173, 175, 177, 179, 181,\n",
       "       183, 185, 187, 189, 191])"
      ]
     },
     "execution_count": 16,
     "metadata": {},
     "output_type": "execute_result"
    }
   ],
   "source": [
    "np.arange(1,192,2)"
   ]
  },
  {
   "cell_type": "code",
   "execution_count": null,
   "id": "77acb426-ebdc-44ff-966c-1de2b4340161",
   "metadata": {},
   "outputs": [
    {
     "data": {
      "text/plain": [
       "array([[ 1,  3,  5,  7,  9],\n",
       "       [11, 13, 15, 17, 19]])"
      ]
     },
     "execution_count": 17,
     "metadata": {},
     "output_type": "execute_result"
    }
   ],
   "source": [
    "np.arange(1,20,2).reshape(2,5)"
   ]
  },
  {
   "cell_type": "code",
   "execution_count": null,
   "id": "6bedcf74-2d55-4eb1-9ebb-e4a713e5944f",
   "metadata": {},
   "outputs": [
    {
     "data": {
      "text/plain": [
       "array([  1,   3,   5,   7,   9,  11,  13,  15,  17,  19,  21,  23,  25,\n",
       "        27,  29,  31,  33,  35,  37,  39,  41,  43,  45,  47,  49,  51,\n",
       "        53,  55,  57,  59,  61,  63,  65,  67,  69,  71,  73,  75,  77,\n",
       "        79,  81,  83,  85,  87,  89,  91,  93,  95,  97,  99, 101, 103,\n",
       "       105, 107, 109, 111, 113, 115, 117, 119, 121, 123, 125, 127, 129,\n",
       "       131, 133, 135, 137, 139, 141, 143, 145, 147, 149, 151, 153, 155,\n",
       "       157, 159, 161, 163, 165, 167, 169, 171, 173, 175, 177, 179, 181,\n",
       "       183, 185])"
      ]
     },
     "execution_count": 18,
     "metadata": {},
     "output_type": "execute_result"
    }
   ],
   "source": [
    "np.arange(1,187,2)"
   ]
  },
  {
   "cell_type": "markdown",
   "id": "cf11e57c-158a-46cc-8453-222fbe952a1f",
   "metadata": {},
   "source": [
    "### np.default_rng(seed)\n",
    "### default_rng.random(n)\n",
    "### default_rng.normal(mean,stdev, n)"
   ]
  },
  {
   "cell_type": "code",
   "execution_count": null,
   "id": "2b370427-ddba-43d7-8c64-2fb06531fc91",
   "metadata": {},
   "outputs": [
    {
     "data": {
      "text/plain": [
       "array([0.31795561, 0.27481238, 0.14987102, 0.45281912, 0.97248042,\n",
       "       0.5906709 , 0.31928325, 0.46330719, 0.90628454, 0.64878647])"
      ]
     },
     "execution_count": 19,
     "metadata": {},
     "output_type": "execute_result"
    }
   ],
   "source": [
    "rng = np.random.default_rng(2222) \n",
    "# usually it is random but we can specify the default \n",
    "random_array = rng.random(10)\n",
    "random_array"
   ]
  },
  {
   "cell_type": "code",
   "execution_count": null,
   "id": "352d4e7e-562e-4d9b-a8f1-3c4e94b58497",
   "metadata": {},
   "outputs": [
    {
     "data": {
      "text/plain": [
       "array([4.36284252, 4.60450772, 3.83043857, 4.63452412, 4.13104347,\n",
       "       5.74312454, 4.19740365, 2.89130483, 4.41776429, 5.95528344])"
      ]
     },
     "execution_count": 20,
     "metadata": {},
     "output_type": "execute_result"
    }
   ],
   "source": [
    "random_normal = rng.normal(5, 1, 10)\n",
    "random_normal"
   ]
  },
  {
   "cell_type": "code",
   "execution_count": null,
   "id": "09947899-2ec7-40e9-87d3-f88a00312bcb",
   "metadata": {},
   "outputs": [
    {
     "data": {
      "text/plain": [
       "array([[ 10,  20],\n",
       "       [ 30,  40],\n",
       "       [ 50,  60],\n",
       "       [ 70,  80],\n",
       "       [ 90, 100]])"
      ]
     },
     "execution_count": 21,
     "metadata": {},
     "output_type": "execute_result"
    }
   ],
   "source": [
    "my_a_array =np.arange(10, 101, 10).reshape(5,2)\n",
    "my_a_array"
   ]
  },
  {
   "cell_type": "code",
   "execution_count": null,
   "id": "e81f8078-3ebd-47d3-921a-1274828f2484",
   "metadata": {},
   "outputs": [
    {
     "data": {
      "text/plain": [
       "array([[ 10,  20],\n",
       "       [ 30,  40],\n",
       "       [ 50,  60],\n",
       "       [ 70,  80],\n",
       "       [ 90, 100]])"
      ]
     },
     "execution_count": 22,
     "metadata": {},
     "output_type": "execute_result"
    }
   ],
   "source": [
    "my_array.reshape(5,2)"
   ]
  },
  {
   "cell_type": "code",
   "execution_count": null,
   "id": "7b3008d5-ab6a-4618-8823-2ade1e54c99d",
   "metadata": {},
   "outputs": [
    {
     "data": {
      "text/plain": [
       "array([[ 10.,  20.],\n",
       "       [ 30.,  40.],\n",
       "       [ 50.,  60.],\n",
       "       [ 70.,  80.],\n",
       "       [ 90., 100.]])"
      ]
     },
     "execution_count": 23,
     "metadata": {},
     "output_type": "execute_result"
    }
   ],
   "source": [
    "my_lin_array = np.linspace(10,100,10).reshape(5,2)\n",
    "my_lin_array"
   ]
  },
  {
   "cell_type": "code",
   "execution_count": null,
   "id": "8a79f9cd-c840-4e6f-9027-0f1a69c5e36e",
   "metadata": {},
   "outputs": [
    {
     "data": {
      "text/plain": [
       "array([[ 10,  20],\n",
       "       [ 30,  40],\n",
       "       [ 50,  60],\n",
       "       [ 70,  80],\n",
       "       [ 90, 100]])"
      ]
     },
     "execution_count": 24,
     "metadata": {},
     "output_type": "execute_result"
    }
   ],
   "source": [
    "my_fun_array = (np.arange(1,11)*10).reshape(5,2)\n",
    "my_fun_array"
   ]
  },
  {
   "cell_type": "code",
   "execution_count": null,
   "id": "7cc42a7e-ebbb-488c-bcea-824d9b4ae94f",
   "metadata": {},
   "outputs": [
    {
     "data": {
      "text/plain": [
       "array([[0.24742606, 0.09299006, 0.61176337],\n",
       "       [0.06066207, 0.66103343, 0.75515778],\n",
       "       [0.1108689 , 0.04305584, 0.41441747]])"
      ]
     },
     "execution_count": 25,
     "metadata": {},
     "output_type": "execute_result"
    }
   ],
   "source": [
    "my_rng = np.random.default_rng(2022)\n",
    "random_array = my_rng.random(9).reshape(3,3)\n",
    "random_array"
   ]
  },
  {
   "cell_type": "code",
   "execution_count": null,
   "id": "ae493714-913b-47c7-a292-84f074d0425d",
   "metadata": {},
   "outputs": [
    {
     "data": {
      "text/plain": [
       "array([[0.24742606, 0.09299006, 0.61176337],\n",
       "       [0.06066207, 0.66103343, 0.75515778],\n",
       "       [0.1108689 , 0.04305584, 0.41441747]])"
      ]
     },
     "execution_count": 26,
     "metadata": {},
     "output_type": "execute_result"
    }
   ],
   "source": [
    "random_array"
   ]
  },
  {
   "cell_type": "code",
   "execution_count": null,
   "id": "1d2bf639-946a-4d82-a185-20fe5d1249a2",
   "metadata": {},
   "outputs": [
    {
     "data": {
      "text/plain": [
       "array([[0.24742606, 0.09299006, 0.61176337],\n",
       "       [0.06066207, 0.66103343, 0.75515778]])"
      ]
     },
     "execution_count": 27,
     "metadata": {},
     "output_type": "execute_result"
    }
   ],
   "source": [
    "random_array[:2, :]"
   ]
  },
  {
   "cell_type": "code",
   "execution_count": null,
   "id": "833a3845-afa3-483b-9222-409a6e53bc2f",
   "metadata": {},
   "outputs": [
    {
     "data": {
      "text/plain": [
       "array([0.24742606, 0.06066207, 0.1108689 ])"
      ]
     },
     "execution_count": 28,
     "metadata": {},
     "output_type": "execute_result"
    }
   ],
   "source": [
    "random_array[:, 0]"
   ]
  },
  {
   "cell_type": "code",
   "execution_count": null,
   "id": "c5bed5a6-c38a-4f06-b9d8-035283169997",
   "metadata": {
    "scrolled": true
   },
   "outputs": [
    {
     "data": {
      "text/plain": [
       "0.04305584439252108"
      ]
     },
     "execution_count": 29,
     "metadata": {},
     "output_type": "execute_result"
    }
   ],
   "source": [
    "random_array[2,1]"
   ]
  },
  {
   "cell_type": "markdown",
   "id": "62d67865",
   "metadata": {},
   "source": [
    "### Arithmetic operators can be used to perform array operations\n"
   ]
  },
  {
   "cell_type": "code",
   "execution_count": null,
   "id": "4d7dd793",
   "metadata": {},
   "outputs": [
    {
     "data": {
      "text/plain": [
       "array([[   0,    5,  155,    0,  518],\n",
       "       [   9, 1827,  616,  317,  325]])"
      ]
     },
     "metadata": {},
     "output_type": "display_data"
    }
   ],
   "source": [
    "sales_array"
   ]
  },
  {
   "cell_type": "code",
   "execution_count": null,
   "id": "831bda9a",
   "metadata": {},
   "outputs": [
    {
     "data": {
      "text/plain": [
       "array([[   2,    7,  157,    2,  520],\n",
       "       [  11, 1829,  618,  319,  327]])"
      ]
     },
     "metadata": {},
     "output_type": "display_data"
    }
   ],
   "source": [
    "sales_array + 2"
   ]
  },
  {
   "cell_type": "code",
   "execution_count": null,
   "id": "79f8a616",
   "metadata": {},
   "outputs": [
    {
     "data": {
      "text/plain": [
       "array([  0,   5, 155,   0, 518])"
      ]
     },
     "metadata": {},
     "output_type": "display_data"
    }
   ],
   "source": [
    "quantity = sales_array[0, :]\n",
    "quantity"
   ]
  },
  {
   "cell_type": "code",
   "execution_count": null,
   "id": "6bfd1b22",
   "metadata": {},
   "outputs": [],
   "source": [
    "price = sales_array[1, :]"
   ]
  },
  {
   "cell_type": "code",
   "execution_count": null,
   "id": "08ec39dd",
   "metadata": {},
   "outputs": [
    {
     "data": {
      "text/plain": [
       "array([   9, 1827,  616,  317,  325])"
      ]
     },
     "metadata": {},
     "output_type": "display_data"
    }
   ],
   "source": [
    "price"
   ]
  },
  {
   "cell_type": "code",
   "execution_count": null,
   "id": "9fa260a1",
   "metadata": {},
   "outputs": [
    {
     "data": {
      "text/plain": [
       "array([     0,   9135,  95480,      0, 168350])"
      ]
     },
     "metadata": {},
     "output_type": "display_data"
    }
   ],
   "source": [
    "quantity * price"
   ]
  },
  {
   "cell_type": "markdown",
   "id": "b8fc4a41",
   "metadata": {},
   "source": [
    "prices = np.array([5.99, 6.99, 22.49, 99.99, 4.99, 49.99])\n",
    "\n",
    "#### Before we do that,\n",
    "\n",
    "* Add a 5 dollar shipping fee to each price. Call this array total.\n",
    "\n",
    "#### Once we have that, we want to use the random_array created in assignment 2 and apply them to the 6 prices.\n",
    "\n",
    "* Grab the first 6 numbers from random_array, reshape it to one dimension. Call this discount_pct.\n",
    "* Subtract discount_pct FROM 1, store this in pct_owed.\n",
    "* Multiply pct_owed by total to get the final amount owed.\n"
   ]
  },
  {
   "cell_type": "code",
   "execution_count": null,
   "id": "37b70656",
   "metadata": {},
   "outputs": [
    {
     "data": {
      "text/plain": [
       "array([[0.24742606, 0.09299006, 0.61176337],\n",
       "       [0.06066207, 0.66103343, 0.75515778],\n",
       "       [0.1108689 , 0.04305584, 0.41441747]])"
      ]
     },
     "metadata": {},
     "output_type": "display_data"
    }
   ],
   "source": [
    "random_array"
   ]
  },
  {
   "cell_type": "code",
   "execution_count": null,
   "id": "5181d9c9",
   "metadata": {},
   "outputs": [],
   "source": [
    "prices = np.array([5.99, 6.99, 22.49, 99.99, 4.99, 49.99])"
   ]
  },
  {
   "cell_type": "code",
   "execution_count": null,
   "id": "164d4d25",
   "metadata": {},
   "outputs": [
    {
     "data": {
      "text/plain": [
       "array([ 5.99,  6.99, 22.49, 99.99,  4.99, 49.99])"
      ]
     },
     "metadata": {},
     "output_type": "display_data"
    }
   ],
   "source": [
    "prices"
   ]
  },
  {
   "cell_type": "code",
   "execution_count": null,
   "id": "609ab535",
   "metadata": {},
   "outputs": [
    {
     "data": {
      "text/plain": [
       "array([ 10.99,  11.99,  27.49, 104.99,   9.99,  54.99])"
      ]
     },
     "metadata": {},
     "output_type": "display_data"
    }
   ],
   "source": [
    "total = prices + 5\n",
    "total"
   ]
  },
  {
   "cell_type": "code",
   "execution_count": null,
   "id": "74db3a09",
   "metadata": {},
   "outputs": [
    {
     "data": {
      "text/plain": [
       "array([0.24742606, 0.09299006, 0.61176337, 0.06066207, 0.66103343,\n",
       "       0.75515778])"
      ]
     },
     "metadata": {},
     "output_type": "display_data"
    }
   ],
   "source": [
    "discount_pct = random_array[:2].reshape(6)\n",
    "discount_pct"
   ]
  },
  {
   "cell_type": "code",
   "execution_count": null,
   "id": "8f180a1e",
   "metadata": {},
   "outputs": [
    {
     "data": {
      "text/plain": [
       "array([0.75257394, 0.90700994, 0.38823663, 0.93933793, 0.33896657,\n",
       "       0.24484222])"
      ]
     },
     "metadata": {},
     "output_type": "display_data"
    }
   ],
   "source": [
    "pct_owed = 1 - discount_pct\n",
    "pct_owed"
   ]
  },
  {
   "cell_type": "code",
   "execution_count": null,
   "id": "957d99d0",
   "metadata": {},
   "outputs": [
    {
     "data": {
      "text/plain": [
       "array([ 8.27, 10.88, 10.67, 98.62,  3.39, 13.46])"
      ]
     },
     "metadata": {},
     "output_type": "display_data"
    }
   ],
   "source": [
    "final_owed = total * pct_owed\n",
    "final_owed.round(2)"
   ]
  },
  {
   "cell_type": "markdown",
   "id": "f8b56330",
   "metadata": {},
   "source": [
    "### FILTERING ARRAYS\n",
    "* You can filter arrays by indexing them with a logical test\n",
    "\n"
   ]
  },
  {
   "cell_type": "code",
   "execution_count": null,
   "id": "887ef7b4",
   "metadata": {},
   "outputs": [
    {
     "data": {
      "text/plain": [
       "array([[   0,    5,  155,    0,  518],\n",
       "       [   9, 1827,  616,  317,  325]])"
      ]
     },
     "metadata": {},
     "output_type": "display_data"
    }
   ],
   "source": [
    "sales_array"
   ]
  },
  {
   "cell_type": "code",
   "execution_count": null,
   "id": "645412e2",
   "metadata": {},
   "outputs": [
    {
     "data": {
      "text/plain": [
       "array([[False,  True,  True, False,  True],\n",
       "       [ True,  True,  True,  True,  True]])"
      ]
     },
     "metadata": {},
     "output_type": "display_data"
    }
   ],
   "source": [
    "sales_array != 0"
   ]
  },
  {
   "cell_type": "code",
   "execution_count": null,
   "id": "8ee8ebf8",
   "metadata": {},
   "outputs": [
    {
     "data": {
      "text/plain": [
       "array([   5,  155,  518,    9, 1827,  616,  317,  325])"
      ]
     },
     "metadata": {},
     "output_type": "display_data"
    }
   ],
   "source": [
    "sales_array[sales_array != 0]"
   ]
  },
  {
   "cell_type": "code",
   "execution_count": null,
   "id": "18a9fa71",
   "metadata": {},
   "outputs": [
    {
     "data": {
      "text/plain": [
       "array([[   0,    5,  155,    0,  518],\n",
       "       [   9, 1827,  616,  317,  325]])"
      ]
     },
     "metadata": {},
     "output_type": "display_data"
    }
   ],
   "source": [
    "sales_array"
   ]
  },
  {
   "cell_type": "code",
   "execution_count": null,
   "id": "22e552c8",
   "metadata": {},
   "outputs": [
    {
     "data": {
      "text/plain": [
       "array([616])"
      ]
     },
     "metadata": {},
     "output_type": "display_data"
    }
   ],
   "source": [
    "sales_array[(sales_array==616)]"
   ]
  },
  {
   "cell_type": "code",
   "execution_count": null,
   "id": "aa7acc3d",
   "metadata": {},
   "outputs": [
    {
     "data": {
      "text/plain": [
       "array([  0,   5,   0,   9, 616])"
      ]
     },
     "metadata": {},
     "output_type": "display_data"
    }
   ],
   "source": [
    "sales_array[(sales_array==616) | (sales_array<100)]"
   ]
  },
  {
   "cell_type": "code",
   "execution_count": null,
   "id": "303e2f46",
   "metadata": {},
   "outputs": [
    {
     "data": {
      "text/plain": [
       "array([155, 317, 325])"
      ]
     },
     "metadata": {},
     "output_type": "display_data"
    }
   ],
   "source": [
    "sales_array[(sales_array>100) & (sales_array<500)]"
   ]
  },
  {
   "cell_type": "code",
   "execution_count": null,
   "id": "fc4b9ffd",
   "metadata": {},
   "outputs": [
    {
     "data": {
      "text/plain": [
       "array([155, 317, 325])"
      ]
     },
     "metadata": {},
     "output_type": "display_data"
    }
   ],
   "source": [
    "mask = (sales_array>100) & (sales_array<500)\n",
    "sales_array[mask]"
   ]
  },
  {
   "cell_type": "code",
   "execution_count": null,
   "id": "98223520",
   "metadata": {},
   "outputs": [
    {
     "data": {
      "text/plain": [
       "array(['fruits', 'vegetables', 'cereal', 'dairy', 'eggs'], dtype='<U10')"
      ]
     },
     "metadata": {},
     "output_type": "display_data"
    }
   ],
   "source": [
    "product_array = np.array(['fruits','vegetables','cereal','dairy','eggs'])\n",
    "product_array"
   ]
  },
  {
   "cell_type": "code",
   "execution_count": null,
   "id": "156c01fa",
   "metadata": {},
   "outputs": [
    {
     "data": {
      "text/plain": [
       "array([  0,   5, 155,   0, 518])"
      ]
     },
     "metadata": {},
     "output_type": "display_data"
    }
   ],
   "source": [
    "sales_array = sales_array[0,:]\n",
    "sales_array"
   ]
  },
  {
   "cell_type": "code",
   "execution_count": null,
   "id": "f3db8d91",
   "metadata": {},
   "outputs": [
    {
     "data": {
      "text/plain": [
       "array(['vegetables', 'cereal', 'eggs'], dtype='<U10')"
      ]
     },
     "metadata": {},
     "output_type": "display_data"
    }
   ],
   "source": [
    "product_array[sales_array > 0]"
   ]
  },
  {
   "cell_type": "markdown",
   "id": "60982721",
   "metadata": {},
   "source": [
    "#### MODIFYING ARRAY VALUES\n",
    "* You can modify array values by assigning new ones"
   ]
  },
  {
   "cell_type": "code",
   "execution_count": null,
   "id": "5b6e265f",
   "metadata": {},
   "outputs": [
    {
     "data": {
      "text/plain": [
       "array([  0,   5, 155,   0, 518])"
      ]
     },
     "metadata": {},
     "output_type": "display_data"
    }
   ],
   "source": [
    "sales_array"
   ]
  },
  {
   "cell_type": "code",
   "execution_count": null,
   "id": "e766bab6",
   "metadata": {},
   "outputs": [],
   "source": [
    "sales_array[1] = 25"
   ]
  },
  {
   "cell_type": "code",
   "execution_count": null,
   "id": "2d1d83e7",
   "metadata": {},
   "outputs": [
    {
     "data": {
      "text/plain": [
       "array([  0,  25, 155,   0, 518])"
      ]
     },
     "metadata": {},
     "output_type": "display_data"
    }
   ],
   "source": [
    "sales_array"
   ]
  },
  {
   "cell_type": "code",
   "execution_count": null,
   "id": "9e5d418c",
   "metadata": {},
   "outputs": [
    {
     "data": {
      "text/plain": [
       "array([  5,  25, 155,   5, 518])"
      ]
     },
     "metadata": {},
     "output_type": "display_data"
    }
   ],
   "source": [
    "sales_array[sales_array == 0] = 5\n",
    "sales_array"
   ]
  },
  {
   "cell_type": "markdown",
   "id": "27473c1b",
   "metadata": {},
   "source": [
    "#### The where function\n",
    "\n",
    "np.where(logicl, value if true, value if false)\n"
   ]
  },
  {
   "cell_type": "code",
   "execution_count": null,
   "id": "6067b503",
   "metadata": {},
   "outputs": [
    {
     "data": {
      "text/plain": [
       "array(['fruits', 'vegetables', 'cereal', 'dairy', 'eggs'], dtype='<U10')"
      ]
     },
     "metadata": {},
     "output_type": "display_data"
    }
   ],
   "source": [
    "product_array"
   ]
  },
  {
   "cell_type": "code",
   "execution_count": null,
   "id": "5993fbf6",
   "metadata": {},
   "outputs": [
    {
     "data": {
      "text/plain": [
       "array([ 12, 102,  18,   0,   0])"
      ]
     },
     "metadata": {},
     "output_type": "display_data"
    }
   ],
   "source": [
    "inventory_array = np.array([12,102,18,0,0])\n",
    "inventory_array"
   ]
  },
  {
   "cell_type": "code",
   "execution_count": null,
   "id": "d8fe8d75",
   "metadata": {},
   "outputs": [
    {
     "data": {
      "text/plain": [
       "array(['In Stock', 'In Stock', 'In Stock', 'Out of Stock', 'Out of Stock'],\n",
       "      dtype='<U12')"
      ]
     },
     "metadata": {},
     "output_type": "display_data"
    }
   ],
   "source": [
    "np.where(inventory_array<= 0, \"Out of Stock\", \"In Stock\")"
   ]
  },
  {
   "cell_type": "code",
   "execution_count": null,
   "id": "ea0d35f2",
   "metadata": {},
   "outputs": [
    {
     "data": {
      "text/plain": [
       "array(['fruits', 'vegetables', 'cereal', 'Out of Stock', 'Out of Stock'],\n",
       "      dtype='<U12')"
      ]
     },
     "metadata": {},
     "output_type": "display_data"
    }
   ],
   "source": [
    "np.where(inventory_array<= 0,\"Out of Stock\",product_array )"
   ]
  },
  {
   "cell_type": "code",
   "execution_count": null,
   "id": "f6593cd6",
   "metadata": {},
   "outputs": [],
   "source": [
    "#### Array aggregation methods "
   ]
  },
  {
   "cell_type": "code",
   "execution_count": null,
   "id": "423a92c8",
   "metadata": {},
   "outputs": [
    {
     "data": {
      "text/plain": [
       "array([[   0,    5,  155,    0,  518],\n",
       "       [   9, 1827,  616,  317,  325]])"
      ]
     },
     "metadata": {},
     "output_type": "display_data"
    }
   ],
   "source": [
    "sales = [0, 5, 155, 0, 518, 9, 1827,616, 317, 325]\n",
    "sales_array = np.array(sales).reshape(2,5)\n",
    "sales_array"
   ]
  },
  {
   "cell_type": "code",
   "execution_count": null,
   "id": "685bd68e",
   "metadata": {},
   "outputs": [
    {
     "data": {
      "text/plain": [
       "3772"
      ]
     },
     "metadata": {},
     "output_type": "display_data"
    }
   ],
   "source": [
    "sales_array.sum()"
   ]
  },
  {
   "cell_type": "code",
   "execution_count": null,
   "id": "c2e3aaec",
   "metadata": {},
   "outputs": [
    {
     "data": {
      "text/plain": [
       "377.2"
      ]
     },
     "metadata": {},
     "output_type": "display_data"
    }
   ],
   "source": [
    "sales_array.mean()"
   ]
  },
  {
   "cell_type": "code",
   "execution_count": null,
   "id": "53ff1a51",
   "metadata": {},
   "outputs": [
    {
     "data": {
      "text/plain": [
       "1827"
      ]
     },
     "metadata": {},
     "output_type": "display_data"
    }
   ],
   "source": [
    "sales_array.max()"
   ]
  },
  {
   "cell_type": "code",
   "execution_count": null,
   "id": "b062ec99",
   "metadata": {},
   "outputs": [
    {
     "data": {
      "text/plain": [
       "0"
      ]
     },
     "metadata": {},
     "output_type": "display_data"
    }
   ],
   "source": [
    "sales_array.min()"
   ]
  },
  {
   "cell_type": "code",
   "execution_count": null,
   "id": "089b6af4",
   "metadata": {},
   "outputs": [
    {
     "data": {
      "text/plain": [
       "array([   9, 1832,  771,  317,  843])"
      ]
     },
     "metadata": {},
     "output_type": "display_data"
    }
   ],
   "source": [
    "sales_array.sum(axis=0)"
   ]
  },
  {
   "cell_type": "code",
   "execution_count": null,
   "id": "b2345353",
   "metadata": {},
   "outputs": [
    {
     "data": {
      "text/plain": [
       "array([ 678, 3094])"
      ]
     },
     "metadata": {},
     "output_type": "display_data"
    }
   ],
   "source": [
    "sales_array.sum(axis=1)"
   ]
  },
  {
   "cell_type": "code",
   "execution_count": null,
   "id": "ace8d355",
   "metadata": {},
   "outputs": [
    {
     "data": {
      "text/plain": [
       "236.0"
      ]
     },
     "metadata": {},
     "output_type": "display_data"
    }
   ],
   "source": [
    "np.median(sales_array)"
   ]
  },
  {
   "cell_type": "code",
   "execution_count": null,
   "id": "31777671",
   "metadata": {},
   "outputs": [
    {
     "data": {
      "text/plain": [
       "737.0999999999996"
      ]
     },
     "metadata": {},
     "output_type": "display_data"
    }
   ],
   "source": [
    "np.percentile(sales_array,90)"
   ]
  },
  {
   "cell_type": "code",
   "execution_count": null,
   "id": "5eeced86",
   "metadata": {},
   "outputs": [
    {
     "data": {
      "text/plain": [
       "array([   0,    5,    9,  155,  317,  325,  518,  616, 1827])"
      ]
     },
     "metadata": {},
     "output_type": "display_data"
    }
   ],
   "source": [
    "np.unique(sales_array)"
   ]
  },
  {
   "cell_type": "code",
   "execution_count": null,
   "id": "4555b95a",
   "metadata": {},
   "outputs": [
    {
     "data": {
      "text/plain": [
       "array([[ 0.        ,  2.23606798, 12.4498996 ,  0.        , 22.75961335],\n",
       "       [ 3.        , 42.74342055, 24.81934729, 17.80449381, 18.02775638]])"
      ]
     },
     "metadata": {},
     "output_type": "display_data"
    }
   ],
   "source": [
    "np.sqrt(sales_array)"
   ]
  },
  {
   "cell_type": "code",
   "execution_count": null,
   "id": "a029b8e6",
   "metadata": {},
   "outputs": [
    {
     "data": {
      "text/plain": [
       "array([[   0,    5,  155,    0,  518],\n",
       "       [   9, 1827,  616,  317,  325]])"
      ]
     },
     "metadata": {},
     "output_type": "display_data"
    }
   ],
   "source": [
    "sales_array"
   ]
  },
  {
   "cell_type": "code",
   "execution_count": null,
   "id": "e519e034",
   "metadata": {},
   "outputs": [],
   "source": [
    "sales_array.sort()"
   ]
  },
  {
   "cell_type": "code",
   "execution_count": null,
   "id": "67f2fe57",
   "metadata": {},
   "outputs": [
    {
     "data": {
      "text/plain": [
       "array([[   0,    0,    5,  155,  518],\n",
       "       [   9,  317,  325,  616, 1827]])"
      ]
     },
     "metadata": {},
     "output_type": "display_data"
    }
   ],
   "source": [
    "sales_array"
   ]
  },
  {
   "cell_type": "code",
   "execution_count": null,
   "id": "0c66d944",
   "metadata": {},
   "outputs": [],
   "source": [
    "sales_array.sort(axis=0)"
   ]
  },
  {
   "cell_type": "code",
   "execution_count": null,
   "id": "a08da91d",
   "metadata": {},
   "outputs": [
    {
     "data": {
      "text/plain": [
       "array([[   0,    0,    5,  155,  518],\n",
       "       [   9,  317,  325,  616, 1827]])"
      ]
     },
     "metadata": {},
     "output_type": "display_data"
    }
   ],
   "source": [
    "sales_array"
   ]
  },
  {
   "cell_type": "code",
   "execution_count": null,
   "id": "08c193cb",
   "metadata": {},
   "outputs": [
    {
     "data": {
      "text/plain": [
       "array([[   0,    0,    5,  155,  518],\n",
       "       [   9,  317,  325,  616, 1827]])"
      ]
     },
     "metadata": {},
     "output_type": "display_data"
    }
   ],
   "source": [
    "sales_array.sort(axis=1)\n",
    "sales_array"
   ]
  },
  {
   "cell_type": "code",
   "execution_count": null,
   "id": "0cd4191b",
   "metadata": {},
   "outputs": [],
   "source": [
    "def for_loop_multiply_list(list1,list2):\n",
    "    product_list = []\n",
    "    for element1, element2 in zip(list1,list2):\n",
    "        product_list.append(element1 * element2)\n",
    "    return product_list\n",
    "\n",
    "def multiply_arrays(array1, array2):\n",
    "    return array1 * array2"
   ]
  },
  {
   "cell_type": "code",
   "execution_count": null,
   "id": "360dbbe3",
   "metadata": {},
   "outputs": [],
   "source": [
    "list1 = list(range(1000))\n",
    "list2 = list(range(1000))"
   ]
  },
  {
   "cell_type": "code",
   "execution_count": null,
   "id": "8d5e393a",
   "metadata": {},
   "outputs": [
    {
     "name": "stdout",
     "output_type": "stream",
     "text": [
      "112 µs ± 10.1 µs per loop (mean ± std. dev. of 5 runs, 10,000 loops each)\n"
     ]
    }
   ],
   "source": [
    "%%timeit -r 5 -n 10000\n",
    "for_loop_multiply_list(list1,list2)"
   ]
  },
  {
   "cell_type": "code",
   "execution_count": null,
   "id": "3dce2955",
   "metadata": {},
   "outputs": [],
   "source": [
    "array1 = np.array(list1)\n",
    "array2 = np.array(list2)\n",
    "\n"
   ]
  },
  {
   "cell_type": "code",
   "execution_count": null,
   "id": "67c4e030",
   "metadata": {},
   "outputs": [
    {
     "name": "stdout",
     "output_type": "stream",
     "text": [
      "2.48 µs ± 889 ns per loop (mean ± std. dev. of 5 runs, 10,000 loops each)\n"
     ]
    }
   ],
   "source": [
    "%%timeit -r 5 -n 10000\n",
    "multiply_arrays(array1,array2)"
   ]
  },
  {
   "cell_type": "code",
   "execution_count": null,
   "id": "7752d928",
   "metadata": {},
   "outputs": [
    {
     "data": {
      "text/plain": [
       "array([[   0,    5,  155,    0,  518],\n",
       "       [   9, 1827,  616,  317,  325]])"
      ]
     },
     "metadata": {},
     "output_type": "display_data"
    }
   ],
   "source": [
    "sales_array"
   ]
  },
  {
   "cell_type": "code",
   "execution_count": null,
   "id": "0b6b462c",
   "metadata": {},
   "outputs": [
    {
     "data": {
      "text/plain": [
       "array([[   2,    7,  157,    2,  520],\n",
       "       [  11, 1829,  618,  319,  327]])"
      ]
     },
     "metadata": {},
     "output_type": "display_data"
    }
   ],
   "source": [
    "sales_array + 2"
   ]
  },
  {
   "cell_type": "code",
   "execution_count": null,
   "id": "3ca12a19",
   "metadata": {},
   "outputs": [
    {
     "data": {
      "text/plain": [
       "array([  0,   5, 155,   0, 518])"
      ]
     },
     "metadata": {},
     "output_type": "display_data"
    }
   ],
   "source": [
    "quantity = sales_array[0, :]\n",
    "quantity"
   ]
  },
  {
   "cell_type": "code",
   "execution_count": null,
   "id": "1584c70e",
   "metadata": {},
   "outputs": [],
   "source": [
    "price = sales_array[1, :]"
   ]
  },
  {
   "cell_type": "code",
   "execution_count": null,
   "id": "08642571",
   "metadata": {},
   "outputs": [
    {
     "data": {
      "text/plain": [
       "array([   9, 1827,  616,  317,  325])"
      ]
     },
     "metadata": {},
     "output_type": "display_data"
    }
   ],
   "source": [
    "price"
   ]
  },
  {
   "cell_type": "code",
   "execution_count": null,
   "id": "296467b2",
   "metadata": {},
   "outputs": [
    {
     "data": {
      "text/plain": [
       "array([     0,   9135,  95480,      0, 168350])"
      ]
     },
     "metadata": {},
     "output_type": "display_data"
    }
   ],
   "source": [
    "quantity * price"
   ]
  },
  {
   "cell_type": "markdown",
   "id": "0d38963f",
   "metadata": {},
   "source": [
    "prices = np.array([5.99, 6.99, 22.49, 99.99, 4.99, 49.99])\n",
    "\n",
    "#### Before we do that,\n",
    "\n",
    "* Add a 5 dollar shipping fee to each price. Call this array total.\n",
    "\n",
    "#### Once we have that, we want to use the random_array created in assignment 2 and apply them to the 6 prices.\n",
    "\n",
    "* Grab the first 6 numbers from random_array, reshape it to one dimension. Call this discount_pct.\n",
    "* Subtract discount_pct FROM 1, store this in pct_owed.\n",
    "* Multiply pct_owed by total to get the final amount owed.\n"
   ]
  },
  {
   "cell_type": "code",
   "execution_count": null,
   "id": "e3cc728c",
   "metadata": {},
   "outputs": [
    {
     "data": {
      "text/plain": [
       "array([[0.24742606, 0.09299006, 0.61176337],\n",
       "       [0.06066207, 0.66103343, 0.75515778],\n",
       "       [0.1108689 , 0.04305584, 0.41441747]])"
      ]
     },
     "metadata": {},
     "output_type": "display_data"
    }
   ],
   "source": [
    "random_array"
   ]
  },
  {
   "cell_type": "code",
   "execution_count": null,
   "id": "bb572048",
   "metadata": {},
   "outputs": [],
   "source": [
    "prices = np.array([5.99, 6.99, 22.49, 99.99, 4.99, 49.99])"
   ]
  },
  {
   "cell_type": "code",
   "execution_count": null,
   "id": "703cd383",
   "metadata": {},
   "outputs": [
    {
     "data": {
      "text/plain": [
       "array([ 5.99,  6.99, 22.49, 99.99,  4.99, 49.99])"
      ]
     },
     "metadata": {},
     "output_type": "display_data"
    }
   ],
   "source": [
    "prices"
   ]
  },
  {
   "cell_type": "code",
   "execution_count": null,
   "id": "e08f3467",
   "metadata": {},
   "outputs": [
    {
     "data": {
      "text/plain": [
       "array([ 10.99,  11.99,  27.49, 104.99,   9.99,  54.99])"
      ]
     },
     "metadata": {},
     "output_type": "display_data"
    }
   ],
   "source": [
    "total = prices + 5\n",
    "total"
   ]
  },
  {
   "cell_type": "code",
   "execution_count": null,
   "id": "61116b66",
   "metadata": {},
   "outputs": [
    {
     "data": {
      "text/plain": [
       "array([0.24742606, 0.09299006, 0.61176337, 0.06066207, 0.66103343,\n",
       "       0.75515778])"
      ]
     },
     "metadata": {},
     "output_type": "display_data"
    }
   ],
   "source": [
    "discount_pct = random_array[:2].reshape(6)\n",
    "discount_pct"
   ]
  },
  {
   "cell_type": "code",
   "execution_count": null,
   "id": "c5f907ee",
   "metadata": {},
   "outputs": [
    {
     "data": {
      "text/plain": [
       "array([0.75257394, 0.90700994, 0.38823663, 0.93933793, 0.33896657,\n",
       "       0.24484222])"
      ]
     },
     "metadata": {},
     "output_type": "display_data"
    }
   ],
   "source": [
    "pct_owed = 1 - discount_pct\n",
    "pct_owed"
   ]
  },
  {
   "cell_type": "code",
   "execution_count": null,
   "id": "0a417f05",
   "metadata": {},
   "outputs": [
    {
     "data": {
      "text/plain": [
       "array([ 8.27, 10.88, 10.67, 98.62,  3.39, 13.46])"
      ]
     },
     "metadata": {},
     "output_type": "display_data"
    }
   ],
   "source": [
    "final_owed = total * pct_owed\n",
    "final_owed.round(2)"
   ]
  },
  {
   "cell_type": "markdown",
   "id": "8aa0a418",
   "metadata": {},
   "source": [
    "### FILTERING ARRAYS\n",
    "* You can filter arrays by indexing them with a logical test\n",
    "\n"
   ]
  },
  {
   "cell_type": "code",
   "execution_count": null,
   "id": "64661676",
   "metadata": {},
   "outputs": [
    {
     "data": {
      "text/plain": [
       "array([[   0,    5,  155,    0,  518],\n",
       "       [   9, 1827,  616,  317,  325]])"
      ]
     },
     "metadata": {},
     "output_type": "display_data"
    }
   ],
   "source": [
    "sales_array"
   ]
  },
  {
   "cell_type": "code",
   "execution_count": null,
   "id": "ca983ae2",
   "metadata": {},
   "outputs": [
    {
     "data": {
      "text/plain": [
       "array([[False,  True,  True, False,  True],\n",
       "       [ True,  True,  True,  True,  True]])"
      ]
     },
     "metadata": {},
     "output_type": "display_data"
    }
   ],
   "source": [
    "sales_array != 0"
   ]
  },
  {
   "cell_type": "code",
   "execution_count": null,
   "id": "66ce9c42",
   "metadata": {},
   "outputs": [
    {
     "data": {
      "text/plain": [
       "array([   5,  155,  518,    9, 1827,  616,  317,  325])"
      ]
     },
     "metadata": {},
     "output_type": "display_data"
    }
   ],
   "source": [
    "sales_array[sales_array != 0]"
   ]
  },
  {
   "cell_type": "code",
   "execution_count": null,
   "id": "bbe5192d",
   "metadata": {},
   "outputs": [
    {
     "data": {
      "text/plain": [
       "array([[   0,    5,  155,    0,  518],\n",
       "       [   9, 1827,  616,  317,  325]])"
      ]
     },
     "metadata": {},
     "output_type": "display_data"
    }
   ],
   "source": [
    "sales_array"
   ]
  },
  {
   "cell_type": "code",
   "execution_count": null,
   "id": "108335c3",
   "metadata": {},
   "outputs": [
    {
     "data": {
      "text/plain": [
       "array([616])"
      ]
     },
     "metadata": {},
     "output_type": "display_data"
    }
   ],
   "source": [
    "sales_array[(sales_array==616)]"
   ]
  },
  {
   "cell_type": "code",
   "execution_count": null,
   "id": "49529da1",
   "metadata": {},
   "outputs": [
    {
     "data": {
      "text/plain": [
       "array([  0,   5,   0,   9, 616])"
      ]
     },
     "metadata": {},
     "output_type": "display_data"
    }
   ],
   "source": [
    "sales_array[(sales_array==616) | (sales_array<100)]"
   ]
  },
  {
   "cell_type": "code",
   "execution_count": null,
   "id": "11707788",
   "metadata": {},
   "outputs": [
    {
     "data": {
      "text/plain": [
       "array([155, 317, 325])"
      ]
     },
     "metadata": {},
     "output_type": "display_data"
    }
   ],
   "source": [
    "sales_array[(sales_array>100) & (sales_array<500)]"
   ]
  },
  {
   "cell_type": "code",
   "execution_count": null,
   "id": "5264d336",
   "metadata": {},
   "outputs": [
    {
     "data": {
      "text/plain": [
       "array([155, 317, 325])"
      ]
     },
     "metadata": {},
     "output_type": "display_data"
    }
   ],
   "source": [
    "mask = (sales_array>100) & (sales_array<500)\n",
    "sales_array[mask]"
   ]
  },
  {
   "cell_type": "code",
   "execution_count": null,
   "id": "b17b1a9d",
   "metadata": {},
   "outputs": [
    {
     "data": {
      "text/plain": [
       "array(['fruits', 'vegetables', 'cereal', 'dairy', 'eggs'], dtype='<U10')"
      ]
     },
     "metadata": {},
     "output_type": "display_data"
    }
   ],
   "source": [
    "product_array = np.array(['fruits','vegetables','cereal','dairy','eggs'])\n",
    "product_array"
   ]
  },
  {
   "cell_type": "code",
   "execution_count": null,
   "id": "3158c6cd",
   "metadata": {},
   "outputs": [
    {
     "data": {
      "text/plain": [
       "array([  0,   5, 155,   0, 518])"
      ]
     },
     "metadata": {},
     "output_type": "display_data"
    }
   ],
   "source": [
    "sales_array = sales_array[0,:]\n",
    "sales_array"
   ]
  },
  {
   "cell_type": "code",
   "execution_count": null,
   "id": "6525188f",
   "metadata": {},
   "outputs": [
    {
     "data": {
      "text/plain": [
       "array(['vegetables', 'cereal', 'eggs'], dtype='<U10')"
      ]
     },
     "metadata": {},
     "output_type": "display_data"
    }
   ],
   "source": [
    "product_array[sales_array > 0]"
   ]
  },
  {
   "cell_type": "markdown",
   "id": "d6189ea1",
   "metadata": {},
   "source": [
    "#### MODIFYING ARRAY VALUES\n",
    "* You can modify array values by assigning new ones"
   ]
  },
  {
   "cell_type": "code",
   "execution_count": null,
   "id": "04da8e3b",
   "metadata": {},
   "outputs": [
    {
     "data": {
      "text/plain": [
       "array([  0,   5, 155,   0, 518])"
      ]
     },
     "metadata": {},
     "output_type": "display_data"
    }
   ],
   "source": [
    "sales_array"
   ]
  },
  {
   "cell_type": "code",
   "execution_count": null,
   "id": "b1e6a702",
   "metadata": {},
   "outputs": [],
   "source": [
    "sales_array[1] = 25"
   ]
  },
  {
   "cell_type": "code",
   "execution_count": null,
   "id": "e9ffdd1e",
   "metadata": {},
   "outputs": [
    {
     "data": {
      "text/plain": [
       "array([  0,  25, 155,   0, 518])"
      ]
     },
     "metadata": {},
     "output_type": "display_data"
    }
   ],
   "source": [
    "sales_array"
   ]
  },
  {
   "cell_type": "code",
   "execution_count": null,
   "id": "12cca243",
   "metadata": {},
   "outputs": [
    {
     "data": {
      "text/plain": [
       "array([  5,  25, 155,   5, 518])"
      ]
     },
     "metadata": {},
     "output_type": "display_data"
    }
   ],
   "source": [
    "sales_array[sales_array == 0] = 5\n",
    "sales_array"
   ]
  },
  {
   "cell_type": "markdown",
   "id": "8d212cd2",
   "metadata": {},
   "source": [
    "#### The where function\n",
    "\n",
    "np.where(logicl, value if true, value if false)\n"
   ]
  },
  {
   "cell_type": "code",
   "execution_count": null,
   "id": "c2e8dcde",
   "metadata": {},
   "outputs": [
    {
     "data": {
      "text/plain": [
       "array(['fruits', 'vegetables', 'cereal', 'dairy', 'eggs'], dtype='<U10')"
      ]
     },
     "metadata": {},
     "output_type": "display_data"
    }
   ],
   "source": [
    "product_array"
   ]
  },
  {
   "cell_type": "code",
   "execution_count": null,
   "id": "2620cac4",
   "metadata": {},
   "outputs": [
    {
     "data": {
      "text/plain": [
       "array([ 12, 102,  18,   0,   0])"
      ]
     },
     "metadata": {},
     "output_type": "display_data"
    }
   ],
   "source": [
    "inventory_array = np.array([12,102,18,0,0])\n",
    "inventory_array"
   ]
  },
  {
   "cell_type": "code",
   "execution_count": null,
   "id": "0b1c7871",
   "metadata": {},
   "outputs": [
    {
     "data": {
      "text/plain": [
       "array(['In Stock', 'In Stock', 'In Stock', 'Out of Stock', 'Out of Stock'],\n",
       "      dtype='<U12')"
      ]
     },
     "metadata": {},
     "output_type": "display_data"
    }
   ],
   "source": [
    "np.where(inventory_array<= 0, \"Out of Stock\", \"In Stock\")"
   ]
  },
  {
   "cell_type": "code",
   "execution_count": null,
   "id": "065ae4e5",
   "metadata": {},
   "outputs": [
    {
     "data": {
      "text/plain": [
       "array(['fruits', 'vegetables', 'cereal', 'Out of Stock', 'Out of Stock'],\n",
       "      dtype='<U12')"
      ]
     },
     "metadata": {},
     "output_type": "display_data"
    }
   ],
   "source": [
    "np.where(inventory_array<= 0,\"Out of Stock\",product_array )"
   ]
  },
  {
   "cell_type": "code",
   "execution_count": null,
   "id": "1e8f3471",
   "metadata": {},
   "outputs": [],
   "source": [
    "#### Array aggregation methods "
   ]
  },
  {
   "cell_type": "code",
   "execution_count": null,
   "id": "8fe1f32e",
   "metadata": {},
   "outputs": [
    {
     "data": {
      "text/plain": [
       "array([[   0,    5,  155,    0,  518],\n",
       "       [   9, 1827,  616,  317,  325]])"
      ]
     },
     "metadata": {},
     "output_type": "display_data"
    }
   ],
   "source": [
    "sales = [0, 5, 155, 0, 518, 9, 1827,616, 317, 325]\n",
    "sales_array = np.array(sales).reshape(2,5)\n",
    "sales_array"
   ]
  },
  {
   "cell_type": "code",
   "execution_count": null,
   "id": "1ed55155",
   "metadata": {},
   "outputs": [
    {
     "data": {
      "text/plain": [
       "3772"
      ]
     },
     "metadata": {},
     "output_type": "display_data"
    }
   ],
   "source": [
    "sales_array.sum()"
   ]
  },
  {
   "cell_type": "code",
   "execution_count": null,
   "id": "a925d5d2",
   "metadata": {},
   "outputs": [
    {
     "data": {
      "text/plain": [
       "377.2"
      ]
     },
     "metadata": {},
     "output_type": "display_data"
    }
   ],
   "source": [
    "sales_array.mean()"
   ]
  },
  {
   "cell_type": "code",
   "execution_count": null,
   "id": "535e149a",
   "metadata": {},
   "outputs": [
    {
     "data": {
      "text/plain": [
       "1827"
      ]
     },
     "metadata": {},
     "output_type": "display_data"
    }
   ],
   "source": [
    "sales_array.max()"
   ]
  },
  {
   "cell_type": "code",
   "execution_count": null,
   "id": "ae69d2cb",
   "metadata": {},
   "outputs": [
    {
     "data": {
      "text/plain": [
       "0"
      ]
     },
     "metadata": {},
     "output_type": "display_data"
    }
   ],
   "source": [
    "sales_array.min()"
   ]
  },
  {
   "cell_type": "code",
   "execution_count": null,
   "id": "958dcb8e",
   "metadata": {},
   "outputs": [
    {
     "data": {
      "text/plain": [
       "array([   9, 1832,  771,  317,  843])"
      ]
     },
     "metadata": {},
     "output_type": "display_data"
    }
   ],
   "source": [
    "sales_array.sum(axis=0)"
   ]
  },
  {
   "cell_type": "code",
   "execution_count": null,
   "id": "96fa156a",
   "metadata": {},
   "outputs": [
    {
     "data": {
      "text/plain": [
       "array([ 678, 3094])"
      ]
     },
     "metadata": {},
     "output_type": "display_data"
    }
   ],
   "source": [
    "sales_array.sum(axis=1)"
   ]
  },
  {
   "cell_type": "code",
   "execution_count": null,
   "id": "6445cc65",
   "metadata": {},
   "outputs": [
    {
     "data": {
      "text/plain": [
       "236.0"
      ]
     },
     "metadata": {},
     "output_type": "display_data"
    }
   ],
   "source": [
    "np.median(sales_array)"
   ]
  },
  {
   "cell_type": "code",
   "execution_count": null,
   "id": "21390492",
   "metadata": {},
   "outputs": [
    {
     "data": {
      "text/plain": [
       "737.0999999999996"
      ]
     },
     "metadata": {},
     "output_type": "display_data"
    }
   ],
   "source": [
    "np.percentile(sales_array,90)"
   ]
  },
  {
   "cell_type": "code",
   "execution_count": null,
   "id": "2939d26d",
   "metadata": {},
   "outputs": [
    {
     "data": {
      "text/plain": [
       "array([   0,    5,    9,  155,  317,  325,  518,  616, 1827])"
      ]
     },
     "metadata": {},
     "output_type": "display_data"
    }
   ],
   "source": [
    "np.unique(sales_array)"
   ]
  },
  {
   "cell_type": "code",
   "execution_count": null,
   "id": "f7948050",
   "metadata": {},
   "outputs": [
    {
     "data": {
      "text/plain": [
       "array([[ 0.        ,  2.23606798, 12.4498996 ,  0.        , 22.75961335],\n",
       "       [ 3.        , 42.74342055, 24.81934729, 17.80449381, 18.02775638]])"
      ]
     },
     "metadata": {},
     "output_type": "display_data"
    }
   ],
   "source": [
    "np.sqrt(sales_array)"
   ]
  },
  {
   "cell_type": "code",
   "execution_count": null,
   "id": "f24230ad",
   "metadata": {},
   "outputs": [
    {
     "data": {
      "text/plain": [
       "array([[   0,    5,  155,    0,  518],\n",
       "       [   9, 1827,  616,  317,  325]])"
      ]
     },
     "metadata": {},
     "output_type": "display_data"
    }
   ],
   "source": [
    "sales_array"
   ]
  },
  {
   "cell_type": "code",
   "execution_count": null,
   "id": "ac932aea",
   "metadata": {},
   "outputs": [],
   "source": [
    "sales_array.sort()"
   ]
  },
  {
   "cell_type": "code",
   "execution_count": null,
   "id": "3f16812b",
   "metadata": {},
   "outputs": [
    {
     "data": {
      "text/plain": [
       "array([[   0,    0,    5,  155,  518],\n",
       "       [   9,  317,  325,  616, 1827]])"
      ]
     },
     "metadata": {},
     "output_type": "display_data"
    }
   ],
   "source": [
    "sales_array"
   ]
  },
  {
   "cell_type": "code",
   "execution_count": null,
   "id": "2c1f13a6",
   "metadata": {},
   "outputs": [],
   "source": [
    "sales_array.sort(axis=0)"
   ]
  },
  {
   "cell_type": "code",
   "execution_count": null,
   "id": "77147dc1",
   "metadata": {},
   "outputs": [
    {
     "data": {
      "text/plain": [
       "array([[   0,    0,    5,  155,  518],\n",
       "       [   9,  317,  325,  616, 1827]])"
      ]
     },
     "metadata": {},
     "output_type": "display_data"
    }
   ],
   "source": [
    "sales_array"
   ]
  },
  {
   "cell_type": "code",
   "execution_count": null,
   "id": "e3c3caf9",
   "metadata": {},
   "outputs": [
    {
     "data": {
      "text/plain": [
       "array([[   0,    0,    5,  155,  518],\n",
       "       [   9,  317,  325,  616, 1827]])"
      ]
     },
     "metadata": {},
     "output_type": "display_data"
    }
   ],
   "source": [
    "sales_array.sort(axis=1)\n",
    "sales_array"
   ]
  },
  {
   "cell_type": "code",
   "execution_count": null,
   "id": "56e355ab",
   "metadata": {},
   "outputs": [],
   "source": [
    "def for_loop_multiply_list(list1,list2):\n",
    "    product_list = []\n",
    "    for element1, element2 in zip(list1,list2):\n",
    "        product_list.append(element1 * element2)\n",
    "    return product_list\n",
    "\n",
    "def multiply_arrays(array1, array2):\n",
    "    return array1 * array2"
   ]
  },
  {
   "cell_type": "code",
   "execution_count": null,
   "id": "104e2626",
   "metadata": {},
   "outputs": [],
   "source": [
    "list1 = list(range(1000))\n",
    "list2 = list(range(1000))"
   ]
  },
  {
   "cell_type": "code",
   "execution_count": null,
   "id": "fd5fe283",
   "metadata": {},
   "outputs": [
    {
     "name": "stdout",
     "output_type": "stream",
     "text": [
      "112 µs ± 10.1 µs per loop (mean ± std. dev. of 5 runs, 10,000 loops each)\n"
     ]
    }
   ],
   "source": [
    "%%timeit -r 5 -n 10000\n",
    "for_loop_multiply_list(list1,list2)"
   ]
  },
  {
   "cell_type": "code",
   "execution_count": null,
   "id": "21cfbb7f",
   "metadata": {},
   "outputs": [],
   "source": [
    "array1 = np.array(list1)\n",
    "array2 = np.array(list2)\n",
    "\n"
   ]
  },
  {
   "cell_type": "code",
   "execution_count": null,
   "id": "d0c23f4e",
   "metadata": {},
   "outputs": [
    {
     "name": "stdout",
     "output_type": "stream",
     "text": [
      "2.48 µs ± 889 ns per loop (mean ± std. dev. of 5 runs, 10,000 loops each)\n"
     ]
    }
   ],
   "source": [
    "%%timeit -r 5 -n 10000\n",
    "multiply_arrays(array1,array2)"
   ]
  },
  {
   "cell_type": "code",
   "execution_count": null,
   "id": "2fe37c19",
   "metadata": {},
   "outputs": [
    {
     "data": {
      "text/plain": [
       "array([[   0,    5,  155,    0,  518],\n",
       "       [   9, 1827,  616,  317,  325]])"
      ]
     },
     "metadata": {},
     "output_type": "display_data"
    }
   ],
   "source": [
    "sales_array"
   ]
  },
  {
   "cell_type": "code",
   "execution_count": null,
   "id": "7c838041",
   "metadata": {},
   "outputs": [
    {
     "data": {
      "text/plain": [
       "array([[   2,    7,  157,    2,  520],\n",
       "       [  11, 1829,  618,  319,  327]])"
      ]
     },
     "metadata": {},
     "output_type": "display_data"
    }
   ],
   "source": [
    "sales_array + 2"
   ]
  },
  {
   "cell_type": "code",
   "execution_count": null,
   "id": "69762402",
   "metadata": {},
   "outputs": [
    {
     "data": {
      "text/plain": [
       "array([  0,   5, 155,   0, 518])"
      ]
     },
     "metadata": {},
     "output_type": "display_data"
    }
   ],
   "source": [
    "quantity = sales_array[0, :]\n",
    "quantity"
   ]
  },
  {
   "cell_type": "code",
   "execution_count": null,
   "id": "4dbd0093",
   "metadata": {},
   "outputs": [],
   "source": [
    "price = sales_array[1, :]"
   ]
  },
  {
   "cell_type": "code",
   "execution_count": null,
   "id": "9d3bbaf6",
   "metadata": {},
   "outputs": [
    {
     "data": {
      "text/plain": [
       "array([   9, 1827,  616,  317,  325])"
      ]
     },
     "metadata": {},
     "output_type": "display_data"
    }
   ],
   "source": [
    "price"
   ]
  },
  {
   "cell_type": "code",
   "execution_count": null,
   "id": "4da3ce38",
   "metadata": {},
   "outputs": [
    {
     "data": {
      "text/plain": [
       "array([     0,   9135,  95480,      0, 168350])"
      ]
     },
     "metadata": {},
     "output_type": "display_data"
    }
   ],
   "source": [
    "quantity * price"
   ]
  },
  {
   "cell_type": "markdown",
   "id": "507bbf0f",
   "metadata": {},
   "source": [
    "prices = np.array([5.99, 6.99, 22.49, 99.99, 4.99, 49.99])\n",
    "\n",
    "#### Before we do that,\n",
    "\n",
    "* Add a 5 dollar shipping fee to each price. Call this array total.\n",
    "\n",
    "#### Once we have that, we want to use the random_array created in assignment 2 and apply them to the 6 prices.\n",
    "\n",
    "* Grab the first 6 numbers from random_array, reshape it to one dimension. Call this discount_pct.\n",
    "* Subtract discount_pct FROM 1, store this in pct_owed.\n",
    "* Multiply pct_owed by total to get the final amount owed.\n"
   ]
  },
  {
   "cell_type": "code",
   "execution_count": null,
   "id": "a9f3f18b",
   "metadata": {},
   "outputs": [
    {
     "data": {
      "text/plain": [
       "array([[0.24742606, 0.09299006, 0.61176337],\n",
       "       [0.06066207, 0.66103343, 0.75515778],\n",
       "       [0.1108689 , 0.04305584, 0.41441747]])"
      ]
     },
     "metadata": {},
     "output_type": "display_data"
    }
   ],
   "source": [
    "random_array"
   ]
  },
  {
   "cell_type": "code",
   "execution_count": null,
   "id": "6dd39af7",
   "metadata": {},
   "outputs": [],
   "source": [
    "prices = np.array([5.99, 6.99, 22.49, 99.99, 4.99, 49.99])"
   ]
  },
  {
   "cell_type": "code",
   "execution_count": null,
   "id": "8f2fd8a3",
   "metadata": {},
   "outputs": [
    {
     "data": {
      "text/plain": [
       "array([ 5.99,  6.99, 22.49, 99.99,  4.99, 49.99])"
      ]
     },
     "metadata": {},
     "output_type": "display_data"
    }
   ],
   "source": [
    "prices"
   ]
  },
  {
   "cell_type": "code",
   "execution_count": null,
   "id": "51b40f0a",
   "metadata": {},
   "outputs": [
    {
     "data": {
      "text/plain": [
       "array([ 10.99,  11.99,  27.49, 104.99,   9.99,  54.99])"
      ]
     },
     "metadata": {},
     "output_type": "display_data"
    }
   ],
   "source": [
    "total = prices + 5\n",
    "total"
   ]
  },
  {
   "cell_type": "code",
   "execution_count": null,
   "id": "051b6f6f",
   "metadata": {},
   "outputs": [
    {
     "data": {
      "text/plain": [
       "array([0.24742606, 0.09299006, 0.61176337, 0.06066207, 0.66103343,\n",
       "       0.75515778])"
      ]
     },
     "metadata": {},
     "output_type": "display_data"
    }
   ],
   "source": [
    "discount_pct = random_array[:2].reshape(6)\n",
    "discount_pct"
   ]
  },
  {
   "cell_type": "code",
   "execution_count": null,
   "id": "2ef5f2fb",
   "metadata": {},
   "outputs": [
    {
     "data": {
      "text/plain": [
       "array([0.75257394, 0.90700994, 0.38823663, 0.93933793, 0.33896657,\n",
       "       0.24484222])"
      ]
     },
     "metadata": {},
     "output_type": "display_data"
    }
   ],
   "source": [
    "pct_owed = 1 - discount_pct\n",
    "pct_owed"
   ]
  },
  {
   "cell_type": "code",
   "execution_count": null,
   "id": "ba0d0a3b",
   "metadata": {},
   "outputs": [
    {
     "data": {
      "text/plain": [
       "array([ 8.27, 10.88, 10.67, 98.62,  3.39, 13.46])"
      ]
     },
     "metadata": {},
     "output_type": "display_data"
    }
   ],
   "source": [
    "final_owed = total * pct_owed\n",
    "final_owed.round(2)"
   ]
  },
  {
   "cell_type": "markdown",
   "id": "9f8ee2da",
   "metadata": {},
   "source": [
    "### FILTERING ARRAYS\n",
    "* You can filter arrays by indexing them with a logical test\n",
    "\n"
   ]
  },
  {
   "cell_type": "code",
   "execution_count": null,
   "id": "1774211a",
   "metadata": {},
   "outputs": [
    {
     "data": {
      "text/plain": [
       "array([[   0,    5,  155,    0,  518],\n",
       "       [   9, 1827,  616,  317,  325]])"
      ]
     },
     "metadata": {},
     "output_type": "display_data"
    }
   ],
   "source": [
    "sales_array"
   ]
  },
  {
   "cell_type": "code",
   "execution_count": null,
   "id": "c2db08b2",
   "metadata": {},
   "outputs": [
    {
     "data": {
      "text/plain": [
       "array([[False,  True,  True, False,  True],\n",
       "       [ True,  True,  True,  True,  True]])"
      ]
     },
     "metadata": {},
     "output_type": "display_data"
    }
   ],
   "source": [
    "sales_array != 0"
   ]
  },
  {
   "cell_type": "code",
   "execution_count": null,
   "id": "a4d02fd6",
   "metadata": {},
   "outputs": [
    {
     "data": {
      "text/plain": [
       "array([   5,  155,  518,    9, 1827,  616,  317,  325])"
      ]
     },
     "metadata": {},
     "output_type": "display_data"
    }
   ],
   "source": [
    "sales_array[sales_array != 0]"
   ]
  },
  {
   "cell_type": "code",
   "execution_count": null,
   "id": "a9806ab0",
   "metadata": {},
   "outputs": [
    {
     "data": {
      "text/plain": [
       "array([[   0,    5,  155,    0,  518],\n",
       "       [   9, 1827,  616,  317,  325]])"
      ]
     },
     "metadata": {},
     "output_type": "display_data"
    }
   ],
   "source": [
    "sales_array"
   ]
  },
  {
   "cell_type": "code",
   "execution_count": null,
   "id": "b96066ee",
   "metadata": {},
   "outputs": [
    {
     "data": {
      "text/plain": [
       "array([616])"
      ]
     },
     "metadata": {},
     "output_type": "display_data"
    }
   ],
   "source": [
    "sales_array[(sales_array==616)]"
   ]
  },
  {
   "cell_type": "code",
   "execution_count": null,
   "id": "86ea8a35",
   "metadata": {},
   "outputs": [
    {
     "data": {
      "text/plain": [
       "array([  0,   5,   0,   9, 616])"
      ]
     },
     "metadata": {},
     "output_type": "display_data"
    }
   ],
   "source": [
    "sales_array[(sales_array==616) | (sales_array<100)]"
   ]
  },
  {
   "cell_type": "code",
   "execution_count": null,
   "id": "b5f0473a",
   "metadata": {},
   "outputs": [
    {
     "data": {
      "text/plain": [
       "array([155, 317, 325])"
      ]
     },
     "metadata": {},
     "output_type": "display_data"
    }
   ],
   "source": [
    "sales_array[(sales_array>100) & (sales_array<500)]"
   ]
  },
  {
   "cell_type": "code",
   "execution_count": null,
   "id": "890c6436",
   "metadata": {},
   "outputs": [
    {
     "data": {
      "text/plain": [
       "array([155, 317, 325])"
      ]
     },
     "metadata": {},
     "output_type": "display_data"
    }
   ],
   "source": [
    "mask = (sales_array>100) & (sales_array<500)\n",
    "sales_array[mask]"
   ]
  },
  {
   "cell_type": "code",
   "execution_count": null,
   "id": "bfb294f4",
   "metadata": {},
   "outputs": [
    {
     "data": {
      "text/plain": [
       "array(['fruits', 'vegetables', 'cereal', 'dairy', 'eggs'], dtype='<U10')"
      ]
     },
     "metadata": {},
     "output_type": "display_data"
    }
   ],
   "source": [
    "product_array = np.array(['fruits','vegetables','cereal','dairy','eggs'])\n",
    "product_array"
   ]
  },
  {
   "cell_type": "code",
   "execution_count": null,
   "id": "c94a60b2",
   "metadata": {},
   "outputs": [
    {
     "data": {
      "text/plain": [
       "array([  0,   5, 155,   0, 518])"
      ]
     },
     "metadata": {},
     "output_type": "display_data"
    }
   ],
   "source": [
    "sales_array = sales_array[0,:]\n",
    "sales_array"
   ]
  },
  {
   "cell_type": "code",
   "execution_count": null,
   "id": "ad8b972a",
   "metadata": {},
   "outputs": [
    {
     "data": {
      "text/plain": [
       "array(['vegetables', 'cereal', 'eggs'], dtype='<U10')"
      ]
     },
     "metadata": {},
     "output_type": "display_data"
    }
   ],
   "source": [
    "product_array[sales_array > 0]"
   ]
  },
  {
   "cell_type": "markdown",
   "id": "4174ef4f",
   "metadata": {},
   "source": [
    "#### MODIFYING ARRAY VALUES\n",
    "* You can modify array values by assigning new ones"
   ]
  },
  {
   "cell_type": "code",
   "execution_count": null,
   "id": "83703d0d",
   "metadata": {},
   "outputs": [
    {
     "data": {
      "text/plain": [
       "array([  0,   5, 155,   0, 518])"
      ]
     },
     "metadata": {},
     "output_type": "display_data"
    }
   ],
   "source": [
    "sales_array"
   ]
  },
  {
   "cell_type": "code",
   "execution_count": null,
   "id": "09e429ca",
   "metadata": {},
   "outputs": [],
   "source": [
    "sales_array[1] = 25"
   ]
  },
  {
   "cell_type": "code",
   "execution_count": null,
   "id": "30adec42",
   "metadata": {},
   "outputs": [
    {
     "data": {
      "text/plain": [
       "array([  0,  25, 155,   0, 518])"
      ]
     },
     "metadata": {},
     "output_type": "display_data"
    }
   ],
   "source": [
    "sales_array"
   ]
  },
  {
   "cell_type": "code",
   "execution_count": null,
   "id": "d9ed502e",
   "metadata": {},
   "outputs": [
    {
     "data": {
      "text/plain": [
       "array([  5,  25, 155,   5, 518])"
      ]
     },
     "metadata": {},
     "output_type": "display_data"
    }
   ],
   "source": [
    "sales_array[sales_array == 0] = 5\n",
    "sales_array"
   ]
  },
  {
   "cell_type": "markdown",
   "id": "55c41835",
   "metadata": {},
   "source": [
    "#### The where function\n",
    "\n",
    "np.where(logicl, value if true, value if false)\n"
   ]
  },
  {
   "cell_type": "code",
   "execution_count": null,
   "id": "25febd92",
   "metadata": {},
   "outputs": [
    {
     "data": {
      "text/plain": [
       "array(['fruits', 'vegetables', 'cereal', 'dairy', 'eggs'], dtype='<U10')"
      ]
     },
     "metadata": {},
     "output_type": "display_data"
    }
   ],
   "source": [
    "product_array"
   ]
  },
  {
   "cell_type": "code",
   "execution_count": null,
   "id": "ca8dca5d",
   "metadata": {},
   "outputs": [
    {
     "data": {
      "text/plain": [
       "array([ 12, 102,  18,   0,   0])"
      ]
     },
     "metadata": {},
     "output_type": "display_data"
    }
   ],
   "source": [
    "inventory_array = np.array([12,102,18,0,0])\n",
    "inventory_array"
   ]
  },
  {
   "cell_type": "code",
   "execution_count": null,
   "id": "9850e2db",
   "metadata": {},
   "outputs": [
    {
     "data": {
      "text/plain": [
       "array(['In Stock', 'In Stock', 'In Stock', 'Out of Stock', 'Out of Stock'],\n",
       "      dtype='<U12')"
      ]
     },
     "metadata": {},
     "output_type": "display_data"
    }
   ],
   "source": [
    "np.where(inventory_array<= 0, \"Out of Stock\", \"In Stock\")"
   ]
  },
  {
   "cell_type": "code",
   "execution_count": null,
   "id": "7ec3e904",
   "metadata": {},
   "outputs": [
    {
     "data": {
      "text/plain": [
       "array(['fruits', 'vegetables', 'cereal', 'Out of Stock', 'Out of Stock'],\n",
       "      dtype='<U12')"
      ]
     },
     "metadata": {},
     "output_type": "display_data"
    }
   ],
   "source": [
    "np.where(inventory_array<= 0,\"Out of Stock\",product_array )"
   ]
  },
  {
   "cell_type": "code",
   "execution_count": null,
   "id": "9aedda8f",
   "metadata": {},
   "outputs": [],
   "source": [
    "#### Array aggregation methods "
   ]
  },
  {
   "cell_type": "code",
   "execution_count": null,
   "id": "c1cf6952",
   "metadata": {},
   "outputs": [
    {
     "data": {
      "text/plain": [
       "array([[   0,    5,  155,    0,  518],\n",
       "       [   9, 1827,  616,  317,  325]])"
      ]
     },
     "metadata": {},
     "output_type": "display_data"
    }
   ],
   "source": [
    "sales = [0, 5, 155, 0, 518, 9, 1827,616, 317, 325]\n",
    "sales_array = np.array(sales).reshape(2,5)\n",
    "sales_array"
   ]
  },
  {
   "cell_type": "code",
   "execution_count": null,
   "id": "43d82dff",
   "metadata": {},
   "outputs": [
    {
     "data": {
      "text/plain": [
       "3772"
      ]
     },
     "metadata": {},
     "output_type": "display_data"
    }
   ],
   "source": [
    "sales_array.sum()"
   ]
  },
  {
   "cell_type": "code",
   "execution_count": null,
   "id": "90e2a6a0",
   "metadata": {},
   "outputs": [
    {
     "data": {
      "text/plain": [
       "377.2"
      ]
     },
     "metadata": {},
     "output_type": "display_data"
    }
   ],
   "source": [
    "sales_array.mean()"
   ]
  },
  {
   "cell_type": "code",
   "execution_count": null,
   "id": "8c436e57",
   "metadata": {},
   "outputs": [
    {
     "data": {
      "text/plain": [
       "1827"
      ]
     },
     "metadata": {},
     "output_type": "display_data"
    }
   ],
   "source": [
    "sales_array.max()"
   ]
  },
  {
   "cell_type": "code",
   "execution_count": null,
   "id": "d7593341",
   "metadata": {},
   "outputs": [
    {
     "data": {
      "text/plain": [
       "0"
      ]
     },
     "metadata": {},
     "output_type": "display_data"
    }
   ],
   "source": [
    "sales_array.min()"
   ]
  },
  {
   "cell_type": "code",
   "execution_count": null,
   "id": "7b32d66d",
   "metadata": {},
   "outputs": [
    {
     "data": {
      "text/plain": [
       "array([   9, 1832,  771,  317,  843])"
      ]
     },
     "metadata": {},
     "output_type": "display_data"
    }
   ],
   "source": [
    "sales_array.sum(axis=0)"
   ]
  },
  {
   "cell_type": "code",
   "execution_count": null,
   "id": "cee4ae5e",
   "metadata": {},
   "outputs": [
    {
     "data": {
      "text/plain": [
       "array([ 678, 3094])"
      ]
     },
     "metadata": {},
     "output_type": "display_data"
    }
   ],
   "source": [
    "sales_array.sum(axis=1)"
   ]
  },
  {
   "cell_type": "code",
   "execution_count": null,
   "id": "8b08ae7a",
   "metadata": {},
   "outputs": [
    {
     "data": {
      "text/plain": [
       "236.0"
      ]
     },
     "metadata": {},
     "output_type": "display_data"
    }
   ],
   "source": [
    "np.median(sales_array)"
   ]
  },
  {
   "cell_type": "code",
   "execution_count": null,
   "id": "479d027b",
   "metadata": {},
   "outputs": [
    {
     "data": {
      "text/plain": [
       "737.0999999999996"
      ]
     },
     "metadata": {},
     "output_type": "display_data"
    }
   ],
   "source": [
    "np.percentile(sales_array,90)"
   ]
  },
  {
   "cell_type": "code",
   "execution_count": null,
   "id": "77d762af",
   "metadata": {},
   "outputs": [
    {
     "data": {
      "text/plain": [
       "array([   0,    5,    9,  155,  317,  325,  518,  616, 1827])"
      ]
     },
     "metadata": {},
     "output_type": "display_data"
    }
   ],
   "source": [
    "np.unique(sales_array)"
   ]
  },
  {
   "cell_type": "code",
   "execution_count": null,
   "id": "7e8ea391",
   "metadata": {},
   "outputs": [
    {
     "data": {
      "text/plain": [
       "array([[ 0.        ,  2.23606798, 12.4498996 ,  0.        , 22.75961335],\n",
       "       [ 3.        , 42.74342055, 24.81934729, 17.80449381, 18.02775638]])"
      ]
     },
     "metadata": {},
     "output_type": "display_data"
    }
   ],
   "source": [
    "np.sqrt(sales_array)"
   ]
  },
  {
   "cell_type": "code",
   "execution_count": null,
   "id": "235708f5",
   "metadata": {},
   "outputs": [
    {
     "data": {
      "text/plain": [
       "array([[   0,    5,  155,    0,  518],\n",
       "       [   9, 1827,  616,  317,  325]])"
      ]
     },
     "metadata": {},
     "output_type": "display_data"
    }
   ],
   "source": [
    "sales_array"
   ]
  },
  {
   "cell_type": "code",
   "execution_count": null,
   "id": "b97bcec7",
   "metadata": {},
   "outputs": [],
   "source": [
    "sales_array.sort()"
   ]
  },
  {
   "cell_type": "code",
   "execution_count": null,
   "id": "a021535d",
   "metadata": {},
   "outputs": [
    {
     "data": {
      "text/plain": [
       "array([[   0,    0,    5,  155,  518],\n",
       "       [   9,  317,  325,  616, 1827]])"
      ]
     },
     "metadata": {},
     "output_type": "display_data"
    }
   ],
   "source": [
    "sales_array"
   ]
  },
  {
   "cell_type": "code",
   "execution_count": null,
   "id": "6b0ca857",
   "metadata": {},
   "outputs": [],
   "source": [
    "sales_array.sort(axis=0)"
   ]
  },
  {
   "cell_type": "code",
   "execution_count": null,
   "id": "5f18d91e",
   "metadata": {},
   "outputs": [
    {
     "data": {
      "text/plain": [
       "array([[   0,    0,    5,  155,  518],\n",
       "       [   9,  317,  325,  616, 1827]])"
      ]
     },
     "metadata": {},
     "output_type": "display_data"
    }
   ],
   "source": [
    "sales_array"
   ]
  },
  {
   "cell_type": "code",
   "execution_count": null,
   "id": "07cc6c73",
   "metadata": {},
   "outputs": [
    {
     "data": {
      "text/plain": [
       "array([[   0,    0,    5,  155,  518],\n",
       "       [   9,  317,  325,  616, 1827]])"
      ]
     },
     "metadata": {},
     "output_type": "display_data"
    }
   ],
   "source": [
    "sales_array.sort(axis=1)\n",
    "sales_array"
   ]
  },
  {
   "cell_type": "code",
   "execution_count": null,
   "id": "dda53494",
   "metadata": {},
   "outputs": [],
   "source": [
    "def for_loop_multiply_list(list1,list2):\n",
    "    product_list = []\n",
    "    for element1, element2 in zip(list1,list2):\n",
    "        product_list.append(element1 * element2)\n",
    "    return product_list\n",
    "\n",
    "def multiply_arrays(array1, array2):\n",
    "    return array1 * array2"
   ]
  },
  {
   "cell_type": "code",
   "execution_count": null,
   "id": "f1f64ed7",
   "metadata": {},
   "outputs": [],
   "source": [
    "list1 = list(range(1000))\n",
    "list2 = list(range(1000))"
   ]
  },
  {
   "cell_type": "code",
   "execution_count": null,
   "id": "754462fb",
   "metadata": {},
   "outputs": [
    {
     "name": "stdout",
     "output_type": "stream",
     "text": [
      "112 µs ± 10.1 µs per loop (mean ± std. dev. of 5 runs, 10,000 loops each)\n"
     ]
    }
   ],
   "source": [
    "%%timeit -r 5 -n 10000\n",
    "for_loop_multiply_list(list1,list2)"
   ]
  },
  {
   "cell_type": "code",
   "execution_count": null,
   "id": "1256d8ff",
   "metadata": {},
   "outputs": [],
   "source": [
    "array1 = np.array(list1)\n",
    "array2 = np.array(list2)\n",
    "\n"
   ]
  },
  {
   "cell_type": "code",
   "execution_count": null,
   "id": "4270209f",
   "metadata": {},
   "outputs": [
    {
     "name": "stdout",
     "output_type": "stream",
     "text": [
      "2.48 µs ± 889 ns per loop (mean ± std. dev. of 5 runs, 10,000 loops each)\n"
     ]
    }
   ],
   "source": [
    "%%timeit -r 5 -n 10000\n",
    "multiply_arrays(array1,array2)"
   ]
  }
 ],
 "metadata": {
  "kernelspec": {
   "display_name": "Python 3 (ipykernel)",
   "language": "python",
   "name": "python3"
  },
  "language_info": {
   "codemirror_mode": {
    "name": "ipython",
    "version": 3
   },
   "file_extension": ".py",
   "mimetype": "text/x-python",
   "name": "python",
   "nbconvert_exporter": "python",
   "pygments_lexer": "ipython3",
   "version": "3.12.0"
  }
 },
 "nbformat": 4,
 "nbformat_minor": 5
}

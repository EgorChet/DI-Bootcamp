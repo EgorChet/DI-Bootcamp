{
 "cells": [
  {
   "cell_type": "markdown",
   "id": "277291c9-7daa-43f6-bef1-4dca0d8a195e",
   "metadata": {},
   "source": [
    "# Daily Challenge : Titanic"
   ]
  },
  {
   "cell_type": "markdown",
   "id": "856e9572-7672-41e7-9a47-8568b03a4ac2",
   "metadata": {},
   "source": [
    "## Dataset Analysis\n",
    "In this project, you’ll work with the Titanic dataset. The objective is to use basic pandas, numpy, and matplotlib techniques to preprocess, explore, and analyze the data. You'll aim to gather insights about the survival of passengers on the Titanic and understand the factors that may have influenced their survival.\n",
    "\n",
    "### Tasks Outline:\n",
    "1. **Load the Data**\n",
    "2. **Explore the Data**\n",
    "3. **Visualize the Data**\n",
    "4. **Preprocess the Data**\n",
    "5. **Data Analysis**\n",
    "\n",
    "---\n",
    "\n",
    "### 1. Load the Data:\n",
    "- Import the Titanic dataset and convert it into a pandas DataFrame.\n",
    "- Ensure that you have the necessary libraries (pandas, numpy, matplotlib) installed and imported.\n"
   ]
  },
  {
   "cell_type": "code",
   "execution_count": 1,
   "id": "ddf2d18b-8d00-419f-b202-075999527ece",
   "metadata": {},
   "outputs": [],
   "source": [
    "# Importing libraries and loading the data\n",
    "import pandas as pd\n",
    "import numpy as np\n",
    "import matplotlib.pyplot as plt\n",
    "df = pd.read_csv('titanic.csv')"
   ]
  },
  {
   "cell_type": "markdown",
   "id": "cb8dbc8c-568f-4d10-afa5-ceeae3889f2e",
   "metadata": {},
   "source": [
    "## 2. Explore the Data:"
   ]
  },
  {
   "cell_type": "code",
   "execution_count": 2,
   "id": "78d6b3b4-46bf-471a-befe-a9a6b6c948be",
   "metadata": {},
   "outputs": [
    {
     "name": "stdout",
     "output_type": "stream",
     "text": [
      "<class 'pandas.core.frame.DataFrame'>\n",
      "RangeIndex: 891 entries, 0 to 890\n",
      "Data columns (total 12 columns):\n",
      " #   Column       Non-Null Count  Dtype  \n",
      "---  ------       --------------  -----  \n",
      " 0   PassengerId  891 non-null    int64  \n",
      " 1   Survived     891 non-null    int64  \n",
      " 2   Pclass       891 non-null    int64  \n",
      " 3   Name         891 non-null    object \n",
      " 4   Sex          891 non-null    object \n",
      " 5   Age          714 non-null    float64\n",
      " 6   SibSp        891 non-null    int64  \n",
      " 7   Parch        891 non-null    int64  \n",
      " 8   Ticket       891 non-null    object \n",
      " 9   Fare         891 non-null    float64\n",
      " 10  Cabin        204 non-null    object \n",
      " 11  Embarked     889 non-null    object \n",
      "dtypes: float64(2), int64(5), object(5)\n",
      "memory usage: 83.7+ KB\n"
     ]
    }
   ],
   "source": [
    "df.info()"
   ]
  },
  {
   "cell_type": "code",
   "execution_count": 3,
   "id": "2c17d811-fc93-49f2-94ce-264bd13a4a3c",
   "metadata": {},
   "outputs": [
    {
     "data": {
      "text/html": [
       "<div>\n",
       "<style scoped>\n",
       "    .dataframe tbody tr th:only-of-type {\n",
       "        vertical-align: middle;\n",
       "    }\n",
       "\n",
       "    .dataframe tbody tr th {\n",
       "        vertical-align: top;\n",
       "    }\n",
       "\n",
       "    .dataframe thead th {\n",
       "        text-align: right;\n",
       "    }\n",
       "</style>\n",
       "<table border=\"1\" class=\"dataframe\">\n",
       "  <thead>\n",
       "    <tr style=\"text-align: right;\">\n",
       "      <th></th>\n",
       "      <th>PassengerId</th>\n",
       "      <th>Survived</th>\n",
       "      <th>Pclass</th>\n",
       "      <th>Age</th>\n",
       "      <th>SibSp</th>\n",
       "      <th>Parch</th>\n",
       "      <th>Fare</th>\n",
       "    </tr>\n",
       "  </thead>\n",
       "  <tbody>\n",
       "    <tr>\n",
       "      <th>count</th>\n",
       "      <td>891.000000</td>\n",
       "      <td>891.000000</td>\n",
       "      <td>891.000000</td>\n",
       "      <td>714.000000</td>\n",
       "      <td>891.000000</td>\n",
       "      <td>891.000000</td>\n",
       "      <td>891.000000</td>\n",
       "    </tr>\n",
       "    <tr>\n",
       "      <th>mean</th>\n",
       "      <td>446.000000</td>\n",
       "      <td>0.383838</td>\n",
       "      <td>2.308642</td>\n",
       "      <td>29.699118</td>\n",
       "      <td>0.523008</td>\n",
       "      <td>0.381594</td>\n",
       "      <td>32.204208</td>\n",
       "    </tr>\n",
       "    <tr>\n",
       "      <th>std</th>\n",
       "      <td>257.353842</td>\n",
       "      <td>0.486592</td>\n",
       "      <td>0.836071</td>\n",
       "      <td>14.526497</td>\n",
       "      <td>1.102743</td>\n",
       "      <td>0.806057</td>\n",
       "      <td>49.693429</td>\n",
       "    </tr>\n",
       "    <tr>\n",
       "      <th>min</th>\n",
       "      <td>1.000000</td>\n",
       "      <td>0.000000</td>\n",
       "      <td>1.000000</td>\n",
       "      <td>0.420000</td>\n",
       "      <td>0.000000</td>\n",
       "      <td>0.000000</td>\n",
       "      <td>0.000000</td>\n",
       "    </tr>\n",
       "    <tr>\n",
       "      <th>25%</th>\n",
       "      <td>223.500000</td>\n",
       "      <td>0.000000</td>\n",
       "      <td>2.000000</td>\n",
       "      <td>20.125000</td>\n",
       "      <td>0.000000</td>\n",
       "      <td>0.000000</td>\n",
       "      <td>7.910400</td>\n",
       "    </tr>\n",
       "    <tr>\n",
       "      <th>50%</th>\n",
       "      <td>446.000000</td>\n",
       "      <td>0.000000</td>\n",
       "      <td>3.000000</td>\n",
       "      <td>28.000000</td>\n",
       "      <td>0.000000</td>\n",
       "      <td>0.000000</td>\n",
       "      <td>14.454200</td>\n",
       "    </tr>\n",
       "    <tr>\n",
       "      <th>75%</th>\n",
       "      <td>668.500000</td>\n",
       "      <td>1.000000</td>\n",
       "      <td>3.000000</td>\n",
       "      <td>38.000000</td>\n",
       "      <td>1.000000</td>\n",
       "      <td>0.000000</td>\n",
       "      <td>31.000000</td>\n",
       "    </tr>\n",
       "    <tr>\n",
       "      <th>max</th>\n",
       "      <td>891.000000</td>\n",
       "      <td>1.000000</td>\n",
       "      <td>3.000000</td>\n",
       "      <td>80.000000</td>\n",
       "      <td>8.000000</td>\n",
       "      <td>6.000000</td>\n",
       "      <td>512.329200</td>\n",
       "    </tr>\n",
       "  </tbody>\n",
       "</table>\n",
       "</div>"
      ],
      "text/plain": [
       "       PassengerId    Survived      Pclass         Age       SibSp  \\\n",
       "count   891.000000  891.000000  891.000000  714.000000  891.000000   \n",
       "mean    446.000000    0.383838    2.308642   29.699118    0.523008   \n",
       "std     257.353842    0.486592    0.836071   14.526497    1.102743   \n",
       "min       1.000000    0.000000    1.000000    0.420000    0.000000   \n",
       "25%     223.500000    0.000000    2.000000   20.125000    0.000000   \n",
       "50%     446.000000    0.000000    3.000000   28.000000    0.000000   \n",
       "75%     668.500000    1.000000    3.000000   38.000000    1.000000   \n",
       "max     891.000000    1.000000    3.000000   80.000000    8.000000   \n",
       "\n",
       "            Parch        Fare  \n",
       "count  891.000000  891.000000  \n",
       "mean     0.381594   32.204208  \n",
       "std      0.806057   49.693429  \n",
       "min      0.000000    0.000000  \n",
       "25%      0.000000    7.910400  \n",
       "50%      0.000000   14.454200  \n",
       "75%      0.000000   31.000000  \n",
       "max      6.000000  512.329200  "
      ]
     },
     "execution_count": 3,
     "metadata": {},
     "output_type": "execute_result"
    }
   ],
   "source": [
    "df.describe()"
   ]
  },
  {
   "cell_type": "code",
   "execution_count": 4,
   "id": "2b492c54-94d7-4e5b-b304-6eeb74f9ced8",
   "metadata": {},
   "outputs": [
    {
     "data": {
      "text/html": [
       "<div>\n",
       "<style scoped>\n",
       "    .dataframe tbody tr th:only-of-type {\n",
       "        vertical-align: middle;\n",
       "    }\n",
       "\n",
       "    .dataframe tbody tr th {\n",
       "        vertical-align: top;\n",
       "    }\n",
       "\n",
       "    .dataframe thead th {\n",
       "        text-align: right;\n",
       "    }\n",
       "</style>\n",
       "<table border=\"1\" class=\"dataframe\">\n",
       "  <thead>\n",
       "    <tr style=\"text-align: right;\">\n",
       "      <th></th>\n",
       "      <th>PassengerId</th>\n",
       "      <th>Survived</th>\n",
       "      <th>Pclass</th>\n",
       "      <th>Name</th>\n",
       "      <th>Sex</th>\n",
       "      <th>Age</th>\n",
       "      <th>SibSp</th>\n",
       "      <th>Parch</th>\n",
       "      <th>Ticket</th>\n",
       "      <th>Fare</th>\n",
       "      <th>Cabin</th>\n",
       "      <th>Embarked</th>\n",
       "    </tr>\n",
       "  </thead>\n",
       "  <tbody>\n",
       "    <tr>\n",
       "      <th>0</th>\n",
       "      <td>1</td>\n",
       "      <td>0</td>\n",
       "      <td>3</td>\n",
       "      <td>Braund, Mr. Owen Harris</td>\n",
       "      <td>male</td>\n",
       "      <td>22.0</td>\n",
       "      <td>1</td>\n",
       "      <td>0</td>\n",
       "      <td>A/5 21171</td>\n",
       "      <td>7.2500</td>\n",
       "      <td>NaN</td>\n",
       "      <td>S</td>\n",
       "    </tr>\n",
       "    <tr>\n",
       "      <th>1</th>\n",
       "      <td>2</td>\n",
       "      <td>1</td>\n",
       "      <td>1</td>\n",
       "      <td>Cumings, Mrs. John Bradley (Florence Briggs Th...</td>\n",
       "      <td>female</td>\n",
       "      <td>38.0</td>\n",
       "      <td>1</td>\n",
       "      <td>0</td>\n",
       "      <td>PC 17599</td>\n",
       "      <td>71.2833</td>\n",
       "      <td>C85</td>\n",
       "      <td>C</td>\n",
       "    </tr>\n",
       "    <tr>\n",
       "      <th>2</th>\n",
       "      <td>3</td>\n",
       "      <td>1</td>\n",
       "      <td>3</td>\n",
       "      <td>Heikkinen, Miss. Laina</td>\n",
       "      <td>female</td>\n",
       "      <td>26.0</td>\n",
       "      <td>0</td>\n",
       "      <td>0</td>\n",
       "      <td>STON/O2. 3101282</td>\n",
       "      <td>7.9250</td>\n",
       "      <td>NaN</td>\n",
       "      <td>S</td>\n",
       "    </tr>\n",
       "    <tr>\n",
       "      <th>3</th>\n",
       "      <td>4</td>\n",
       "      <td>1</td>\n",
       "      <td>1</td>\n",
       "      <td>Futrelle, Mrs. Jacques Heath (Lily May Peel)</td>\n",
       "      <td>female</td>\n",
       "      <td>35.0</td>\n",
       "      <td>1</td>\n",
       "      <td>0</td>\n",
       "      <td>113803</td>\n",
       "      <td>53.1000</td>\n",
       "      <td>C123</td>\n",
       "      <td>S</td>\n",
       "    </tr>\n",
       "    <tr>\n",
       "      <th>4</th>\n",
       "      <td>5</td>\n",
       "      <td>0</td>\n",
       "      <td>3</td>\n",
       "      <td>Allen, Mr. William Henry</td>\n",
       "      <td>male</td>\n",
       "      <td>35.0</td>\n",
       "      <td>0</td>\n",
       "      <td>0</td>\n",
       "      <td>373450</td>\n",
       "      <td>8.0500</td>\n",
       "      <td>NaN</td>\n",
       "      <td>S</td>\n",
       "    </tr>\n",
       "  </tbody>\n",
       "</table>\n",
       "</div>"
      ],
      "text/plain": [
       "   PassengerId  Survived  Pclass  \\\n",
       "0            1         0       3   \n",
       "1            2         1       1   \n",
       "2            3         1       3   \n",
       "3            4         1       1   \n",
       "4            5         0       3   \n",
       "\n",
       "                                                Name     Sex   Age  SibSp  \\\n",
       "0                            Braund, Mr. Owen Harris    male  22.0      1   \n",
       "1  Cumings, Mrs. John Bradley (Florence Briggs Th...  female  38.0      1   \n",
       "2                             Heikkinen, Miss. Laina  female  26.0      0   \n",
       "3       Futrelle, Mrs. Jacques Heath (Lily May Peel)  female  35.0      1   \n",
       "4                           Allen, Mr. William Henry    male  35.0      0   \n",
       "\n",
       "   Parch            Ticket     Fare Cabin Embarked  \n",
       "0      0         A/5 21171   7.2500   NaN        S  \n",
       "1      0          PC 17599  71.2833   C85        C  \n",
       "2      0  STON/O2. 3101282   7.9250   NaN        S  \n",
       "3      0            113803  53.1000  C123        S  \n",
       "4      0            373450   8.0500   NaN        S  "
      ]
     },
     "execution_count": 4,
     "metadata": {},
     "output_type": "execute_result"
    }
   ],
   "source": [
    "df.head()"
   ]
  },
  {
   "cell_type": "markdown",
   "id": "3086832f-24f4-4f7c-9d30-006565eef8e8",
   "metadata": {},
   "source": [
    "## 3. Visualize the Data:"
   ]
  },
  {
   "cell_type": "markdown",
   "id": "5a2a0b1c-a46e-49f4-8061-49f1c684c095",
   "metadata": {},
   "source": [
    "#### Create a pie chart to show the ratio of male to female passengers."
   ]
  },
  {
   "cell_type": "code",
   "execution_count": 6,
   "id": "a48aeb12-02ef-4482-932d-c64f61978291",
   "metadata": {},
   "outputs": [
    {
     "data": {
      "image/png": "[encoded data removed]",
      "text/plain": [
       "<Figure size 800x600 with 1 Axes>"
      ]
     },
     "metadata": {},
     "output_type": "display_data"
    }
   ],
   "source": [
    "# Count the occurrences of each sex\n",
    "sex_counts = df['Sex'].value_counts()\n",
    "\n",
    "# Create a pie chart\n",
    "plt.figure(figsize=(8, 6))\n",
    "plt.pie(sex_counts, labels=sex_counts.index, autopct='%1.1f%%', startangle=140, colors=['skyblue', 'lightpink'])\n",
    "plt.title('Distribution of Passengers by Sex')\n",
    "plt.show()"
   ]
  },
  {
   "cell_type": "markdown",
   "id": "a0e8b507-8ee0-40f3-9da4-c2be26ad3a9a",
   "metadata": {},
   "source": [
    "#### Create a histogram to show the distribution of passenger ages."
   ]
  },
  {
   "cell_type": "code",
   "execution_count": 7,
   "id": "dce5663d-875e-4a74-9dd6-544bbb24ac66",
   "metadata": {},
   "outputs": [
    {
     "data": {
      "image/png": "[encoded data removed]",
      "text/plain": [
       "<Figure size 1000x600 with 1 Axes>"
      ]
     },
     "metadata": {},
     "output_type": "display_data"
    }
   ],
   "source": [
    "# Decide the number of bins\n",
    "number_of_bins = 6 # for example, change this number based on your specific analysis needs\n",
    "\n",
    "# Create the histogram\n",
    "plt.figure(figsize=(10, 6))\n",
    "plt.hist(df['Age'], bins=number_of_bins, color='skyblue', edgecolor='black')\n",
    "\n",
    "# Add title and labels\n",
    "plt.title('Distribution of Passenger Ages')\n",
    "plt.xlabel('Age')\n",
    "plt.ylabel('Frequency')\n",
    "\n",
    "# Show the plot\n",
    "plt.show()"
   ]
  },
  {
   "cell_type": "markdown",
   "id": "f915d42e-b4d3-401b-aa29-642d3ecb7f9a",
   "metadata": {},
   "source": [
    "#### Create a bar plot to show the number of passengers who survived and didn’t survive."
   ]
  },
  {
   "cell_type": "code",
   "execution_count": 8,
   "id": "c3e33697-d796-4233-9d14-9324a93c5bd9",
   "metadata": {},
   "outputs": [
    {
     "data": {
      "image/png": "[encoded data removed]",
      "text/plain": [
       "<Figure size 640x480 with 1 Axes>"
      ]
     },
     "metadata": {},
     "output_type": "display_data"
    }
   ],
   "source": [
    "# Get the value counts\n",
    "survived_counts = df['Survived'].value_counts()\n",
    "\n",
    "# Create a bar plot\n",
    "ax = survived_counts.plot(kind='bar', color='skyblue', edgecolor='black')\n",
    "\n",
    "# Add labels and a title\n",
    "plt.xlabel('Survived')\n",
    "plt.ylabel('Count')\n",
    "plt.title('Distribution of Survived')\n",
    "\n",
    "# Set custom x-axis labels\n",
    "ax.set_xticks([0, 1])\n",
    "ax.set_xticklabels(['Not Survived', 'Survived'], rotation=0)\n",
    "\n",
    "# Show the plot\n",
    "plt.show()"
   ]
  },
  {
   "cell_type": "markdown",
   "id": "669fab3c-eabe-4570-b753-03cbbbb1404a",
   "metadata": {},
   "source": [
    "#### Create a stacked bar plot to show the number of passengers who survived and didn’t survive, split by gender."
   ]
  },
  {
   "cell_type": "code",
   "execution_count": 9,
   "id": "6c7e7d13-cb1e-44f0-9269-7f65f90a4b73",
   "metadata": {},
   "outputs": [
    {
     "data": {
      "text/html": [
       "<div>\n",
       "<style scoped>\n",
       "    .dataframe tbody tr th:only-of-type {\n",
       "        vertical-align: middle;\n",
       "    }\n",
       "\n",
       "    .dataframe tbody tr th {\n",
       "        vertical-align: top;\n",
       "    }\n",
       "\n",
       "    .dataframe thead th {\n",
       "        text-align: right;\n",
       "    }\n",
       "</style>\n",
       "<table border=\"1\" class=\"dataframe\">\n",
       "  <thead>\n",
       "    <tr style=\"text-align: right;\">\n",
       "      <th>Survived</th>\n",
       "      <th>0</th>\n",
       "      <th>1</th>\n",
       "    </tr>\n",
       "    <tr>\n",
       "      <th>Sex</th>\n",
       "      <th></th>\n",
       "      <th></th>\n",
       "    </tr>\n",
       "  </thead>\n",
       "  <tbody>\n",
       "    <tr>\n",
       "      <th>female</th>\n",
       "      <td>81</td>\n",
       "      <td>233</td>\n",
       "    </tr>\n",
       "    <tr>\n",
       "      <th>male</th>\n",
       "      <td>468</td>\n",
       "      <td>109</td>\n",
       "    </tr>\n",
       "  </tbody>\n",
       "</table>\n",
       "</div>"
      ],
      "text/plain": [
       "Survived    0    1\n",
       "Sex               \n",
       "female     81  233\n",
       "male      468  109"
      ]
     },
     "execution_count": 9,
     "metadata": {},
     "output_type": "execute_result"
    }
   ],
   "source": [
    "# Group the data by 'Sex' and 'Survived', and calculate the counts\n",
    "survival_gender_counts = df.groupby(['Sex', 'Survived']).size().unstack()\n",
    "survival_gender_counts"
   ]
  },
  {
   "cell_type": "code",
   "execution_count": 10,
   "id": "41477f0c-63e6-47d0-9c39-0c35d5f71e53",
   "metadata": {},
   "outputs": [
    {
     "data": {
      "image/png": "[encoded data removed]",
      "text/plain": [
       "<Figure size 640x480 with 1 Axes>"
      ]
     },
     "metadata": {},
     "output_type": "display_data"
    }
   ],
   "source": [
    "# Create a stacked bar plot\n",
    "ax = survival_gender_counts.plot(kind='bar', stacked=True, color=['skyblue', 'salmon'], edgecolor='black')\n",
    "\n",
    "# Add labels and a title\n",
    "plt.xlabel('Gender')\n",
    "plt.ylabel('Percentage')\n",
    "plt.title('Survival Percentage by Gender')\n",
    "\n",
    "# Show the plot\n",
    "plt.show()"
   ]
  },
  {
   "cell_type": "markdown",
   "id": "cab5c6a2-6c54-400c-bdd1-043e31213086",
   "metadata": {},
   "source": [
    "#### Below is a little bonus it was not part of the task but I was just curious how to add the percentage signs to this kind of graph"
   ]
  },
  {
   "cell_type": "code",
   "execution_count": 11,
   "id": "1e0e61ae-fa94-49df-91f4-1d6ac8586036",
   "metadata": {},
   "outputs": [
    {
     "data": {
      "image/png": "[encoded data removed]",
      "text/plain": [
       "<Figure size 640x480 with 1 Axes>"
      ]
     },
     "metadata": {},
     "output_type": "display_data"
    }
   ],
   "source": [
    "# Calculate the total count of passengers for each gender\n",
    "total_gender_counts = survival_gender_counts.sum(axis=1)\n",
    "\n",
    "# Calculate the percentage of survival for each gender\n",
    "survival_gender_percentage = survival_gender_counts.div(total_gender_counts, axis=0) * 100\n",
    "\n",
    "# Create a stacked bar plot\n",
    "ax = survival_gender_percentage.plot(kind='bar', stacked=True, color=['skyblue', 'salmon'], edgecolor='black')\n",
    "\n",
    "# Add labels and a title\n",
    "plt.xlabel('Gender')\n",
    "plt.ylabel('Percentage')\n",
    "plt.title('Survival Percentage by Gender')\n",
    "\n",
    "# Add percentage labels on top of the bars\n",
    "for bars in ax.containers:\n",
    "    # Format the label to display percentage with one decimal place\n",
    "    labels = [f'{w.get_height():.1f}%' if w.get_height() > 0 else '' for w in bars]\n",
    "\n",
    "    # Set the labels on the bars\n",
    "    ax.bar_label(bars, labels=labels, label_type='center', color='black')\n",
    "\n",
    "# Show the plot\n",
    "plt.show()\n"
   ]
  },
  {
   "cell_type": "markdown",
   "id": "e5cbfe82-ca51-43ff-9852-8a02b2b3b829",
   "metadata": {},
   "source": [
    "#### Create a scatter plot to show the correlation between fare and age."
   ]
  },
  {
   "cell_type": "code",
   "execution_count": 12,
   "id": "7ddd86b5-a693-410f-bb2b-6e7e79c5133c",
   "metadata": {},
   "outputs": [
    {
     "name": "stdout",
     "output_type": "stream",
     "text": [
      "Correlation between Fare and Age: 0.10\n"
     ]
    }
   ],
   "source": [
    "correlation = df['Fare'].corr(df['Age'])\n",
    "\n",
    "print(f'Correlation between Fare and Age: {correlation:.2f}')"
   ]
  },
  {
   "cell_type": "code",
   "execution_count": 13,
   "id": "b6ccf5de-a8c7-4518-a888-f5a167eb6ba6",
   "metadata": {},
   "outputs": [
    {
     "data": {
      "image/png": "[encoded data removed]",
      "text/plain": [
       "<Figure size 640x480 with 1 Axes>"
      ]
     },
     "metadata": {},
     "output_type": "display_data"
    }
   ],
   "source": [
    "# Create a scatter plot\n",
    "plt.scatter(df['Age'], df['Fare'], alpha=0.5, c='b')\n",
    "\n",
    "# Add labels and a title\n",
    "plt.xlabel('Age')\n",
    "plt.ylabel('Fare')\n",
    "plt.title('Correlation between Fare and Age')\n",
    "\n",
    "# Show the plot\n",
    "plt.grid(True)\n",
    "plt.show()"
   ]
  },
  {
   "cell_type": "markdown",
   "id": "6dc63d3c-cd9e-4a01-8cf1-050bc976a363",
   "metadata": {},
   "source": [
    "#### A correlation coefficient of 0.12 suggests a very weak positive correlation between \"Fare\" and \"Age\" in our dataset. In general, when the correlation coefficient is close to 0, like in our case, it indicates that there is little to no linear relationship between the two variables."
   ]
  },
  {
   "cell_type": "markdown",
   "id": "9ffeb684-2dbf-4ecf-95c0-615d41199531",
   "metadata": {},
   "source": [
    "## 4. Preprocess the data:"
   ]
  },
  {
   "cell_type": "markdown",
   "id": "c4e85072-a225-4c13-a06e-ca4c64258f8f",
   "metadata": {},
   "source": [
    "#### Handle missing values in the ‘Age’ column by replacing them with the mean or median age."
   ]
  },
  {
   "cell_type": "code",
   "execution_count": 14,
   "id": "6b5a2941-5b1e-4562-ba29-8bd2d67cb85c",
   "metadata": {},
   "outputs": [
    {
     "name": "stdout",
     "output_type": "stream",
     "text": [
      "0\n"
     ]
    }
   ],
   "source": [
    "median_age = df['Age'].median()\n",
    "\n",
    "# Fill missing values in the 'Age' column with the median age\n",
    "df['Age'].fillna(median_age, inplace=True)\n",
    "\n",
    "# Verifing that missing values have been filled\n",
    "print(df['Age'].isnull().sum())"
   ]
  },
  {
   "cell_type": "markdown",
   "id": "cea47e3f-7158-4054-a9b6-41aed530b2b3",
   "metadata": {},
   "source": [
    "#### Normalize the ‘Fare’ column using a suitable method."
   ]
  },
  {
   "cell_type": "code",
   "execution_count": 15,
   "id": "eb1cd297-3ada-43f1-ba34-664db8ccbdf0",
   "metadata": {},
   "outputs": [
    {
     "data": {
      "text/plain": [
       "0    0.014151\n",
       "1    0.139136\n",
       "2    0.015469\n",
       "3    0.103644\n",
       "4    0.015713\n",
       "5    0.016510\n",
       "6    0.101229\n",
       "7    0.041136\n",
       "8    0.021731\n",
       "9    0.058694\n",
       "Name: Fare_normalized, dtype: float64"
      ]
     },
     "execution_count": 15,
     "metadata": {},
     "output_type": "execute_result"
    }
   ],
   "source": [
    "fare_min = df['Fare'].min()\n",
    "fare_max = df['Fare'].max()\n",
    "\n",
    "# Min-Max scaling formula\n",
    "df['Fare_normalized'] = (df['Fare'] - fare_min) / (fare_max - fare_min)\n",
    "df['Fare_normalized'].head(10)"
   ]
  },
  {
   "cell_type": "markdown",
   "id": "0e50ff6e-2f13-46fe-886b-8739e90f3aec",
   "metadata": {},
   "source": [
    "#### Convert the ‘Sex’ column into numerical representation using one-hot encoding."
   ]
  },
  {
   "cell_type": "code",
   "execution_count": 16,
   "id": "bf563d85-a479-4a6c-ad32-1331422e1c58",
   "metadata": {},
   "outputs": [
    {
     "data": {
      "text/html": [
       "<div>\n",
       "<style scoped>\n",
       "    .dataframe tbody tr th:only-of-type {\n",
       "        vertical-align: middle;\n",
       "    }\n",
       "\n",
       "    .dataframe tbody tr th {\n",
       "        vertical-align: top;\n",
       "    }\n",
       "\n",
       "    .dataframe thead th {\n",
       "        text-align: right;\n",
       "    }\n",
       "</style>\n",
       "<table border=\"1\" class=\"dataframe\">\n",
       "  <thead>\n",
       "    <tr style=\"text-align: right;\">\n",
       "      <th></th>\n",
       "      <th>PassengerId</th>\n",
       "      <th>Survived</th>\n",
       "      <th>Pclass</th>\n",
       "      <th>Name</th>\n",
       "      <th>Age</th>\n",
       "      <th>SibSp</th>\n",
       "      <th>Parch</th>\n",
       "      <th>Ticket</th>\n",
       "      <th>Fare</th>\n",
       "      <th>Cabin</th>\n",
       "      <th>Embarked</th>\n",
       "      <th>Fare_normalized</th>\n",
       "      <th>Sex_female</th>\n",
       "      <th>Sex_male</th>\n",
       "    </tr>\n",
       "  </thead>\n",
       "  <tbody>\n",
       "    <tr>\n",
       "      <th>0</th>\n",
       "      <td>1</td>\n",
       "      <td>0</td>\n",
       "      <td>3</td>\n",
       "      <td>Braund, Mr. Owen Harris</td>\n",
       "      <td>22.0</td>\n",
       "      <td>1</td>\n",
       "      <td>0</td>\n",
       "      <td>A/5 21171</td>\n",
       "      <td>7.2500</td>\n",
       "      <td>NaN</td>\n",
       "      <td>S</td>\n",
       "      <td>0.014151</td>\n",
       "      <td>False</td>\n",
       "      <td>True</td>\n",
       "    </tr>\n",
       "    <tr>\n",
       "      <th>1</th>\n",
       "      <td>2</td>\n",
       "      <td>1</td>\n",
       "      <td>1</td>\n",
       "      <td>Cumings, Mrs. John Bradley (Florence Briggs Th...</td>\n",
       "      <td>38.0</td>\n",
       "      <td>1</td>\n",
       "      <td>0</td>\n",
       "      <td>PC 17599</td>\n",
       "      <td>71.2833</td>\n",
       "      <td>C85</td>\n",
       "      <td>C</td>\n",
       "      <td>0.139136</td>\n",
       "      <td>True</td>\n",
       "      <td>False</td>\n",
       "    </tr>\n",
       "    <tr>\n",
       "      <th>2</th>\n",
       "      <td>3</td>\n",
       "      <td>1</td>\n",
       "      <td>3</td>\n",
       "      <td>Heikkinen, Miss. Laina</td>\n",
       "      <td>26.0</td>\n",
       "      <td>0</td>\n",
       "      <td>0</td>\n",
       "      <td>STON/O2. 3101282</td>\n",
       "      <td>7.9250</td>\n",
       "      <td>NaN</td>\n",
       "      <td>S</td>\n",
       "      <td>0.015469</td>\n",
       "      <td>True</td>\n",
       "      <td>False</td>\n",
       "    </tr>\n",
       "    <tr>\n",
       "      <th>3</th>\n",
       "      <td>4</td>\n",
       "      <td>1</td>\n",
       "      <td>1</td>\n",
       "      <td>Futrelle, Mrs. Jacques Heath (Lily May Peel)</td>\n",
       "      <td>35.0</td>\n",
       "      <td>1</td>\n",
       "      <td>0</td>\n",
       "      <td>113803</td>\n",
       "      <td>53.1000</td>\n",
       "      <td>C123</td>\n",
       "      <td>S</td>\n",
       "      <td>0.103644</td>\n",
       "      <td>True</td>\n",
       "      <td>False</td>\n",
       "    </tr>\n",
       "    <tr>\n",
       "      <th>4</th>\n",
       "      <td>5</td>\n",
       "      <td>0</td>\n",
       "      <td>3</td>\n",
       "      <td>Allen, Mr. William Henry</td>\n",
       "      <td>35.0</td>\n",
       "      <td>0</td>\n",
       "      <td>0</td>\n",
       "      <td>373450</td>\n",
       "      <td>8.0500</td>\n",
       "      <td>NaN</td>\n",
       "      <td>S</td>\n",
       "      <td>0.015713</td>\n",
       "      <td>False</td>\n",
       "      <td>True</td>\n",
       "    </tr>\n",
       "  </tbody>\n",
       "</table>\n",
       "</div>"
      ],
      "text/plain": [
       "   PassengerId  Survived  Pclass  \\\n",
       "0            1         0       3   \n",
       "1            2         1       1   \n",
       "2            3         1       3   \n",
       "3            4         1       1   \n",
       "4            5         0       3   \n",
       "\n",
       "                                                Name   Age  SibSp  Parch  \\\n",
       "0                            Braund, Mr. Owen Harris  22.0      1      0   \n",
       "1  Cumings, Mrs. John Bradley (Florence Briggs Th...  38.0      1      0   \n",
       "2                             Heikkinen, Miss. Laina  26.0      0      0   \n",
       "3       Futrelle, Mrs. Jacques Heath (Lily May Peel)  35.0      1      0   \n",
       "4                           Allen, Mr. William Henry  35.0      0      0   \n",
       "\n",
       "             Ticket     Fare Cabin Embarked  Fare_normalized  Sex_female  \\\n",
       "0         A/5 21171   7.2500   NaN        S         0.014151       False   \n",
       "1          PC 17599  71.2833   C85        C         0.139136        True   \n",
       "2  STON/O2. 3101282   7.9250   NaN        S         0.015469        True   \n",
       "3            113803  53.1000  C123        S         0.103644        True   \n",
       "4            373450   8.0500   NaN        S         0.015713       False   \n",
       "\n",
       "   Sex_male  \n",
       "0      True  \n",
       "1     False  \n",
       "2     False  \n",
       "3     False  \n",
       "4      True  "
      ]
     },
     "execution_count": 16,
     "metadata": {},
     "output_type": "execute_result"
    }
   ],
   "source": [
    "df = pd.get_dummies(df, columns=['Sex'])\n",
    "df.head()"
   ]
  },
  {
   "cell_type": "markdown",
   "id": "8c70db1f-dd2f-4615-9954-2ebd71548efe",
   "metadata": {},
   "source": [
    "## 5. Data Analysis:"
   ]
  },
  {
   "cell_type": "markdown",
   "id": "acfe46ae-4773-45e8-b304-b35fc90e917e",
   "metadata": {},
   "source": [
    "#### Calculate the survival rate for different genders."
   ]
  },
  {
   "cell_type": "code",
   "execution_count": 19,
   "id": "43ffb05a-e635-4253-9dd0-f6ffab368b89",
   "metadata": {},
   "outputs": [
    {
     "name": "stdout",
     "output_type": "stream",
     "text": [
      "\n",
      "Survival rates in percentages:\n",
      "Male: 18.89%\n",
      "Female: 74.20%\n"
     ]
    }
   ],
   "source": [
    "survival_rate_male = df[df['Sex_male'] == 1]['Survived'].mean() * 100\n",
    "survival_rate_female = df[df['Sex_female'] == 1]['Survived'].mean() * 100\n",
    "\n",
    "print(\"\\nSurvival rates in percentages:\")\n",
    "print(f\"Male: {survival_rate_male:.2f}%\")\n",
    "print(f\"Female: {survival_rate_female:.2f}%\")"
   ]
  },
  {
   "cell_type": "markdown",
   "id": "5a122d24-6b5e-479e-bf8d-809f250f57d0",
   "metadata": {},
   "source": [
    "#### Calculate the survival rate for different passenger classes."
   ]
  },
  {
   "cell_type": "code",
   "execution_count": 20,
   "id": "438e220f-c08e-4732-a588-b8ea20c471e0",
   "metadata": {},
   "outputs": [
    {
     "name": "stdout",
     "output_type": "stream",
     "text": [
      "\n",
      "Survival rates by passenger class (in %):\n",
      "Pclass\n",
      "1    62.962963\n",
      "2    47.282609\n",
      "3    24.236253\n",
      "Name: Survived, dtype: float64\n"
     ]
    }
   ],
   "source": [
    "survival_rates_pclass = df.groupby('Pclass')['Survived'].mean() * 100\n",
    "print(\"\\nSurvival rates by passenger class (in %):\")\n",
    "print(survival_rates_pclass)"
   ]
  },
  {
   "cell_type": "markdown",
   "id": "073fd258-21f0-4af4-812a-939e2bc41f45",
   "metadata": {},
   "source": [
    "#### Identify the passenger with the highest fare."
   ]
  },
  {
   "cell_type": "code",
   "execution_count": 25,
   "id": "eb7d597d-2099-4f21-aada-052c09d0e20e",
   "metadata": {},
   "outputs": [
    {
     "name": "stdout",
     "output_type": "stream",
     "text": [
      "\n",
      "Passenger(s) with the highest fare:\n",
      "                                   Name      Fare  Survived\n",
      "258                    Ward, Miss. Anna  512.3292         1\n",
      "679  Cardeza, Mr. Thomas Drake Martinez  512.3292         1\n",
      "737              Lesurer, Mr. Gustave J  512.3292         1\n"
     ]
    }
   ],
   "source": [
    "max_fare = df['Fare'].max()\n",
    "passenger_with_highest_fare = df[df['Fare'] == max_fare]\n",
    "print(\"\\nPassenger(s) with the highest fare:\")\n",
    "print(passenger_with_highest_fare[['Name', 'Fare', \"Survived\"]])"
   ]
  },
  {
   "cell_type": "code",
   "execution_count": 53,
   "id": "ddb39dac-e242-45c9-a7e2-edf4a1b3dbd8",
   "metadata": {},
   "outputs": [
    {
     "name": "stdout",
     "output_type": "stream",
     "text": [
      "Passengers sorted by fare (highest first):\n"
     ]
    },
    {
     "data": {
      "text/html": [
       "<div>\n",
       "<style scoped>\n",
       "    .dataframe tbody tr th:only-of-type {\n",
       "        vertical-align: middle;\n",
       "    }\n",
       "\n",
       "    .dataframe tbody tr th {\n",
       "        vertical-align: top;\n",
       "    }\n",
       "\n",
       "    .dataframe thead th {\n",
       "        text-align: right;\n",
       "    }\n",
       "</style>\n",
       "<table border=\"1\" class=\"dataframe\">\n",
       "  <thead>\n",
       "    <tr style=\"text-align: right;\">\n",
       "      <th></th>\n",
       "      <th>Name</th>\n",
       "      <th>Age</th>\n",
       "      <th>Sex_female</th>\n",
       "      <th>Sex_male</th>\n",
       "      <th>Fare</th>\n",
       "      <th>Survived</th>\n",
       "    </tr>\n",
       "  </thead>\n",
       "  <tbody>\n",
       "    <tr>\n",
       "      <th>258</th>\n",
       "      <td>Ward, Miss. Anna</td>\n",
       "      <td>35.0</td>\n",
       "      <td>True</td>\n",
       "      <td>False</td>\n",
       "      <td>512.3292</td>\n",
       "      <td>1</td>\n",
       "    </tr>\n",
       "    <tr>\n",
       "      <th>737</th>\n",
       "      <td>Lesurer, Mr. Gustave J</td>\n",
       "      <td>35.0</td>\n",
       "      <td>False</td>\n",
       "      <td>True</td>\n",
       "      <td>512.3292</td>\n",
       "      <td>1</td>\n",
       "    </tr>\n",
       "    <tr>\n",
       "      <th>679</th>\n",
       "      <td>Cardeza, Mr. Thomas Drake Martinez</td>\n",
       "      <td>36.0</td>\n",
       "      <td>False</td>\n",
       "      <td>True</td>\n",
       "      <td>512.3292</td>\n",
       "      <td>1</td>\n",
       "    </tr>\n",
       "  </tbody>\n",
       "</table>\n",
       "</div>"
      ],
      "text/plain": [
       "                                   Name   Age  Sex_female  Sex_male      Fare  \\\n",
       "258                    Ward, Miss. Anna  35.0        True     False  512.3292   \n",
       "737              Lesurer, Mr. Gustave J  35.0       False      True  512.3292   \n",
       "679  Cardeza, Mr. Thomas Drake Martinez  36.0       False      True  512.3292   \n",
       "\n",
       "     Survived  \n",
       "258         1  \n",
       "737         1  \n",
       "679         1  "
      ]
     },
     "execution_count": 53,
     "metadata": {},
     "output_type": "execute_result"
    }
   ],
   "source": [
    "# Sort the DataFrame by 'Fare' in descending order to see the highest fares first.\n",
    "sorted_df = df.sort_values(by='Fare', ascending=False)\n",
    "\n",
    "# Select only the specified columns.\n",
    "selected_columns = sorted_df[['Name', 'Age', 'Sex_female', 'Sex_male', 'Fare', 'Survived']]\n",
    "\n",
    "# Display the resulting DataFrame.\n",
    "print(\"Passengers sorted by fare (highest first):\")\n",
    "selected_columns.head(3)\n"
   ]
  }
 ],
 "metadata": {
  "kernelspec": {
   "display_name": "Python 3 (ipykernel)",
   "language": "python",
   "name": "python3"
  },
  "language_info": {
   "codemirror_mode": {
    "name": "ipython",
    "version": 3
   },
   "file_extension": ".py",
   "mimetype": "text/x-python",
   "name": "python",
   "nbconvert_exporter": "python",
   "pygments_lexer": "ipython3",
   "version": "3.11.5"
  }
 },
 "nbformat": 4,
 "nbformat_minor": 5
}
